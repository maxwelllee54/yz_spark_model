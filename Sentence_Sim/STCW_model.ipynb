{
 "cells": [
  {
   "cell_type": "code",
   "execution_count": 20,
   "metadata": {
    "collapsed": true
   },
   "outputs": [],
   "source": [
    "import nltk\n",
    "import re\n",
    "from nltk.corpus import wordnet as wn\n",
    "from itertools import product\n",
    "from nltk.corpus import wordnet_ic\n",
    "\n",
    "\n",
    "def get_sim_score(word_1, word_2, info_content):\n",
    "    \"\"\" \n",
    "    Calculate the highest path similarity among all pairs. \n",
    "    \"\"\"\n",
    "\n",
    "    if word_1 == word_2:\n",
    "        return 1\n",
    "    else:\n",
    "        max_sim = 0.0\n",
    "        synsets_1 = wn.synsets(word_1)\n",
    "        synsets_2 = wn.synsets(word_2)\n",
    "        if synsets_1 and synsets_2:\n",
    "            for synset_1, synset_2 in product(synsets_1, synsets_2):\n",
    "                try:\n",
    "                    sim = wn.lin_similarity(synset_1, synset_2, info_content)\n",
    "                    #sim = wn.jcn_similarity(synset_1, synset_2, info_content)\n",
    "                    #sim = wn.wup_similarity(synset_1, synset_2)\n",
    "                    if sim > max_sim:\n",
    "                        max_sim = sim\n",
    "                except:\n",
    "                    continue\n",
    "\n",
    "            return max_sim\n",
    "        return max_sim\n",
    "\n",
    "def remove_dup(seq):\n",
    "    seen = set()\n",
    "    return [x for x in seq if not (x in seen or seen.add(x))]\n",
    "\n",
    "\n",
    "def mySim(text1, text2, sigma=0.85, w=0.3, corpus='ic-brown-resnik.dat'):\n",
    "    # set stop words\n",
    "    stopwords = nltk.corpus.stopwords.words('english')\n",
    "    # set variables\n",
    "    x = []\n",
    "    y = []\n",
    "    dic = {}\n",
    "    info_content = wordnet_ic.ic(corpus)\n",
    "\n",
    "    # clean raw text\n",
    "    text1 = re.sub('[^a-zA-Z]', ' ', text1).lower()\n",
    "    text2 = re.sub('[^a-zA-Z]', ' ', text2).lower()\n",
    "\n",
    "    # tokenize inputs into vectors\n",
    "    token_p = nltk.word_tokenize(text1, language='english')\n",
    "    token_r = nltk.word_tokenize(text2, language='english')\n",
    "\n",
    "    concept_p = [words for words in token_p if words not in stopwords]\n",
    "    concept_r = [words for words in token_r if words not in stopwords]\n",
    "\n",
    "    \n",
    "    \n",
    "    # pos the tokens and n-grams\n",
    "    pos_p = [word for word, tag in nltk.pos_tag(concept_p) if tag.startswith('NN') or tag.startswith('JJ')]\n",
    "    pos_p.extend([' '.join(words).strip() for words in nltk.ngrams(pos_p, 2)])\n",
    "    \n",
    "    pos_r = [word for word, tag in nltk.pos_tag(concept_r) if tag.startswith('NN') or tag.startswith('JJ')]\n",
    "    pos_r.extend([' '.join(words).strip() for words in nltk.ngrams(pos_r, 2)])\n",
    "    \n",
    "    #print(pos_p, pos_r)\n",
    "    \n",
    " \n",
    "    total_sim = 0\n",
    "    total_count = 0\n",
    " \n",
    "    for w1, w2 in product(pos_p, pos_r):\n",
    "        sim = 0\n",
    "        w1_set = set(w1.split())\n",
    "        w2_set = set(w2.split())\n",
    "        \n",
    "        count = 0\n",
    "        for t1, t2 in product(w1_set, w2_set):\n",
    "            sim += get_sim_score(t1, t2, info_content)\n",
    "            count += 1\n",
    "            \n",
    "            \n",
    "        if sim/count >= sigma:\n",
    "            total_sim += sim\n",
    "            total_count += 1\n",
    "            \n",
    "            x.append(w1)\n",
    "            y.append(w2)\n",
    "            dic[w1] = w2            \n",
    "            #print(sim, '\\t\\t', w1_set, '|',  w2_set)\n",
    "\n",
    "    concept_x = [words for words in pos_p if words in x]\n",
    "    concept_y = [words for words in pos_r if words in y]\n",
    "\n",
    "    print(set(x), set(y))\n",
    "    \n",
    "    if total_count:\n",
    "        return  total_sim/total_count\n",
    "    else:\n",
    "        return 0\n",
    "\n",
    "\n",
    "    \n",
    "def concept_matching(concepts, sentence, sigma=0.85, w=0.3, corpus='ic-brown-resnik.dat'):\n",
    "    # set stop words\n",
    "    stopwords = nltk.corpus.stopwords.words('english')\n",
    "    # set variables\n",
    "    x = []\n",
    "    y = []\n",
    "    dic = {}\n",
    "    info_content = wordnet_ic.ic(corpus)\n",
    "\n",
    "    # clean raw text\n",
    "    concepts = [re.sub('[^a-zA-Z]', ' ', word).lower() for word in concepts]\n",
    "    context = re.sub('[^a-zA-Z]', ' ', sentence).lower()\n",
    "\n",
    "    # tokenize inputs into vectors\n",
    "    tokens = nltk.word_tokenize(context, language='english')\n",
    "    \n",
    "    # remove stopwords\n",
    "    concept_p = [words for words in tokens if words not in stopwords]\n",
    "\n",
    "    \n",
    "    \n",
    "    # pos the tokens and n-grams\n",
    "    pos_p = [word for word, tag in nltk.pos_tag(concept_p) if tag.startswith('NN') or tag.startswith('JJ')]\n",
    "    pos_p.extend([' '.join(words).strip() for words in nltk.ngrams(pos_p, 2)])\n",
    "    \n",
    "    #print(pos_p)\n",
    "\n",
    "    count = 0\n",
    "    total_sim = 0\n",
    "    \n",
    "    for w1, w2 in product(concepts, pos_p):\n",
    "        sim = 0\n",
    "        w1_set = set(w1.split())\n",
    "        w2_set = set(w2.split())\n",
    "        for t1, t2 in product(w1_set, w2_set):\n",
    "            sim += get_sim_score(t1, t2, info_content)\n",
    "            #print(sim, '\\t\\t', t1, t2, '\\t\\t', w1_set, '|',  w2_set)\n",
    "            \n",
    "            \n",
    "        if sim >= sigma:\n",
    "\n",
    "            count += 1\n",
    "            total_sim += sim\n",
    "            \n",
    "            #x.append(w1)\n",
    "            #y.append(w2)\n",
    "            #dic[w1] = w2\n",
    "            #print(sim, '\\t\\t', w1_set, '|',  w2_set)\n",
    "\n",
    "    #concept_x = [words for words in concepts if words in x]\n",
    "    #concept_y = [words for words in pos_p if words in y]\n",
    "\n",
    "    #print(concept_x, concept_y)\n",
    "    if count:\n",
    "        return  total_sim/count\n",
    "    else:\n",
    "        return 0"
   ]
  },
  {
   "cell_type": "code",
   "execution_count": 13,
   "metadata": {},
   "outputs": [
    {
     "data": {
      "text/html": [
       "<div>\n",
       "<table border=\"1\" class=\"dataframe\">\n",
       "  <thead>\n",
       "    <tr style=\"text-align: right;\">\n",
       "      <th></th>\n",
       "      <th>goal</th>\n",
       "      <th>text</th>\n",
       "    </tr>\n",
       "  </thead>\n",
       "  <tbody>\n",
       "    <tr>\n",
       "      <th>0</th>\n",
       "      <td>1.1</td>\n",
       "      <td>By 2030, eradicate extreme povert yfor all peo...</td>\n",
       "    </tr>\n",
       "    <tr>\n",
       "      <th>1</th>\n",
       "      <td>1.2</td>\n",
       "      <td>By 2030, reduce at least by half the proportio...</td>\n",
       "    </tr>\n",
       "    <tr>\n",
       "      <th>2</th>\n",
       "      <td>1.3</td>\n",
       "      <td>Implement nationally appropriate social protec...</td>\n",
       "    </tr>\n",
       "    <tr>\n",
       "      <th>3</th>\n",
       "      <td>1.4</td>\n",
       "      <td>By 2030, ensure that all men and women, in par...</td>\n",
       "    </tr>\n",
       "    <tr>\n",
       "      <th>4</th>\n",
       "      <td>1.5</td>\n",
       "      <td>By 2030, build the resilience of the poor and ...</td>\n",
       "    </tr>\n",
       "    <tr>\n",
       "      <th>5</th>\n",
       "      <td>2.1</td>\n",
       "      <td>By 2030, end hunger and ensure access by all p...</td>\n",
       "    </tr>\n",
       "    <tr>\n",
       "      <th>6</th>\n",
       "      <td>2.2</td>\n",
       "      <td>By 2030, end all forms of malnutrition, includ...</td>\n",
       "    </tr>\n",
       "    <tr>\n",
       "      <th>7</th>\n",
       "      <td>2.3</td>\n",
       "      <td>By 2030, double the agricultural productivity ...</td>\n",
       "    </tr>\n",
       "    <tr>\n",
       "      <th>8</th>\n",
       "      <td>2.4</td>\n",
       "      <td>By 2030, ensure sustainable food production sy...</td>\n",
       "    </tr>\n",
       "    <tr>\n",
       "      <th>9</th>\n",
       "      <td>2.5</td>\n",
       "      <td>By 2020, maintain the genetic diversity of see...</td>\n",
       "    </tr>\n",
       "  </tbody>\n",
       "</table>\n",
       "</div>"
      ],
      "text/plain": [
       "<div>\n",
       "<table border=\"1\" class=\"dataframe\">\n",
       "  <thead>\n",
       "    <tr style=\"text-align: right;\">\n",
       "      <th></th>\n",
       "      <th>goal</th>\n",
       "      <th>text</th>\n",
       "    </tr>\n",
       "  </thead>\n",
       "  <tbody>\n",
       "    <tr>\n",
       "      <th>0</th>\n",
       "      <td>1.1</td>\n",
       "      <td>By 2030, eradicate extreme povert yfor all peo...</td>\n",
       "    </tr>\n",
       "    <tr>\n",
       "      <th>1</th>\n",
       "      <td>1.2</td>\n",
       "      <td>By 2030, reduce at least by half the proportio...</td>\n",
       "    </tr>\n",
       "    <tr>\n",
       "      <th>2</th>\n",
       "      <td>1.3</td>\n",
       "      <td>Implement nationally appropriate social protec...</td>\n",
       "    </tr>\n",
       "    <tr>\n",
       "      <th>3</th>\n",
       "      <td>1.4</td>\n",
       "      <td>By 2030, ensure that all men and women, in par...</td>\n",
       "    </tr>\n",
       "    <tr>\n",
       "      <th>4</th>\n",
       "      <td>1.5</td>\n",
       "      <td>By 2030, build the resilience of the poor and ...</td>\n",
       "    </tr>\n",
       "    <tr>\n",
       "      <th>5</th>\n",
       "      <td>2.1</td>\n",
       "      <td>By 2030, end hunger and ensure access by all p...</td>\n",
       "    </tr>\n",
       "    <tr>\n",
       "      <th>6</th>\n",
       "      <td>2.2</td>\n",
       "      <td>By 2030, end all forms of malnutrition, includ...</td>\n",
       "    </tr>\n",
       "    <tr>\n",
       "      <th>7</th>\n",
       "      <td>2.3</td>\n",
       "      <td>By 2030, double the agricultural productivity ...</td>\n",
       "    </tr>\n",
       "    <tr>\n",
       "      <th>8</th>\n",
       "      <td>2.4</td>\n",
       "      <td>By 2030, ensure sustainable food production sy...</td>\n",
       "    </tr>\n",
       "    <tr>\n",
       "      <th>9</th>\n",
       "      <td>2.5</td>\n",
       "      <td>By 2020, maintain the genetic diversity of see...</td>\n",
       "    </tr>\n",
       "  </tbody>\n",
       "</table>\n",
       "</div>"
      ]
     },
     "execution_count": 13,
     "metadata": {},
     "output_type": "execute_result"
    }
   ],
   "source": [
    "import pandas as pd\n",
    "\n",
    "df = pd.read_csv('bhutan_sentence.csv')[['sector', 'sentence']]\n",
    "goals = pd.read_csv('SDG_Goal.csv')\n",
    "goals.columns = ['goal', 'text']\n",
    "\n",
    "goals.head(10)"
   ]
  },
  {
   "cell_type": "code",
   "execution_count": 14,
   "metadata": {},
   "outputs": [],
   "source": [
    "count = 1\n",
    "\n",
    "for ind in goals.index.values:\n",
    "    target = goals.loc[ind, 'text']\n",
    "    goal = goals.loc[ind, 'goal']\n",
    "    for i in df.index.values:\n",
    "        df.loc[i , goal] = mySim(df.loc[i, 'sentence'], target)\n",
    "    \n",
    "    count += 1\n",
    "    if count > 5:\n",
    "        break"
   ]
  },
  {
   "cell_type": "code",
   "execution_count": 24,
   "metadata": {},
   "outputs": [],
   "source": [
    "df.to_csv('test0423_3.csv')"
   ]
  },
  {
   "cell_type": "code",
   "execution_count": null,
   "metadata": {},
   "outputs": [],
   "source": [
    ""
   ]
  },
  {
   "cell_type": "code",
   "execution_count": 79,
   "metadata": {},
   "outputs": [
    {
     "data": {
      "text/plain": [
       "3.75e+299"
      ]
     },
     "execution_count": 79,
     "metadata": {},
     "output_type": "execute_result"
    }
   ],
   "source": [
    "concept_matching(['pingpong', 'best players'], 'Many consider Malin as the best player in PingPong history', 1 )"
   ]
  },
  {
   "cell_type": "code",
   "execution_count": 23,
   "metadata": {
    "collapsed": false
   },
   "outputs": [
    {
     "name": "stdout",
     "output_type": "stream",
     "text": [
      "{'pingpong', 'player', 'best', 'malin'} {'pingpong', 'players', 'best', 'malin'}\n"
     ]
    },
    {
     "data": {
      "text/plain": [
       "1.0"
      ]
     },
     "execution_count": 23,
     "metadata": {},
     "output_type": "execute_result"
    }
   ],
   "source": [
    "mySim('Many consider Malin as the best player in PingPong history', 'Malin is one of the best PingPong players', 0.85)"
   ]
  },
  {
   "cell_type": "code",
   "execution_count": 40,
   "metadata": {
    "collapsed": false
   },
   "outputs": [],
   "source": [
    "from nltk import tokenize\n",
    "with open('/Users/maxwelllee54/GitHubs/Rapid_Assessment_Tools/Bhutan_Input.txt') as f:\n",
    "    data = f.read()\n",
    "    sen = tokenize.sent_tokenize(data)"
   ]
  },
  {
   "cell_type": "code",
   "execution_count": 7,
   "metadata": {},
   "outputs": [],
   "source": [
    "goal1_1 = ['extreme poverty']"
   ]
  },
  {
   "cell_type": "code",
   "execution_count": 8,
   "metadata": {},
   "outputs": [],
   "source": [
    "target1_1 = 'By 2030, eradicate extreme poverty for all people everywhere, currently measured as people living on less than $1.25 a day'"
   ]
  },
  {
   "cell_type": "code",
   "execution_count": 9,
   "metadata": {},
   "outputs": [],
   "source": [
    "test = 'An educated citizenry that is able to understand, translate and act upon information, laws, rights and responsibilities is critical for ensuring a \"vibrant democracy\" and effective governance.'"
   ]
  },
  {
   "cell_type": "code",
   "execution_count": 10,
   "metadata": {},
   "outputs": [],
   "source": [
    "g_test = 'By 2017, the proportion of severely poor individuals has dropped from 15.8% in 2009/10 to below 10%'"
   ]
  },
  {
   "cell_type": "code",
   "execution_count": 52,
   "metadata": {
    "collapsed": true
   },
   "outputs": [
    {
     "data": {
      "text/plain": [
       "1.3570191713048856"
      ]
     },
     "execution_count": 52,
     "metadata": {},
     "output_type": "execute_result"
    }
   ],
   "source": [
    "concept_matching(goal1_1, test, sigma=0.85)"
   ]
  },
  {
   "cell_type": "code",
   "execution_count": 19,
   "metadata": {},
   "outputs": [],
   "source": [
    "brown_ic = wordnet_ic.ic('ic-brown-resnik.dat')\n",
    "semcor_ic = wordnet_ic.ic('ic-semcor.dat')"
   ]
  },
  {
   "cell_type": "code",
   "execution_count": 11,
   "metadata": {},
   "outputs": [
    {
     "data": {
      "text/plain": [
       "1.0"
      ]
     },
     "execution_count": 11,
     "metadata": {},
     "output_type": "execute_result"
    }
   ],
   "source": [
    "mySim(target1_1, test, sigma=0.85)"
   ]
  },
  {
   "cell_type": "code",
   "execution_count": null,
   "metadata": {},
   "outputs": [],
   "source": [
    ""
   ]
  },
  {
   "cell_type": "code",
   "execution_count": 13,
   "metadata": {},
   "outputs": [
    {
     "name": "stdout",
     "output_type": "stream",
     "text": [
      "0.18181818181818182 Synset('poverty.n.01') Synset('person.n.01')\n0.14285714285714285 Synset('poverty.n.01') Synset('individual.n.02')\n"
     ]
    }
   ],
   "source": [
    "from nltk.corpus import wordnet as wn\n",
    "from itertools import product\n",
    "\n",
    "synsets_1 = wn.synsets('poverty')\n",
    "synsets_2 = wn.synsets('individuals')\n",
    "if synsets_1 and synsets_2:\n",
    "    for synset_1, synset_2 in product(synsets_1, synsets_2):\n",
    "        try:\n",
    "            sim = wn.wup_similarity(synset_1, synset_2)\n",
    "            print(sim, synset_1, synset_2)\n",
    "        except:\n",
    "            continue"
   ]
  },
  {
   "cell_type": "code",
   "execution_count": 80,
   "metadata": {
    "collapsed": true
   },
   "outputs": [
    {
     "name": "stdout",
     "output_type": "stream",
     "text": [
      "﻿5.1 Education Sector\n\nThe single most important factor towards achieving the socio-economic development goals will be the success of the education sector in enhancing the social, economic, cultural, environmental, and political capabilities of our most important asset, our people.\n"
     ]
    },
    {
     "name": "stdout",
     "output_type": "stream",
     "text": [
      "Education virtually impacts all dimensions of development and is critical for ensuring sustainable poverty alleviation which can only come through the empowerment of our people, particularly the remote and most vulnerable sections of our population.\n"
     ]
    },
    {
     "name": "stdout",
     "output_type": "stream",
     "text": [
      "At the end of the cycle (Class X) there is a national board examination, Bhutan Certificate for Secondary Education (BCSE).\n"
     ]
    },
    {
     "name": "stdout",
     "output_type": "stream",
     "text": [
      "Programmes offered vary from 6 months to 2 years at the certificate level in courses ranging from electrical, mechanical, construction engineering, auto-mechanics, driving, computer hardware, carpentry, furniture making.\n"
     ]
    },
    {
     "name": "stdout",
     "output_type": "stream",
     "text": [
      "Tertiary education in Bhutan comprises of three years of undergraduate studies provided by the Royal University of Bhutan (RUB) through its 10 constituent colleges located in various parts of the country and one private college, the Royal Thimphu College.\n"
     ]
    },
    {
     "name": "stdout",
     "output_type": "stream",
     "text": [
      "Under-graduate degree and diploma programmes include civil, mechanical, computer and electrical engineering, natural resources, language and cultural studies, education, traditional medicine, nursing and health science, business and commerce, sciences, and liberal arts studies.\n"
     ]
    },
    {
     "name": "stdout",
     "output_type": "stream",
     "text": [
      "It recently introduced post graduate degree courses in public administration and management.\n"
     ]
    },
    {
     "name": "stdout",
     "output_type": "stream",
     "text": [
      "Evidently, with high priority accorded to the education sector, Bhutan is well on track to achieve the MDGs.\n"
     ]
    },
    {
     "name": "stdout",
     "output_type": "stream",
     "text": [
      "In terms of the MDGs, the targets for gross primary enrolment ratios, proportion of pupils starting grade 1 who reach grade 5, and the ratio of girls to boys in primary schools and secondary schools have already been achieved while the other targets are well on track to be achieved.\n"
     ]
    },
    {
     "name": "stdout",
     "output_type": "stream",
     "text": [
      "Both boys and girls have equal opportunities in terms of access, quality of learning process, equality of outcomes and external results.\n"
     ]
    },
    {
     "name": "stdout",
     "output_type": "stream",
     "text": [
      "5.1.2  Key Challenges\n\nLast mile challenges and disparities at local levels - The Adjusted Net Enrolment Ratio (ANER)29 for primary education is 98.5 percent (2013).\n"
     ]
    },
    {
     "name": "stdout",
     "output_type": "stream",
     "text": [
      "This 1.5 percent are assumed to be children in remote and hard to reach areas, children of nomadic communities, children with learning disabilities whose special learning needs are yet to be catered for and children of the urban poor.\n"
     ]
    },
    {
     "name": "stdout",
     "output_type": "stream",
     "text": [
      "In all of these five Dzongkhags, the participation level of girls in primary education significantly exceeds that of boys.\n"
     ]
    },
    {
     "name": "stdout",
     "output_type": "stream",
     "text": [
      "Addressing the last mile challenge of enrollment, including disparities at local levels and catering to the special needs of children with disabilities will require innovative and cost effective strategies in the delivery of education.\n"
     ]
    },
    {
     "name": "stdout",
     "output_type": "stream",
     "text": [
      "Relevance and Quality of Education: In spite of the significant progress made with regard to providing access to education, the quality of education is an issue of growing concern to parents and policy makers.\n"
     ]
    },
    {
     "name": "stdout",
     "output_type": "stream",
     "text": [
      "Judging solely by improvements in efficiency indicators such as drop-out rates, repetition rates, completion rates and survival rates, the quality of education has certainly improved over the years, although some of these rates, such as repetition and dropout rates in class IV and VII, are still undesirably high and need further improvement.\n"
     ]
    },
    {
     "name": "stdout",
     "output_type": "stream",
     "text": [
      "However, what remains of great concern is that an increasing numbers of our students, including graduates from vocational and tertiary institutions, are inadequately prepared to enter the workforce.\n"
     ]
    },
    {
     "name": "stdout",
     "output_type": "stream",
     "text": [
      "This has resulted in a paradoxical situation of relatively high levels of youth unemployment and a critical skills shortage at the same time.\n"
     ]
    },
    {
     "name": "stdout",
     "output_type": "stream",
     "text": [
      "The fact that most of our students are unable to meet the admission criteria of top tier tertiary education institutions abroad, particularly for professional courses, is but one testament of the poor learning outcomes of our education not being commensurate to the requirements of youth today.\n"
     ]
    },
    {
     "name": "stdout",
     "output_type": "stream",
     "text": [
      "This calls for building on our strong foundations an education system that is not only free but is of such quality that it provides the knowledge, skills and attitude to allow our people to tap their full potential and succeed.\n"
     ]
    },
    {
     "name": "stdout",
     "output_type": "stream",
     "text": [
      "Given that today the largest section of our population are youth our window of opportunity is small and therefore improving the quality of education is urgent.\n"
     ]
    },
    {
     "name": "stdout",
     "output_type": "stream",
     "text": [
      "In all the countries that have succeeded in the economic areas we strive to develop, the competitive advantage of their education system has been a high level of performance in math and science.\n"
     ]
    },
    {
     "name": "stdout",
     "output_type": "stream",
     "text": [
      "In our case, most students perform poorly in math and science, and have similar weaknesses even in English despite it being the medium of instruction for most subjects at all levels in school and higher education.\n"
     ]
    },
    {
     "name": "stdout",
     "output_type": "stream",
     "text": [
      "According to Royal Education Council's (REC) research study on the quality of education, the overall trend indicates that there is a big gap between the current and the desired state in the quality of outcomes and processes.\n"
     ]
    },
    {
     "name": "stdout",
     "output_type": "stream",
     "text": [
      "Some of the key deficiencies in the quality of learning outcomes and processes highlighted in the report include:\n\nThe overall level of performance of students is just above passing grades;\n\nGraduates lack basic analytical and communication skills and the attitudes needed as entry level professions;\n\nTeaching consists of one way teacher-led chalk-and-talk without being able to get the students to comprehend and demonstrate learning;\n\nAssessment in the classroom does not close the loop between what is taught and what students learn;\n\nLow academic and professional standards for entry into teaching profession;\n\nSchools lack quality processes for developing teachers' capacity, the autonomy and instructional resources to initiate academic improvement and the essential physical infrastructure to support learning;\n\nNo clear link between the stated national socio-economic goals and the goals of the education system;\n\nThe supporting systems for schools need a great degree of strengthening in the areas of teacher preparation, curriculum standards and resources and the incentives for quality.\n"
     ]
    },
    {
     "name": "stdout",
     "output_type": "stream",
     "text": [
      "The study recommended a thoughtfully designed and carefully implemented comprehensive reform effort to bridge the gap between the current set of challenges facing our school system and the high aspirations it holds.\n"
     ]
    },
    {
     "name": "stdout",
     "output_type": "stream",
     "text": [
      "Various other studies/reports also suggest that education infrastructure facilities alone are not sufficient to improve education outcomes but adequate, motivated and appropriately qualified teachers play a critical role in ensuring quality education.\n"
     ]
    },
    {
     "name": "stdout",
     "output_type": "stream",
     "text": [
      "Teaching, today, is the least preferred profession among graduates, and attracting high performing graduates to join teaching is increasingly a major challenge.\n"
     ]
    },
    {
     "name": "stdout",
     "output_type": "stream",
     "text": [
      "Some of the reasons for this include lack of incentives, both financial and non-financial incentives, perceived poor career progression and limitations in the recruitment process.\n"
     ]
    },
    {
     "name": "stdout",
     "output_type": "stream",
     "text": [
      "The TVET and tertiary education systems are also faced with a similar set of challenges on the issue of relevance and quality of education.\n"
     ]
    },
    {
     "name": "stdout",
     "output_type": "stream",
     "text": [
      "If we are to close the \"education to employment\" gap, it is vital to ensure that the TVET and tertiary education institutes have the intake capacity to provide relevant and quality post-secondary education and training to ensure their employability.\n"
     ]
    },
    {
     "name": "stdout",
     "output_type": "stream",
     "text": [
      "There is a widely shared view on the need for the TVET institutes and colleges of RUB to be consolidated along a single-campus and multi-disciplinary model if we are to ensure relevance and quality in our TVET and tertiary education system.\n"
     ]
    },
    {
     "name": "stdout",
     "output_type": "stream",
     "text": [
      "The expenditure in the education sector is expected to further increase in coming years particularly with increasing cost of maintenance of past infrastructure investments and additional capital investments to absorb the increasing enrollment pressure at various levels.\n"
     ]
    },
    {
     "name": "stdout",
     "output_type": "stream",
     "text": [
      "5.1.3  Sector Key Result Areas\n\nThe sector key result areas and key performance indicators for TVET and Education sector are as follows:\n\n5.1.4  Strategies\n\nAny strategy to strengthen our education system and institutions to the level required to bring about the transformation in our socio-economic development process must ensure that we take a comprehensive stock of the state of our entire education system (spanning school, TVET, higher education, and continuing education) as an integrated whole rather than disparate parts (including regular assessment and diagnostics of student performance and identify the root causes of the mismatch between educational outcomes and our developmental needs); establish clear quality criteria in terms of the desired outcomes that are responsive to the changing expectations of students and are regularly benchmarked to global standards (such as student outcomes and employment, instructional methods, and organizational dynamism); understand the capacity gaps in achieving those criteria; provide a collaborative and highly competent institutional support system that focuses on helping students, teachers and school leaders develop research based innovative strategies of implementation to achieve the desired outcomes and; disseminate those evidence-based effective strategies throughout the system.\n"
     ]
    },
    {
     "name": "stdout",
     "output_type": "stream",
     "text": [
      "The experience of top performing education systems like in Finland and Singapore suggest a gestation of at least 20 years.\n"
     ]
    },
    {
     "name": "stdout",
     "output_type": "stream",
     "text": [
      "Some of the elements of the strategy for improved outcomes of the education sector, relevant to the school, TVET and tertiary education systems, include:\n\n•\tClarifying goals and raising performance standards for schools through shared national education goals that are aligned with the national socio-economic goals; learning standards and quality teaching processes;\n\n•\tCurriculum improvements to deliver educational goals with greater involvement of principals and teachers in curriculum design and communication and training on improved curriculum;\n\n•\tAttracting the best talent into teaching by recruiting the most capable candidates into teaching and preparing them for effective classroom practice;\n\n•\tGiving teachers the skills and tools to raise the quality of classroom instruction through continuous professional development and structured teaching-learning resources;\n\n•\tDeveloping Principals to become Instructional Leaders - through leadership training, professional support and instructional improvement processes;\n\n•\tEnabling the capacity of schools to focus on learning and teaching through policies to promote autonomy, accountability, incentives and improving the quality of instructional tools and infrastructure facilities to support learning;\n\n•\tMaintain relentless focus on implementation - demonstrate real changes in school, manage change and build institutional capacity to execute reforms;\n\n•\tEnsuring students grasp basic academic concepts, acquire essentials life skills and are fully equipped for college and professional life;\n\n•\tThe possible introduction of a vouchers scheme for meeting the targets for tertiary enrolment that will also encourage private participation in this sector.\n"
     ]
    },
    {
     "name": "stdout",
     "output_type": "stream",
     "text": [
      "The focus will be on Dzongkhags with education indicators below the national average and hard to reach communities, children in remote areas, nomadic communities etc.\n"
     ]
    },
    {
     "name": "stdout",
     "output_type": "stream",
     "text": [
      "Targeted programmes will include activities like additional infrastructure facilities, improved teacher deployment, special incentive packages and in certain situation where cost of service delivery is very high it could include relocation of students to nearby schools with boarding facilities.\n"
     ]
    },
    {
     "name": "stdout",
     "output_type": "stream",
     "text": [
      "The deployment of teachers continues to be a major issue due to the remote and difficult location of these extremely small schools.\n"
     ]
    },
    {
     "name": "stdout",
     "output_type": "stream",
     "text": [
      "Due to lack of economies of scale the difficulty of providing appropriate and adequate infrastructure facilities and resources results in multi-grade teaching learning situations which ultimately compromise the overall quality of education.\n"
     ]
    },
    {
     "name": "stdout",
     "output_type": "stream",
     "text": [
      "The Eleventh Plan will focus on rationalization of schools with the objective of ensuring quality learning outcomes, with particular focus on children in remote rural schools.\n"
     ]
    },
    {
     "name": "stdout",
     "output_type": "stream",
     "text": [
      "Similarly, the downgraded schools or ECRs would be developed to ensure quality learning for the remaining students, and the additional teachers made available as a result of the rationalization would be redeployed by the Dzongkhag to the schools which face teacher shortage.\n"
     ]
    },
    {
     "name": "stdout",
     "output_type": "stream",
     "text": [
      "Professional Development for Teachers: Towards enhancing teacher morale and motivation and improving the quality of the teaching profession, Teacher Human Resource Policies and the In-Service Teacher Education and Training (INSET) Masterplan have been drawn up for implementation.\n"
     ]
    },
    {
     "name": "stdout",
     "output_type": "stream",
     "text": [
      "5.1.5  Key Programmes\n\nSome of the key programmes for the Eleventh Plan:\n\nEducation\n\ni)\tConstruction of new schools based on need to increase space especially at the secondary levels;\n\nii)\tProvision of minimum standard facilities, wherever required, to ensure a positive environment for teaching-learning process.\n"
     ]
    },
    {
     "name": "stdout",
     "output_type": "stream",
     "text": [
      "in nearby schools and rationalizing smaller schools;\n\niv)\tProvision of staff quarters/allowances especially in remote and rural areas to make rural posting attractive and improve quality of education in the remote locations;\n\nv)\tAddressing gender gaps at higher secondary level through provision of gender responsive facilities such as hostels and hostel toilets for girls' toilets and housing for female teachers;\n\nvi)\tStrengthening curriculum research and development and finding mechanisms to enhance efficiency, accountability and retain specialized skills;\n\nvii)\tEnhance capacity of tertiary education to achieve GER at tertiary education of 35 percent by 2017-18;\n\nviii)\tEnhance quality and relevance of tertiary education programmes to meet the needs of individuals as well as the industry and society at large.\n"
     ]
    },
    {
     "name": "stdout",
     "output_type": "stream",
     "text": [
      "*****\n\n5.2 Health Sector\n\nAll Bhutanese avail free health services from primary to tertiary level health care as a right guaranteed by the Constitution of Bhutan under its Principles of State Policy, Article 9, Section 21, which states that: \"the State shall provide free access to basic public health services in both modern and traditional medicines.\"\n"
     ]
    },
    {
     "name": "stdout",
     "output_type": "stream",
     "text": [
      "In the Eleventh Plan, the Ministry of Health shall strive towards achieving universal health coverage by focusing on providing improved and equitable access to quality health care services.\n"
     ]
    },
    {
     "name": "stdout",
     "output_type": "stream",
     "text": [
      "Continued efforts shall be made in achieving goals and targets beyond MDGs.\n"
     ]
    },
    {
     "name": "stdout",
     "output_type": "stream",
     "text": [
      "5.2.1  Current Situation\n\nConsiderable progress has been made in developing the capacity of the health system and it has resulted in significant improvements in health outcomes.\n"
     ]
    },
    {
     "name": "stdout",
     "output_type": "stream",
     "text": [
      "The lack of progress on HIV/AIDS remains a concern.\n"
     ]
    },
    {
     "name": "stdout",
     "output_type": "stream",
     "text": [
      "The expenditure in the health sector is expected to increase in the coming years with the introduction of new technologies and services and growing incidence of non-communicable diseases for which the associated costs are much greater than for conventional diseases.\n"
     ]
    },
    {
     "name": "stdout",
     "output_type": "stream",
     "text": [
      "5.2.2  Key Challenges\n\nDelivering Quality Health Care - The public expectation for quality health care is viewed against the five-star private hospitals.\n"
     ]
    },
    {
     "name": "stdout",
     "output_type": "stream",
     "text": [
      "On the other hand there are no standard health services package developed at all levels of service delivery and standard operating procedures for most of the services and procedures needs to be developed.\n"
     ]
    },
    {
     "name": "stdout",
     "output_type": "stream",
     "text": [
      "In absence of such standards, it is very difficult or near impossible to measure the quality of health care delivery.\n"
     ]
    },
    {
     "name": "stdout",
     "output_type": "stream",
     "text": [
      "Even in the region, there are few reputed health training institutes so limitation in availability of slots is a challenge.\n"
     ]
    },
    {
     "name": "stdout",
     "output_type": "stream",
     "text": [
      "Therefore we will continue to face health human resource shortage in the Eleventh Plan even as we face the need to expand health services.\n"
     ]
    },
    {
     "name": "stdout",
     "output_type": "stream",
     "text": [
      "Non-Communicable Diseases (NCDs): NCDs are establishing its presence with modern sedentary lifestyles, traditionally high-fat-based dietary habits and consumption of alcohol and tobacco.\n"
     ]
    },
    {
     "name": "stdout",
     "output_type": "stream",
     "text": [
      "Besides the profound implication on the quality of life of individuals, families and society at large, the cost of treating patients with NCDs is exorbitant.\n"
     ]
    },
    {
     "name": "stdout",
     "output_type": "stream",
     "text": [
      "The expansion of economic activities and increasing affluence and travel, import of foreign labour and casual attitude of the people towards sex is a major challenge in the battle against HIV/AIDS.\n"
     ]
    },
    {
     "name": "stdout",
     "output_type": "stream",
     "text": [
      "The impact of climate change is already becoming visible with malaria cases being detected in areas that were once free of the disease.\n"
     ]
    },
    {
     "name": "stdout",
     "output_type": "stream",
     "text": [
      "However, performance on certain indicators such as MMR, compared to other countries in the region and the low allocations relative to health spending is still a cause of concern.\n"
     ]
    },
    {
     "name": "stdout",
     "output_type": "stream",
     "text": [
      "There is a need to invest heavily in this area.\n"
     ]
    },
    {
     "name": "stdout",
     "output_type": "stream",
     "text": [
      "Nutrition - The general nutritional status of the people has been improving over the decade.\n"
     ]
    },
    {
     "name": "stdout",
     "output_type": "stream",
     "text": [
      "There is a need to put in coordinated efforts among Health, Agriculture and Education and Economic Sectors to improve the nutritional status.\n"
     ]
    },
    {
     "name": "stdout",
     "output_type": "stream",
     "text": [
      "Sustainable Healthcare Financing: The constitution mandates the state to provide free health care ensuring the global commitment to universal health coverage is achieved.\n"
     ]
    },
    {
     "name": "stdout",
     "output_type": "stream",
     "text": [
      "Global health experts recommend for a country like Bhutan allocation of around 5 percent of the GDP and about 8 percent of the total government budget on health to ensure that quality health care services are provided.\n"
     ]
    },
    {
     "name": "stdout",
     "output_type": "stream",
     "text": [
      "5.2.4  Strategies\n\nStrengthening service delivery: In line with the policy of decentralization, the local government shall take more responsibility for management and delivery of health services at the local level.\n"
     ]
    },
    {
     "name": "stdout",
     "output_type": "stream",
     "text": [
      "The centre shall focus more on policy directions, service standard development, quality assurance, selection of appropriate medical technologies and procedures, ensuring un-interrupted medical supplies and health personnel recruitment.\n"
     ]
    },
    {
     "name": "stdout",
     "output_type": "stream",
     "text": [
      "The Ministry will continue to focus on improving access and delivery of quality health care services by strengthening both institutional and human capacity with emphasis on decentralization.\n"
     ]
    },
    {
     "name": "stdout",
     "output_type": "stream",
     "text": [
      "The Health Sector will continue to explore areas which can be decentralized to the districts.\n"
     ]
    },
    {
     "name": "stdout",
     "output_type": "stream",
     "text": [
      "In line with the commitment to work towards achieving Universal Health Coverage (UHC), the package of Health services to be delivered at every level of health facilities shall be standardized and expansion of services will be explored on need basis.\n"
     ]
    },
    {
     "name": "stdout",
     "output_type": "stream",
     "text": [
      "For a developing country like Bhutan, in order to achieve UHC, almost 5 percent of the GDP and 8 percent of the total government budget needs to be allocated to health sector.\n"
     ]
    },
    {
     "name": "stdout",
     "output_type": "stream",
     "text": [
      "Needs assessment for eHealth, inclusive of developing national policies, strategies, norms and appropriate governance mechanisms, and long term strategic plans or frameworks for eHealth, shall be conducted.\n"
     ]
    },
    {
     "name": "stdout",
     "output_type": "stream",
     "text": [
      "Consolidation of health infrastructure - The production of health human resource has not kept pace with the expansion of health infrastructure and, therefore, there is a huge mismatch between the health human resources and the number of health infrastructure, affecting the quality of health services.\n"
     ]
    },
    {
     "name": "stdout",
     "output_type": "stream",
     "text": [
      "The high priority given to human resource development through investments in education, implementation of long and short-term trainings both in-country and ex-country and the various reforms in human resource management, particularly in the civil services, has to a great extent improved human resource situation.\n"
     ]
    },
    {
     "name": "stdout",
     "output_type": "stream",
     "text": [
      "However, the quality of human resources particularly in professional and high skilled areas continues to be a constraining factor, both in the public and private sector.\n"
     ]
    },
    {
     "name": "stdout",
     "output_type": "stream",
     "text": [
      "As a result, dependency on foreign workers continues to be high.\n"
     ]
    },
    {
     "name": "stdout",
     "output_type": "stream",
     "text": [
      "5.3.1  Current Situation\n\nDue to small and nascent private sector, most job seekers prefer jobs in the civil service for better job security, career advancement and training & educational opportunities.\n"
     ]
    },
    {
     "name": "stdout",
     "output_type": "stream",
     "text": [
      "Professional and management position made up 49 percent of the total civil service, followed by supervisory and support positions with 40 percent and operational position 9 percent.\n"
     ]
    },
    {
     "name": "stdout",
     "output_type": "stream",
     "text": [
      "In terms of educational qualifications, about 66 percent of civil servants have a diploma and below, 22 percent have Bachelors Degree and the rest have a post graduate diploma, Masters or Ph.D degree.\n"
     ]
    },
    {
     "name": "stdout",
     "output_type": "stream",
     "text": [
      "A large percentage of civil servants not meeting the required qualification criteria were in the supervisory & support and operational position categories.\n"
     ]
    },
    {
     "name": "stdout",
     "output_type": "stream",
     "text": [
      "5.3.2  Key Challenges\n\nWhile the overall civil service size has been on the rise, the percentage of civil servants in various position levels not meeting the minimum qualification criteria remains high.\n"
     ]
    },
    {
     "name": "stdout",
     "output_type": "stream",
     "text": [
      "This is an issue of great concern particularly if the high numbers are in educational and vocational institutions.\n"
     ]
    },
    {
     "name": "stdout",
     "output_type": "stream",
     "text": [
      "The current human resource development strategy also lacks synergy between the education system and manpower needs leading to mismatch of aspirations of the job seekers and jobs available.\n"
     ]
    },
    {
     "name": "stdout",
     "output_type": "stream",
     "text": [
      "On one hand, we continue to be dependent on expatriates, international volunteers and foreign skilled manpower while on the other hand unemployment, particularly youth unemployment, remains high.\n"
     ]
    },
    {
     "name": "stdout",
     "output_type": "stream",
     "text": [
      "For instance, in the education sector, where there is already an acute shortage of teachers, the teacher turnover is high at about 4 percent annually.\n"
     ]
    },
    {
     "name": "stdout",
     "output_type": "stream",
     "text": [
      "In terms of human resource development, the focus will be on creating skills and knowledge to achieve the objectives of EDP 2010, with an emphasis on addressing the acute shortage of skilled professionals such as doctors, educationists, engineers, architects and ICT specialists.\n"
     ]
    },
    {
     "name": "stdout",
     "output_type": "stream",
     "text": [
      "*****\n\n5.4 Employment\n\nThe Labour and Employment Act 2007 govern the employment and working conditions in Bhutan.\n"
     ]
    },
    {
     "name": "stdout",
     "output_type": "stream",
     "text": [
      "Employment is defined as \"if a person has performed some paid work in cash or in kind, during the reference period for at least one hour or the person has a job or business formally attached but temporarily absent from the work and going to resume the work\".\n"
     ]
    },
    {
     "name": "stdout",
     "output_type": "stream",
     "text": [
      "Labour Force Surveys are conducted by the Ministry of Labour and Human Resources on an annual basis.\n"
     ]
    },
    {
     "name": "stdout",
     "output_type": "stream",
     "text": [
      "Similarly at disaggregated levels, unemployment has decreased by area of residence (rural/ urban), by gender and by youth in 2012.\n"
     ]
    },
    {
     "name": "stdout",
     "output_type": "stream",
     "text": [
      "At the Dzongkhag level, the unemployment was highest in Thimphu with an unemployment rate of 4.3 percent followed by Sarpang, Trongsa, Tsirang, Dagana, Paro and Zhemgang all registering unemployment rates higher than the national average of 2.1 percent.\n"
     ]
    },
    {
     "name": "stdout",
     "output_type": "stream",
     "text": [
      "5.4.2  Key Challenges\n\nQuality of employment - While we have been successful in reducing unemployment rates, the review of LFS 2012 indicates that the quality of employment could be improved.\n"
     ]
    },
    {
     "name": "stdout",
     "output_type": "stream",
     "text": [
      "The impressive economic growth achieved by the secondary and tertiary sectors has not translated into jobs, thereby indicating some levels of inequity in economic growth.\n"
     ]
    },
    {
     "name": "stdout",
     "output_type": "stream",
     "text": [
      "•\tAbout 68.9 percent of those employed in the agriculture sector worked for more than 48 hours of which 46.1 percent reportedly work more hours to increase earnings indicating low income for those employed in the sector.\n"
     ]
    },
    {
     "name": "stdout",
     "output_type": "stream",
     "text": [
      "•\tIn terms of the level of education, 53.6 percent of those employed were illiterate with the next highest level being middle secondary school level dropouts at 11 percent.\n"
     ]
    },
    {
     "name": "stdout",
     "output_type": "stream",
     "text": [
      "This indicates either a poor synergy between the education system and manpower needs resulting in a lack of skilled manpower or a mismatch of potential employees and jobs available.\n"
     ]
    },
    {
     "name": "stdout",
     "output_type": "stream",
     "text": [
      "While this presents an opportunity of a large number of educated job seekers, creating jobs that meets the aspirations of these qualified youth will be a major challenge.\n"
     ]
    },
    {
     "name": "stdout",
     "output_type": "stream",
     "text": [
      "The Labour Force Survey 2012 estimates that the unemployment rate among the middle secondary education group was the highest at 22.8 percent.\n"
     ]
    },
    {
     "name": "stdout",
     "output_type": "stream",
     "text": [
      "This was followed by the higher secondary education group at 20.4 percent and Bachelor Degree group at 12.3 percent.\n"
     ]
    },
    {
     "name": "stdout",
     "output_type": "stream",
     "text": [
      "Projections based on the employment elasticity  of sectoral growth reveal potential for creating 120,000 jobs for corresponding number of job seekers in the Eleventh Plan.\n"
     ]
    },
    {
     "name": "stdout",
     "output_type": "stream",
     "text": [
      "The services sector presents the highest potential for absorbing job seekers followed by industries and agriculture.\n"
     ]
    },
    {
     "name": "stdout",
     "output_type": "stream",
     "text": [
      "The share of agriculture sector for new employment is expected to be very low, in absence of any other policy intervention.\n"
     ]
    },
    {
     "name": "stdout",
     "output_type": "stream",
     "text": [
      "Strategies to achieve this objective include\n\n•\tImplementation of the Rapid Investments in Selected Enterprises (RISE) programme;\n\n•\tPrivate Sector Development;\n\n•\tInstitutionalizing multi-sectoral coordination committee to strengthening linkages between the education system and manpower needs of the country to address the mismatch of skills and aspirations;\n\n•\tIncentivizing business and industries that give priority to employment of Bhutanese; and\n\n•\tThe government will also explore decent and productive overseas employment particularly for the youth.\n"
     ]
    },
    {
     "name": "stdout",
     "output_type": "stream",
     "text": [
      "In the Eleventh Plan, about 82,000 new jobs need to be created for approximately 120,000 job seekers, to ensure full employment of 97.5 percent.\n"
     ]
    },
    {
     "name": "stdout",
     "output_type": "stream",
     "text": [
      "5.4.5  Key Programmes\n\n•\tPromotion of full and productive employment\n\n•\tPromotion of decent working conditions and work environment Programme details are presented in Eleventh Plan Volume II document.\n"
     ]
    },
    {
     "name": "stdout",
     "output_type": "stream",
     "text": [
      "For an agrarian country like Bhutan, the RNR sector plays a vital role in bringing about equitable development through enhancing rural prosperity and poverty alleviation.\n"
     ]
    },
    {
     "name": "stdout",
     "output_type": "stream",
     "text": [
      "However, in spite of the changes and innovations infused over the years to propel RNR sector growth, the sector's growth remained insufficient to adequately address rural poverty, attain food security and to sustain the overall economic growth.\n"
     ]
    },
    {
     "name": "stdout",
     "output_type": "stream",
     "text": [
      "The sector's full potential is challenged by low productivity due to issues such as acute shortage of farm labour driven by outbound rural-urban migration, loss of arable land to urbanization, difficult terrain, fragmented land holdings, loss of crops to wildlife, lack of access to market and agricultural credit, climate change and natural disasters, post harvest management issues and subsistence nature of farming.\n"
     ]
    },
    {
     "name": "stdout",
     "output_type": "stream",
     "text": [
      "Consequently, dependence on import of food and food grains remain high and returns to farmers remain small as a result of higher costs of production and low economies of scale.\n"
     ]
    },
    {
     "name": "stdout",
     "output_type": "stream",
     "text": [
      "In terms of access, about 3 percent of the population spends less per person than the food poverty line of Nu.\n"
     ]
    },
    {
     "name": "stdout",
     "output_type": "stream",
     "text": [
      "The nutritional status40, measured in terms of stunting prevalence, while reduced from 56 percent in 1988 to 33.5 percent in 2010, still remains high.\n"
     ]
    },
    {
     "name": "stdout",
     "output_type": "stream",
     "text": [
      "As per Labour Force Survey 2012, 62.2 percent of those employed were in RNR with 23.9 percent male and 38.4 percent female.\n"
     ]
    },
    {
     "name": "stdout",
     "output_type": "stream",
     "text": [
      "5.5.2  Key Challenges\n\nLoss of agriculture land and declining productivity - Achieving food self-sufficiency would largely depend on area under food grain cultivation and yield per hectare.\n"
     ]
    },
    {
     "name": "stdout",
     "output_type": "stream",
     "text": [
      "Rapid development and urbanization has put a lot of pressure on agriculture land.\n"
     ]
    },
    {
     "name": "stdout",
     "output_type": "stream",
     "text": [
      "This is likely to increase in the near future with increased development activities unless effective measures are put in place to protect prime agricultural lands.\n"
     ]
    },
    {
     "name": "stdout",
     "output_type": "stream",
     "text": [
      "Unless these issues are addressed in the Eleventh Plan, achieving food self-sufficiency goal in the Eleventh Plan will still remain a challenge.\n"
     ]
    },
    {
     "name": "stdout",
     "output_type": "stream",
     "text": [
      "With the exception of few wide valleys in the western, central and some plains in the southern part of the country, in most part agricultural lands are located on the slopes.\n"
     ]
    },
    {
     "name": "stdout",
     "output_type": "stream",
     "text": [
      "Assessment indicates that 31 percent of the agriculture land is located on slopes more than 50 degrees.\n"
     ]
    },
    {
     "name": "stdout",
     "output_type": "stream",
     "text": [
      "This is also one of the reason why soil erosion rate is high, estimated at 8.6 tonnes/ha or approximately 3.5 t/acres (DOA, 2011).\n"
     ]
    },
    {
     "name": "stdout",
     "output_type": "stream",
     "text": [
      "Further, pest and diseases continue to be a problem for the farming communities.\n"
     ]
    },
    {
     "name": "stdout",
     "output_type": "stream",
     "text": [
      "Other crop diseases such as Gray Leaf Spot and Turcicum Leaf Blight in maize, Greening in Citrus, phythoptra diseases in chilli and potatoes also continue to pose major challenges.\n"
     ]
    },
    {
     "name": "stdout",
     "output_type": "stream",
     "text": [
      "Domestic cattle and equine population left stray in winter is one of leading factor discouraging farmers from growing winter and spring crops such as wheat, barley and buckwheat affecting the cropping intensity and overall production potential.\n"
     ]
    },
    {
     "name": "stdout",
     "output_type": "stream",
     "text": [
      "Labor shortage including increasing feminization of the agricultural labour force is becoming one of the leading constraints in agriculture production.\n"
     ]
    },
    {
     "name": "stdout",
     "output_type": "stream",
     "text": [
      "In the age group of 15-64 which is also an active population group, female population is higher by 7.5 percent, and this is likely to increase.\n"
     ]
    },
    {
     "name": "stdout",
     "output_type": "stream",
     "text": [
      "If this trend continues, it is likely that more and more people could leave their farms which could adversely impact the goals of achieving food and nutrition security, reducing unemployment levels and, may likely reverse the gains achieved in poverty reduction.\n"
     ]
    },
    {
     "name": "stdout",
     "output_type": "stream",
     "text": [
      "5.5.3  Sector Key Result Areas\n\n5.5.4  Strategies\n\nA key strategy will be to transform the RNR sector into a commercially viable sector that provides higher returns to the farmers, improves rural livelihood, reduces imports and promotes exports, and offers attractive employment opportunities to youth.\n"
     ]
    },
    {
     "name": "stdout",
     "output_type": "stream",
     "text": [
      "At national level, the focus will be on fewer prioritized products that will enhance food self sufficiency and also contribute to import substitution and export promotion.\n"
     ]
    },
    {
     "name": "stdout",
     "output_type": "stream",
     "text": [
      "To provide both economies of scale and fair terms of trade, the evolving farmers' organizations and cooperatives will be supported technically and financially, notably through preferential access to loans from financial institutions, extension support services and other forms of support.\n"
     ]
    },
    {
     "name": "stdout",
     "output_type": "stream",
     "text": [
      "A reliable institutional mechanism will be established to effectively cater to the needs of the interested private entities.\n"
     ]
    },
    {
     "name": "stdout",
     "output_type": "stream",
     "text": [
      "*****\n\n5.6 Tourism Sector\n\nTourism in Bhutan is governed by the policy of \"high value-low impact\" tourism.\n"
     ]
    },
    {
     "name": "stdout",
     "output_type": "stream",
     "text": [
      "Gross earnings in 2012 were USD 62.80 million and approximately 22,045 employment opportunities were created in 2011.\n"
     ]
    },
    {
     "name": "stdout",
     "output_type": "stream",
     "text": [
      "5.6.1  Current Situation\n\nWith improvements in tourism infrastructure facilities and better air connectivity, the number of tourist arrivals to Bhutan has increased from about 6,000 in 2001 to about 105,407 in 2012.\n"
     ]
    },
    {
     "name": "stdout",
     "output_type": "stream",
     "text": [
      "The arrival figures include about 57 percent international visitors, 26 percent regional high-end visitors, 16 percent MICE (Meeting, Incentive, Conferences, Exhibition) visitors, and 1 percent familiarization visitors.\n"
     ]
    },
    {
     "name": "stdout",
     "output_type": "stream",
     "text": [
      "In terms of the tourism spread, Paro Dzongkhag hosted the maximum bed nights (32.69 percent) followed by Thimphu, Wangduephodrang, Punakha and Bumthang.\n"
     ]
    },
    {
     "name": "stdout",
     "output_type": "stream",
     "text": [
      "The tourist arrivals in Trashigang and Samdrup Jongkhar have improved significantly as a result of opening of Merak Sakteng trek and also use of Samdrup Jongkhar as an entry point from the south-east.\n"
     ]
    },
    {
     "name": "stdout",
     "output_type": "stream",
     "text": [
      "The top 12 tour operators accounted for 41.46 percent of total arrivals with the highest number of tourists managed by a single operator of 4,159 visitors.\n"
     ]
    },
    {
     "name": "stdout",
     "output_type": "stream",
     "text": [
      "With just one international airport at Paro and with only Druk Air, the national carrier with a fleet of three Airbus A319 and one ATR 42-500, flying to limited destinations in the region, traveling to Bhutan is a challenge to many visitors.\n"
     ]
    },
    {
     "name": "stdout",
     "output_type": "stream",
     "text": [
      "The number of visitors to Bhutan currently is determined by Druk Air's capacity.\n"
     ]
    },
    {
     "name": "stdout",
     "output_type": "stream",
     "text": [
      "The other major challenge faced is the shortage of manpower in the form of trained guides, skilled workers in hospitality sector, qualified and experienced professionals in product development, destination marketing and other tourism-related services.\n"
     ]
    },
    {
     "name": "stdout",
     "output_type": "stream",
     "text": [
      "Lack of tourist infrastructure facilities/amenities, travel time and limited tourism products are some of the reasons for other Dzongkhags not benefitting much from the sector.\n"
     ]
    },
    {
     "name": "stdout",
     "output_type": "stream",
     "text": [
      "•\tSustainable Tourism Development: The focus of this programme will include product diversification to ensure regional and seasonal spread, improving quality and standards of services including accommodation and tourism attractions, exploring new markets, and decentralization of tourism planning and development.\n"
     ]
    },
    {
     "name": "stdout",
     "output_type": "stream",
     "text": [
      "The thrust area for this industry will continue to be high end sustainable tourism destination.\n"
     ]
    },
    {
     "name": "stdout",
     "output_type": "stream",
     "text": [
      "The training modules and curriculum will be reviewed and improved based on periodic training needs assessments.\n"
     ]
    },
    {
     "name": "stdout",
     "output_type": "stream",
     "text": [
      "Required additional infrastructures will be put in place and capacity development of faculties will receive priority.\n"
     ]
    },
    {
     "name": "stdout",
     "output_type": "stream",
     "text": [
      "*****\n\n5.7 Trade, Industries & Mines Sector\n\nThis is a critical sector for sustainable economic growth and poverty reduction.\n"
     ]
    },
    {
     "name": "stdout",
     "output_type": "stream",
     "text": [
      "The high priority accorded to the sector over the last five decades has resulted in significant structural changes in the economy with secondary and tertiary sectors taking over the primary sector and annual growth rates averaging around 8 percent per annum over the last decade.\n"
     ]
    },
    {
     "name": "stdout",
     "output_type": "stream",
     "text": [
      "However, the structural change has not translated into productive employment opportunities, vibrant private sector growth and economic diversification.\n"
     ]
    },
    {
     "name": "stdout",
     "output_type": "stream",
     "text": [
      "Besides, small domestic market, difficult terrain, high transportation costs, lack of skilled human resources and access to finance remain major challenges to sustainable economic growth.\n"
     ]
    },
    {
     "name": "stdout",
     "output_type": "stream",
     "text": [
      "The EDP targets high value and low volume green services and products that have minimal impact on environment\n\n- potential sectors include tourism, Information and Communication Technology (ICT) and IT enabled industries, cultural industries, construction and high-value niche commercial and organic agricultural products.\n"
     ]
    },
    {
     "name": "stdout",
     "output_type": "stream",
     "text": [
      "At the regional level, Bhutan is member of the Bay of Bengal Initiative for Multi-Sectoral Technical and Economic Cooperation (BIMSTEC).\n"
     ]
    },
    {
     "name": "stdout",
     "output_type": "stream",
     "text": [
      "It aims to reduce tariffs in stages to reach 0-5 percent level by 2013, with a longer time frame for the Least Developed Countries (Bhutan, Bangladesh and Nepal) to reach that goal by 2016.\n"
     ]
    },
    {
     "name": "stdout",
     "output_type": "stream",
     "text": [
      "Due to the large number of products in the sensitive list, trade expansion under SAFTA has been limited; Bhutan has 150 products in the list compared to 1,257 products in Nepal's list.\n"
     ]
    },
    {
     "name": "stdout",
     "output_type": "stream",
     "text": [
      "Reductions in the number of products under this list by member states are still being negotiated by the Working Group on Reduction in the Sensitive Lists.\n"
     ]
    },
    {
     "name": "stdout",
     "output_type": "stream",
     "text": [
      "The Agreement has been ratified by all the Member States and negotiations on finalization of schedules of specific commitments are ongoing.\n"
     ]
    },
    {
     "name": "stdout",
     "output_type": "stream",
     "text": [
      "Industries - Industries is dominated by few major manufacturing firms based on mineral and metal and a large number of smaller firms dealing in handicrafts, food processing, construction, wood and paper processing.\n"
     ]
    },
    {
     "name": "stdout",
     "output_type": "stream",
     "text": [
      "In 201144, there were 22,776 industrial firms, of which 133 were large, 220 medium, 2,649 small and 19,774 cottage industries.\n"
     ]
    },
    {
     "name": "stdout",
     "output_type": "stream",
     "text": [
      "Although Bhutan has significant deposits of a number of mineral resources, including limestone, coal, graphite, gypsum, slate and dolomite, most mining activities are limited to relatively small operations and mainly involve the above minerals.\n"
     ]
    },
    {
     "name": "stdout",
     "output_type": "stream",
     "text": [
      "All the mines in the country are operated using opencast mining technique and the current land coverage by mining activities is 0.033 percent of the total area of the country.\n"
     ]
    },
    {
     "name": "stdout",
     "output_type": "stream",
     "text": [
      "Further, due to high import content of raw materials for these products, they account for the highest share of the import bill.\n"
     ]
    },
    {
     "name": "stdout",
     "output_type": "stream",
     "text": [
      "Ease of Doing Business - In the 2012 IFC/World Bank Report on \"Ease of Doing Business\" Bhutan ranked 142 out of 183 countries.\n"
     ]
    },
    {
     "name": "stdout",
     "output_type": "stream",
     "text": [
      "The areas requiring improvements were resolving insolvency, protecting investors, getting electricity and dealing with construction permits amongst others.\n"
     ]
    },
    {
     "name": "stdout",
     "output_type": "stream",
     "text": [
      "Industrial base - About 85 percent of Bhutanese industries are small and micro industries dealing in agro products, textiles and handicrafts and large number of such industries are located in urban areas.\n"
     ]
    },
    {
     "name": "stdout",
     "output_type": "stream",
     "text": [
      "While development of such industries are important in view of Bhutan's desire to develop clean green manufacturing industries with high potential for employment and for promoting broad based inclusive growth, they are constrained by lack of access to capital, technology, markets and labour resulting in low volume, high cost and inferior quality products.\n"
     ]
    },
    {
     "name": "stdout",
     "output_type": "stream",
     "text": [
      "The Government, in consultation with the relevant stakeholders will identify 4-5 non-hydro priority sectors for end-to-end intervention in the Eleventh Plan.\n"
     ]
    },
    {
     "name": "stdout",
     "output_type": "stream",
     "text": [
      "Tentatively, the sectors identified are tourism (to achieve higher yields per tourist as well as double the arrivals but spread throughout the country and throughout the calendar year), agro-processing (selected produce with high potential), construction (enhance the capacity of Bhutanese contractors to deliver quality and take on more complex projects), small and cottage industries (including cultural industries such as textiles, arts and crafts) and manufacturing (explore establishment of few large scale hydro-power intensive industries).\n"
     ]
    },
    {
     "name": "stdout",
     "output_type": "stream",
     "text": [
      "A detailed blue print of interventions will be developed with clear initiatives, time line, targets, resource requirements and persons responsible to deliver the initiatives.\n"
     ]
    },
    {
     "name": "stdout",
     "output_type": "stream",
     "text": [
      "•\tStrengthening Trade Policy and Regulatory Framework: The emphasis will be on strengthening the policy and regulatory framework to improve and simplify the procedures for business start-ups, prevent business malpractices, promote\n\nfair competition in the market and promote international best practices in the business environment.\n"
     ]
    },
    {
     "name": "stdout",
     "output_type": "stream",
     "text": [
      "The drafting of the Consumers' Protection Act and enactment of the Trade Development Act and the Competition Policy/Act are key policy and regulatory instruments that will be pursued.\n"
     ]
    },
    {
     "name": "stdout",
     "output_type": "stream",
     "text": [
      "Further, the Dechencholing fuel depot will be relocated to Thinchupangkha under Paro Dzongkhag and Fuel quality will be upgraded to Euro IV.\n"
     ]
    },
    {
     "name": "stdout",
     "output_type": "stream",
     "text": [
      "•\tPromotion of sustainable and environment friendly industrial development\n\n- The focus will be on development of industrial parks to promote private sector development and enhance socio-economic activity in a particular region.\n"
     ]
    },
    {
     "name": "stdout",
     "output_type": "stream",
     "text": [
      "Further, the development and management of industrial parks in Jigmeling and Dhamdum would be pursued through PPP model and additional infrastructures in existing parks would be developed\n\n•\tDevelopment of Cottage & Small Industries (CSIs) in Bhutan: The growth of CSIs are essential for poverty alleviation, employment generation and sustainable economic development of our country.\n"
     ]
    },
    {
     "name": "stdout",
     "output_type": "stream",
     "text": [
      "Improve market access\n\n•\tGeological Mapping, Mineral Exploration and Sustainable Mineral Development: The demand for industrial minerals and construction materials will increase rapidly over the next few decades and therefore, the mineral sector will continue to play an important role in Bhutan's socio-economic development.\n"
     ]
    },
    {
     "name": "stdout",
     "output_type": "stream",
     "text": [
      "*****\n\n5.8 Hydropower, Renewable Energy and Hydromet Sector\n\nThe energy sector is the lynchpin of our economy and accounts for about 18 percent of total revenues and about 20 percent of GDP.\n"
     ]
    },
    {
     "name": "stdout",
     "output_type": "stream",
     "text": [
      "Bhutan has an estimated hydropower potential of 23,760 MW with a mean annual energy production capability close to 100,000 GWh.\n"
     ]
    },
    {
     "name": "stdout",
     "output_type": "stream",
     "text": [
      "The main thrust area for the Energy sector in the Eleventh Plan is \"Energy Security for Sustainable Development\".\n"
     ]
    },
    {
     "name": "stdout",
     "output_type": "stream",
     "text": [
      "5.8.1  Current Situation\n\nCurrently, construction of 1,020 MW Punatsangchhu I Hydroelectric Project, 1,000 MW Punatsangchhu II and 720 MW Mangdechhu Hydroelectric Projects are ongoing.\n"
     ]
    },
    {
     "name": "stdout",
     "output_type": "stream",
     "text": [
      "Besides mega hydroelectricity plants, the installed capacity from renewable energy technologies is about 8,152 kW (solar PV contributing 152 kW and from small hydro projects 8,000 kW).\n"
     ]
    },
    {
     "name": "stdout",
     "output_type": "stream",
     "text": [
      "Further, about 900 biogas plants and 10 solar heating systems were promoted as part of the programme to promote alternate renewable energy.\n"
     ]
    },
    {
     "name": "stdout",
     "output_type": "stream",
     "text": [
      "For example45, in the neighbouring Indian state of West Bengal, the lifeline block, meant for rural households, has a cap of 75 units, with a tariff of Rs 3.19 a unit.\n"
     ]
    },
    {
     "name": "stdout",
     "output_type": "stream",
     "text": [
      "In the bordering state of Assam, the lifeline block is capped at 30 units and the tariff is Rs 2.75 a unit.\n"
     ]
    },
    {
     "name": "stdout",
     "output_type": "stream",
     "text": [
      "The cap for low voltage (LV) users in West Bengal is 350 units, with tariff averaging at Rs 5.69 a unit.\n"
     ]
    },
    {
     "name": "stdout",
     "output_type": "stream",
     "text": [
      "For the same category, the tariff is Rs 4.59 a unit in Assam.\n"
     ]
    },
    {
     "name": "stdout",
     "output_type": "stream",
     "text": [
      "When it comes to medium voltage (MV) consumers, the tariff is Rs 6.97 a unit in West Bengal, and Rs 3.25 a unit in Assam.\n"
     ]
    },
    {
     "name": "stdout",
     "output_type": "stream",
     "text": [
      "High voltage (HV) consumers or factories in West Bengal pay Rs 6.13 a unit, while in Assam it is Rs 4.18 a unit\n\nA new element in the revised electricity tariff is that rural consumers are provided free electricity for first 100 units for the next three years.\n"
     ]
    },
    {
     "name": "stdout",
     "output_type": "stream",
     "text": [
      "5.8.2  Key Challenges\n\nThe high upfront investment costs required for developing hydro-power projects pose significant challenge in terms of raising financing for the project.\n"
     ]
    },
    {
     "name": "stdout",
     "output_type": "stream",
     "text": [
      "The Government of India has agreed to provide the required financing and also buy any surplus power through the Umbrella Agreement on Development of Hydropower Projects signed between the two governments in 2006 and a Protocol to the 2006 agreement signed in 2009.\n"
     ]
    },
    {
     "name": "stdout",
     "output_type": "stream",
     "text": [
      "Maintaining the balance between the needs of domestic consumption and export earnings, meeting the demand by households and industries, and the cost of electricity supply and viability of tariff levels will be a challenge till new hydropower projects are commissioned.\n"
     ]
    },
    {
     "name": "stdout",
     "output_type": "stream",
     "text": [
      "The energy sector's capacity to design, build, operate and manage hydropower projects will be developed through human resource development.\n"
     ]
    },
    {
     "name": "stdout",
     "output_type": "stream",
     "text": [
      "Development of sustainable energy allocation policy - With the commissioning of new hydropower projects in the next few years, Bhutan's firm power will be enhanced substantially.\n"
     ]
    },
    {
     "name": "stdout",
     "output_type": "stream",
     "text": [
      "To prepare for the optimum utilization of firm power that would be available and to plan for clean green industrial development, energy allocation policy will be formulated.\n"
     ]
    },
    {
     "name": "stdout",
     "output_type": "stream",
     "text": [
      "Development of Renewable Energy - To enhance energy security and reduce dependency on fossil fuel, other forms of alternate renewable energy will be promoted.\n"
     ]
    },
    {
     "name": "stdout",
     "output_type": "stream",
     "text": [
      "Renewable energy (RE) master-plan will be developed to map RE potential and sites and feasibility studies will be conducted.\n"
     ]
    },
    {
     "name": "stdout",
     "output_type": "stream",
     "text": [
      "•\tPromotion and Development of Renewable/Alternate Energy Technologies - The Programme aims to diversify energy supply mix using other renewable energy resources like solar, wind, biomass, small hydro and other emerging modern fuels for energy generation and to strengthen the institutional capacity for provision of efficient and responsive energy services in the Country.\n"
     ]
    },
    {
     "name": "stdout",
     "output_type": "stream",
     "text": [
      "The Program intends to develop Renewable Energy Master Plan, conduct pre-feasibility and feasibility studies to attract the investors in the RE Sector.\n"
     ]
    },
    {
     "name": "stdout",
     "output_type": "stream",
     "text": [
      "The Programme will promote biogas plants as alternate source of fuel for cooking, Compact Fluorescent Lamp (CFL) instead of incandescent lamps in the LV category consumers, energy efficient wood stoves to reduce fuel-wood demand and solar water heating systems as alternative means for heating water and space.\n"
     ]
    },
    {
     "name": "stdout",
     "output_type": "stream",
     "text": [
      "The sector has been identified as one of the sectors for provision of high end green services such as Business Process Outsourcing (BPOs), Knowledge Process Outsourcing (KPOs), Data Centres and other IT enabled services in health, education, finance etc.\n"
     ]
    },
    {
     "name": "stdout",
     "output_type": "stream",
     "text": [
      "Direct high bandwidth connectivity to India, Nepal and Bangladesh is being established under SASEC Information Highway Project.\n"
     ]
    },
    {
     "name": "stdout",
     "output_type": "stream",
     "text": [
      "Of the 182 Community Centres (CCs) that have been established, Telecommunications - All 205 Gewogs have access to mobile services and the remaining 10 villages will be connected by mobile services by the end of 2013.\n"
     ]
    },
    {
     "name": "stdout",
     "output_type": "stream",
     "text": [
      "The high difference in tariff levels could negate Bhutan's comparative advantage of political stability, clean environment and availability of cheap and reliable power.\n"
     ]
    },
    {
     "name": "stdout",
     "output_type": "stream",
     "text": [
      "At present, all telecom links to the outside world are routed through Siliguri, India.\n"
     ]
    },
    {
     "name": "stdout",
     "output_type": "stream",
     "text": [
      "Any operational failure in the telecom link through Siliguri could lead to connectivity problems.\n"
     ]
    },
    {
     "name": "stdout",
     "output_type": "stream",
     "text": [
      "An alternate telecom link with the outside world is necessary for international redundancy without which it may be difficult to position Bhutan as a potential hub for ICT and ICT enabled services.\n"
     ]
    },
    {
     "name": "stdout",
     "output_type": "stream",
     "text": [
      "Talent Pool - the strength of the ICT sector is primarily determined by availability of a rich pool of competent information and communications professionals.\n"
     ]
    },
    {
     "name": "stdout",
     "output_type": "stream",
     "text": [
      "The surface transport is regulated by the Road Safety & Transport Act 1999 and air transport by theCivil Aviation Act 2000.\n"
     ]
    },
    {
     "name": "stdout",
     "output_type": "stream",
     "text": [
      "The focus of surface transport activities will be the implementation of the Bhutan Transport Strategies 2040.\n"
     ]
    },
    {
     "name": "stdout",
     "output_type": "stream",
     "text": [
      "The primary objective of Bhutan Transport Strategy is to address the issue of growing traffic congestion particularly in Thimphu and Phuentsholing and improve access to reliable and safe public transport to all parts of the country.\n"
     ]
    },
    {
     "name": "stdout",
     "output_type": "stream",
     "text": [
      "Also, emphasis will be placed on making our roads safer through extensive advocacy and education programmes.\n"
     ]
    },
    {
     "name": "stdout",
     "output_type": "stream",
     "text": [
      "5.10.1 Current Situation\n\nSurface Transport - Surface transport is the main means of passengers and good transportation.\n"
     ]
    },
    {
     "name": "stdout",
     "output_type": "stream",
     "text": [
      "To address urban transportation needs, a study on Bhutan Urban Transport Systems to assess the feasibility of introducing eco-friendly mass urban transport system using clean fuel for Thimphu and Phuentsholing has been completed.\n"
     ]
    },
    {
     "name": "stdout",
     "output_type": "stream",
     "text": [
      "The study recommends Bus Rapid Transit (BRT), high capacity buses (60 seats) which meet European emission standards, for Thimphu to be implemented under Public Private Partnership model.\n"
     ]
    },
    {
     "name": "stdout",
     "output_type": "stream",
     "text": [
      "With the expansion of aviation sector, the Department of Civil Aviation is confronted with a key challenge of retaining its professionals who are being offered better remuneration and service conditions by the airline companies.\n"
     ]
    },
    {
     "name": "stdout",
     "output_type": "stream",
     "text": [
      "Further, conflicting functions of regulation and implementation being carried out by the department is creating potential for conflict of interest.\n"
     ]
    },
    {
     "name": "stdout",
     "output_type": "stream",
     "text": [
      "5.10.4 Strategies\n\nThe surface transport is regulated by the Road Safety & Transport Act 1999 and air transport by the Civil Aviation Act 2000.\n"
     ]
    },
    {
     "name": "stdout",
     "output_type": "stream",
     "text": [
      "Surface Transport - Access to public transportation, particularly in rural areas, will be expanded by incentivizing transport operators through special subsidies.\n"
     ]
    },
    {
     "name": "stdout",
     "output_type": "stream",
     "text": [
      "Road safety will be strengthened by improving driver licensing procedures, motor vehicle fitness standards, public safety awareness campaigns (especially on drink driving and over-speeding) and equipping road safety authorities with necessary equipments and tools to monitor road safety.\n"
     ]
    },
    {
     "name": "stdout",
     "output_type": "stream",
     "text": [
      "Air Transport - The key strategy will be to strengthen Paro International Airport through expansion of infrastructure facilities and upgradation of security and navigational equipment to increase its capacity to handle more passengers, cargo and flights.\n"
     ]
    },
    {
     "name": "stdout",
     "output_type": "stream",
     "text": [
      "The retention of professionals will be addressed through a comprehensive review of civil service system and conflicting functions will be addressed by exploring ways to ensure greater independence and autonomy of the Department of Civil Aviation.\n"
     ]
    },
    {
     "name": "stdout",
     "output_type": "stream",
     "text": [
      "Alternate modes of transport - To ease the pressure on air and surface transport, alternate modes of transporting passengers and goods will be explored such as waterway, ropeway, cable cars and railway links.\n"
     ]
    },
    {
     "name": "stdout",
     "output_type": "stream",
     "text": [
      "•\tDevelopment of Air Transport - the programme will focus on further expansion of the Paro International Airport to deal with the expansion in air traffic and passengers, as well as strengthen the domestic airports to optimize their functionality.\n"
     ]
    },
    {
     "name": "stdout",
     "output_type": "stream",
     "text": [
      "*****\n\n5.11  Roads & Bridges Sector\n\nFor a landlocked country, a good network of road and bridges play a critical role in facilitating trade, transit, reducing the high cost of transportation normally associated with mountainous countries and for delivery of socio-economic services particularly to scattered and far-off rural communities.\n"
     ]
    },
    {
     "name": "stdout",
     "output_type": "stream",
     "text": [
      "The main thrust of the roads and bridges sector in the Eleventh Plan will be to complete the national highway grid using environment friendly technology, construction and upgradation of roads connecting to hydro-power projects and to enhance the safety, reliability and quality of roads.\n"
     ]
    },
    {
     "name": "stdout",
     "output_type": "stream",
     "text": [
      "5.11.2 Key Challenges\n\nMost of the existing primary and secondary national highways, including the Northern East-West highway, were constructed in the 1960s and 1970s when the traffic volume was low with the primary objective of providing connectivity to settlements.\n"
     ]
    },
    {
     "name": "stdout",
     "output_type": "stream",
     "text": [
      "To reduce travel time and costs and to enhance road safety, road specifications and standards will be improved and geometric improvements and regular maintenance of road will be carried out.\n"
     ]
    },
    {
     "name": "stdout",
     "output_type": "stream",
     "text": [
      "*****\n\n5.12  Construction Sector\n\nThe construction sector plays a vital role in the delivery of quality infrastructure which is essential for our socio-economic development.\n"
     ]
    },
    {
     "name": "stdout",
     "output_type": "stream",
     "text": [
      "Construction Development Corporation Limited (CDCL): CDCL was established on 1st July 2006 as a public sector company owned by the Royal Government of Bhutan with the following objectives:\n\n•\tEnhance efficiency, mechanization, improve standards and create a good benchmark of quality infrastructure in the construction sector.\n"
     ]
    },
    {
     "name": "stdout",
     "output_type": "stream",
     "text": [
      "•\tGenerate employment and at the same time develop necessary skills for skilled and unskilled national manpower, thereby gradually reducing dependence on the expatriate work force.\n"
     ]
    },
    {
     "name": "stdout",
     "output_type": "stream",
     "text": [
      "The sector has come a long way with establishment of various agencies and introduction of many new initiatives towards making the sector more efficient and effective.\n"
     ]
    },
    {
     "name": "stdout",
     "output_type": "stream",
     "text": [
      "However, poor quality of construction, human resource constraints and high construction costs continue to affect the sector.\n"
     ]
    },
    {
     "name": "stdout",
     "output_type": "stream",
     "text": [
      "The main thrust in the Eleventh Plan will, therefore, be on enhancing the quality of construction through efficient and appropriate technology, mechanization and human resource development.\n"
     ]
    },
    {
     "name": "stdout",
     "output_type": "stream",
     "text": [
      "5.12.1 Current Situation\n\nThe construction sector contributed about 16 percent of nominal GDP and recorded an annual growth of 35 percent in 2011.\n"
     ]
    },
    {
     "name": "stdout",
     "output_type": "stream",
     "text": [
      "Some of the reasons for this perception are low wages, lack of job security (workers have to find a new job once the construction project is completed), low level of mechanization and the manual nature of work.\n"
     ]
    },
    {
     "name": "stdout",
     "output_type": "stream",
     "text": [
      "Limited capacity and poor quality: The shortage of engineers, architect and other qualified professionals combined with a lack of basic tools and technology for effective planning, designing and supervision results in frequent changes in the scope of work and consequently the cost of construction projects.\n"
     ]
    },
    {
     "name": "stdout",
     "output_type": "stream",
     "text": [
      "90 percent of all construction projects in Bhutan have time and cost overruns as compared to 40 percent in India and 5 percent in best-in-class countries52.\n"
     ]
    },
    {
     "name": "stdout",
     "output_type": "stream",
     "text": [
      "Further, due to poor quality of construction, the cost of maintenance is expected to be double the industry standard.\n"
     ]
    },
    {
     "name": "stdout",
     "output_type": "stream",
     "text": [
      "5.12.3 Sector Key Result Areas\n\n5.12.4 Strategies\n\nTraining and capacity building of engineers, architects and other professionals in the construction sector will receive high priority in the Eleventh Plan's Human Resource Development Master-plan.\n"
     ]
    },
    {
     "name": "stdout",
     "output_type": "stream",
     "text": [
      "To encourage youth to work in the construction sector special service conditions such as job security and better wages will be explored.\n"
     ]
    },
    {
     "name": "stdout",
     "output_type": "stream",
     "text": [
      "Vocational training programmes will be aligned to the needs of construction industry and will include apprenticeships and on-the-job trainings.\n"
     ]
    },
    {
     "name": "stdout",
     "output_type": "stream",
     "text": [
      "Vocational training graduates will be encouraged to form their own construction firms and the government will provide necessary support for start-ups.\n"
     ]
    },
    {
     "name": "stdout",
     "output_type": "stream",
     "text": [
      "5.12.5 Key programmes\n\n•\tPromotion and Strengthening of Construction Sector: The Construction Development Board (CDB) will concentrate on promoting efficient and quality based construction sector.\n"
     ]
    },
    {
     "name": "stdout",
     "output_type": "stream",
     "text": [
      "•\tEngineering Adaptation and Disaster Risk Reduction: The major activities to be undertaken during the plan period are construction of flood protection walls and land reclamation along major flooding rivers, disaster risk assessment and mapping and development of guidelines and manuals.\n"
     ]
    },
    {
     "name": "stdout",
     "output_type": "stream",
     "text": [
      "*****\n\n5.13  Human Settlement & Housing Sector\n\nHuman Settlement: Until recently, the focus of this sector was mainly on urban development to meet the needs arising from the rising trends in rural-urban migration and rapid pace of urbanization, particularly in the two major towns of Thimphu and Phuentsholing.\n"
     ]
    },
    {
     "name": "stdout",
     "output_type": "stream",
     "text": [
      "This rapid growth in urban population has created severe pressure on existing facilities leading to problems of water shortages, lack of sanitation and waste disposal facilities etc.\n"
     ]
    },
    {
     "name": "stdout",
     "output_type": "stream",
     "text": [
      "To address these problems, a number of urban development programmes, particularly in Thimphu and Phuentsholing, have been implemented over the last decade.\n"
     ]
    },
    {
     "name": "stdout",
     "output_type": "stream",
     "text": [
      "However, in spite of major infrastructure expansion, the rural-urban migration trend continues and urban centres continue to face difficulties in provision of urban services.\n"
     ]
    },
    {
     "name": "stdout",
     "output_type": "stream",
     "text": [
      "In the meantime, large scale unplanned developments near urban areas are taking place.\n"
     ]
    },
    {
     "name": "stdout",
     "output_type": "stream",
     "text": [
      "The main thrust of the human settlement sector will be to develop strategic human settlements with a focus on balanced regional development and improving the quality of life and socio economic status of both urban and rural residents.\n"
     ]
    },
    {
     "name": "stdout",
     "output_type": "stream",
     "text": [
      "Therefore, DHS was mandated to develop settlement plans that take into consideration the planning of an entire region.\n"
     ]
    },
    {
     "name": "stdout",
     "output_type": "stream",
     "text": [
      "Yenlag Throm should have a resident population of more than 1500 and area not less than 50 acres.\n"
     ]
    },
    {
     "name": "stdout",
     "output_type": "stream",
     "text": [
      "Currently, there are 1,122 housing units across the country for rental and 32 apartments in Changjiji allotted under homeownership programme to low income groups.\n"
     ]
    },
    {
     "name": "stdout",
     "output_type": "stream",
     "text": [
      "BLSS 2012 reports that 85 percent of the households in the rural areas lived in houses whereas almost three-fourths of urban households (73 percent) lived either in part of a house or in an apartment.\n"
     ]
    },
    {
     "name": "stdout",
     "output_type": "stream",
     "text": [
      "Moreover, lack of qualified and experienced GIS professionals, municipal engineers, urban economists, sociologists, planning lawyers, investment planners and environmentalists limit the sector to address complex urban issues.\n"
     ]
    },
    {
     "name": "stdout",
     "output_type": "stream",
     "text": [
      "As a result, many Bhutanese in Phuentsholing are forced to live across the border and in places like Gasa and Lhuentshe civil servants are living in temporary makeshift houses due to lack of proper housing.\n"
     ]
    },
    {
     "name": "stdout",
     "output_type": "stream",
     "text": [
      "The challenge is not only in terms of increasing the housing stock but also making it affordable particularly for the low and middle income group.\n"
     ]
    },
    {
     "name": "stdout",
     "output_type": "stream",
     "text": [
      "The high cost of financing and raw materials makes construction expensive resulting in higher rents.\n"
     ]
    },
    {
     "name": "stdout",
     "output_type": "stream",
     "text": [
      "NHDC's assessment indicate that low income people spend about 50-60 percent of their income on house rent in Thimphu and Phuentsholing against an ideal proportion of 30 percent of income.\n"
     ]
    },
    {
     "name": "stdout",
     "output_type": "stream",
     "text": [
      "Housing: NHDC will explore new technologies and design innovation to reduce the cost of construction while ensuring high quality.\n"
     ]
    },
    {
     "name": "stdout",
     "output_type": "stream",
     "text": [
      "Over the next five years, about 800 new units of low income housing for rental will be constructed across the country.\n"
     ]
    },
    {
     "name": "stdout",
     "output_type": "stream",
     "text": [
      "To promote homeownership, about 100 units will be constructed which will be allotted to low income civil servants based on modalities such as direct purchase, lease, and purchase and installment payment basis depending on the purchasing capacity of the beneficiaries.\n"
     ]
    },
    {
     "name": "stdout",
     "output_type": "stream",
     "text": [
      "Given the limited resources of the government, partnership with private sector for the provision of low-cost housing will also be explored.\n"
     ]
    },
    {
     "name": "stdout",
     "output_type": "stream",
     "text": [
      "5.13.5 Key Programmes\n\n•\tEnhancing human settlement in Bhutan: The development of settlement has been accorded high priority in past plans but the efforts were mostly concentrated in urban areas.\n"
     ]
    },
    {
     "name": "stdout",
     "output_type": "stream",
     "text": [
      "*****\n\n5.14  Emerging Social Challenges\n\nWith development, Bhutan is confronted with new social challenges such as those related to youth, senior citizens, single parents, orphans, differently-abled persons, domestic violence and crime.\n"
     ]
    },
    {
     "name": "stdout",
     "output_type": "stream",
     "text": [
      "The rising rural-urban migration, changing urban lifestyle and exposure to information and media are giving rise to breakdowns in family relationships, drug abuse, crime and youth related problems.\n"
     ]
    },
    {
     "name": "stdout",
     "output_type": "stream",
     "text": [
      "Many urban areas are already confronted with these challenges and for the first time the Eleventh Plan pays special attention to these issues.\n"
     ]
    },
    {
     "name": "stdout",
     "output_type": "stream",
     "text": [
      "Besides, there are a number of civil society organizations (CSO) and associations working in these areas such as:\n\n•\tYouth Development Fund, which was established as a CSO in 1999 to provide financial support for youth development activities like leadership skills, drug rehabilitation, special education, basic skills and vocational training, advocacy research and education.\n"
     ]
    },
    {
     "name": "stdout",
     "output_type": "stream",
     "text": [
      "•\tRENEW (Respect, Educate, Nurture and Empower Women), which was established as a CSO in 2004 and is dedicated to the empowerment of women and girls in Bhutan, especially victims of domestic and gender based violence.\n"
     ]
    },
    {
     "name": "stdout",
     "output_type": "stream",
     "text": [
      "RENEW provides counseling, temporary and long-term shelters, legal assistance and need-based provision of vocational training in selected skills and micro-enterprises as a way of providing opportunities to help transform lives of many\t\nwomen.\n"
     ]
    },
    {
     "name": "stdout",
     "output_type": "stream",
     "text": [
      "It provides services and facilities to address the needs of families and individuals with multiple impairments, especially children living with mental retardation, cerebral palsy, autism and multiple disabilities.\n"
     ]
    },
    {
     "name": "stdout",
     "output_type": "stream",
     "text": [
      "•   Royal Society for Senior Citizens, established as a CSO in 2011 to enhance human security especially amongst its old age citizens.\n"
     ]
    },
    {
     "name": "stdout",
     "output_type": "stream",
     "text": [
      "Enabling Environment - The various articles of the Constitution, in particular Article\t\n7 and 9, protect the rights of an individual, women and children and mandates\t\nthe State to take appropriate measures to eliminate all form of discrimination and\t\nexploitation.\n"
     ]
    },
    {
     "name": "stdout",
     "output_type": "stream",
     "text": [
      "Domestic laws such as Child Adoption Act 2012, Child Care and Protection Act of\t\nBhutan 2011, Narcotic Drugs, Psychotropic Substances and Substance Abuse Act 2005\t\nand Rape Act 1996 have been enacted to protect the rights and welfare of individuals.\n"
     ]
    },
    {
     "name": "stdout",
     "output_type": "stream",
     "text": [
      "At the international level, Bhutan is a signatory to the Convention on Elimination\t\nof all Forms of Discrimination Against Women (CE DAW), Convention of Rights of\t\nthe Child (CRC) and the UN Convention on the Rights of Persons with Disabilities.\n"
     ]
    },
    {
     "name": "stdout",
     "output_type": "stream",
     "text": [
      "Existing Facilities - The National Institute for the Visually Impaired established in\t\n1973 was the first institution established for special needs children.\n"
     ]
    },
    {
     "name": "stdout",
     "output_type": "stream",
     "text": [
      "The Ministry of Education has established Changangkha Lower Secondary School in 2001 as an integrated school providing special needs education and education for the hearing impaired was introduced in Drukgyel Lower Secondary School in 2003.\n"
     ]
    },
    {
     "name": "stdout",
     "output_type": "stream",
     "text": [
      "In addition, there are six other schools catering to the special needs education.\n"
     ]
    },
    {
     "name": "stdout",
     "output_type": "stream",
     "text": [
      "The Ministry has also introduced the Inclusive Education programme for children with Special Education Needs (SEN) and has established a division for Special Education Needs under the Department of School Education.\n"
     ]
    },
    {
     "name": "stdout",
     "output_type": "stream",
     "text": [
      "RENEW provides shelter homes and safe houses for the victims of family violence and their children which operate 24 hours a day.\n"
     ]
    },
    {
     "name": "stdout",
     "output_type": "stream",
     "text": [
      "Differently-abled persons: According to the two stage child disability (aged 2-9 years) study53 carried out by NSB in 2012, the prevalence of any form disability was 21 percent.\n"
     ]
    },
    {
     "name": "stdout",
     "output_type": "stream",
     "text": [
      "The prevalence of disability was higher among the age group 2-5 years.\n"
     ]
    },
    {
     "name": "stdout",
     "output_type": "stream",
     "text": [
      "The largest number of senior citizens lived in the Eastern region (35433), followed by the Southern region (28697) and least lived in the Western region (11478).\n"
     ]
    },
    {
     "name": "stdout",
     "output_type": "stream",
     "text": [
      "Domestic violence - Records with RENEW indicate that cases of domestic violence are on the rise with a total of 1,141 cases reported till now in the country.\n"
     ]
    },
    {
     "name": "stdout",
     "output_type": "stream",
     "text": [
      "*****\n\n5.15  Sports\n\nRecognizing the positive contribution of games and sports in addressing lifestyle related health problems, strengthening community vitality, and preventing juvenile delinquency, amongst other benefits, the promotion and development of sports will be actively pursued in the Eleventh Plan.\n"
     ]
    },
    {
     "name": "stdout",
     "output_type": "stream",
     "text": [
      "In Thimphu, the BOC manages various sports facilities (the national stadium including the archery range, taekwondo training centre, Olympic archery range, synthetic athletic track and field arena, table tennis hall) even though BOC does not have legal ownership over these facilities.\n"
     ]
    },
    {
     "name": "stdout",
     "output_type": "stream",
     "text": [
      "The government will facilitate the implementation of the road map by ensuring enabling conditions for development of sports in the form of access to land, mainstreaming sports in sector/local government policies and programmes, incentives and participation in national, regional and international sporting events.\n"
     ]
    },
    {
     "name": "stdout",
     "output_type": "stream",
     "text": [
      "Bhutan's unique identity is reflected through its language, dress, architecture, etiquette, indigenous sports, and the everyday Bhutanese way of life.\n"
     ]
    },
    {
     "name": "stdout",
     "output_type": "stream",
     "text": [
      "The traditional beliefs and customs stress respect for all sentient beings and encourage values such as tolerance, compassion, respect, and generosity.\n"
     ]
    },
    {
     "name": "stdout",
     "output_type": "stream",
     "text": [
      "The Eleventh Plan also recognizes culture as an \"evolving dynamic force\" and the need \"to strengthen and facilitate the continued evolution of traditional values and institutions that are sustainable as a progressive society57\".\n"
     ]
    },
    {
     "name": "stdout",
     "output_type": "stream",
     "text": [
      "Futhermore, the preservation and promotion of culture is accorded priority not just for strengthening our identity but also as an economic imperative for tourism and to address poverty through the development of cultural industries.\n"
     ]
    },
    {
     "name": "stdout",
     "output_type": "stream",
     "text": [
      "The seal authenticates wholly produced and/or substantially transformed products with required minimum value addition within Bhutan.\n"
     ]
    },
    {
     "name": "stdout",
     "output_type": "stream",
     "text": [
      "Those still practicing today are a small group of elderly people and together with them these traditions may also pass away one day.\n"
     ]
    },
    {
     "name": "stdout",
     "output_type": "stream",
     "text": [
      "Cultural industries have the potential to contribute to poverty alleviation by enhancing rural incomes.\n"
     ]
    },
    {
     "name": "stdout",
     "output_type": "stream",
     "text": [
      "However, economies of scale, quality and access to markets are among the challenges that need to be addressed to harness this potential.\n"
     ]
    },
    {
     "name": "stdout",
     "output_type": "stream",
     "text": [
      "•\tCapacity development for research and documentation on conservation and restoration measures will be carried out through trainings/workshops.\n"
     ]
    },
    {
     "name": "stdout",
     "output_type": "stream",
     "text": [
      "5.16.5 Key Programmes:\n\ni)\tPreservation and promotion of culture, DoC, MoHCA -\n\n•\tPreparation of a plan for promotion and preservation of culture and traditions\n\n•\tConstruction of Pemagatshel Dzong\n\n•\tConstruction of Sarpang Dzong\n\n•\tRe-construction of Wangduephodrang Dzong\n\n•\tConservation of Trashigang Dzong Conservation of Gasa Dzong\n\n•\tRenovation of Paro Ta Dzong\n\n•\tRenovation of Phajoding Goenpa\n\nii)\tExpansion of Tango Buddhist College (Spillover)\n\niii)\tDevelopment of Dzongkha Language, Dzongkha Development Commission\n\niv)\tPromotion and development of craft industry, DCSI, MoEA\n\nv)\tContemporary performing arts, art and music promoted to complement and enhance Bhutanese identity and culture, DoIM, MoIC\n\n*****\n\n5.17  Conservation of Environment\n\nThe conservation of environment (one of the four pillars of GNH) is an integral part of our development strategy to ensure that socio-economic development efforts do not come at the cost of our natural environment.\n"
     ]
    },
    {
     "name": "stdout",
     "output_type": "stream",
     "text": [
      "Through the declaration entitled \"Declaration of the Kingdom of Bhutan - The Land of Gross National Happiness to Save our Planet\" the government has committed to maintain Bhutan's status as a net sink for Green House Gasses by ensuring that greenhouse gas emission levels do not exceed the sequestration capacity of its forest.\n"
     ]
    },
    {
     "name": "stdout",
     "output_type": "stream",
     "text": [
      "In this context, a National Strategy and Action Plan for Low Carbon Development has been formulated in 2012.\n"
     ]
    },
    {
     "name": "stdout",
     "output_type": "stream",
     "text": [
      "Bhutan has been able to maintain its natural environment, much of it pristine, due to its strong commitment towards conservation of environment and through enactment of various legislations such as National Environment Protection Act, 2007, Environmental Assessment Act 2000, Regulation for Environmental Clearance of Projects and Regulation on Strategic Environmental Assessment 2002, Waste Prevention and Management Act of Bhutan 2009, Waste Prevention and Management Regulation 2012 and Water Act of Bhutan 2011.\n"
     ]
    },
    {
     "name": "stdout",
     "output_type": "stream",
     "text": [
      "The high level of forest coverage has allowed Bhutan to maintain negative carbon emissions.\n"
     ]
    },
    {
     "name": "stdout",
     "output_type": "stream",
     "text": [
      "Biological diversity - 51.32 percent of the country is under a protected area network which includes ten protected areas and biological corridors.\n"
     ]
    },
    {
     "name": "stdout",
     "output_type": "stream",
     "text": [
      "Bhutan also falls within the top ten global biodiversity hotspots.\n"
     ]
    },
    {
     "name": "stdout",
     "output_type": "stream",
     "text": [
      "Air environment - Air environment to a large extent is still unpolluted.\n"
     ]
    },
    {
     "name": "stdout",
     "output_type": "stream",
     "text": [
      "Currently, monitoring of air quality is limited to suspended particulate matter (PM10), while SOx and NOx are monitored periodically.\n"
     ]
    },
    {
     "name": "stdout",
     "output_type": "stream",
     "text": [
      "The air quality monitoring stations have been established in Gomtu, Pasakha, Bajo, Kanglung, Kurichhu and Thimphu and data from these stations are broadcast on Bhutan Broadcasting Service Television (BBS TV) and websites of BBSC,\n\nKuensel and NEC for dissemination of information.\n"
     ]
    },
    {
     "name": "stdout",
     "output_type": "stream",
     "text": [
      "All rivers originate within the country except Amochhu, Gongri and Kurichhu all of which originate in the southern part of the Tibetan Plateau.\n"
     ]
    },
    {
     "name": "stdout",
     "output_type": "stream",
     "text": [
      "The National Environment Commission conducts water quality surveys and monitoring along major rivers and tributaries at least twice annually; pre- and post-monsoon.\n"
     ]
    },
    {
     "name": "stdout",
     "output_type": "stream",
     "text": [
      "The natural water quality can be characterized as highly oxygenated, slightly alkaline with low conductivity and no recorded salinities.\n"
     ]
    },
    {
     "name": "stdout",
     "output_type": "stream",
     "text": [
      "However, there are localized water pollution problems due to frequent unsanitary conditions along banks of streams and rivers (see box below).\n"
     ]
    },
    {
     "name": "stdout",
     "output_type": "stream",
     "text": [
      "Water Quality of Wangchhu, Thimphu.\n"
     ]
    },
    {
     "name": "stdout",
     "output_type": "stream",
     "text": [
      "The water quality assessment of Wangchhu which falls within the limits of the City periphery was conducted during the period March 5-9, 2012.\n"
     ]
    },
    {
     "name": "stdout",
     "output_type": "stream",
     "text": [
      "The river was investigated at three different stretches for water quality assessment viz.\n"
     ]
    },
    {
     "name": "stdout",
     "output_type": "stream",
     "text": [
      "Maximum permissible standard limit of faecal coliforms as recommended for Bhutan at final effluent from a sewerage treatment plant (STP) is 1,000 MPN/100 ml water.\n"
     ]
    },
    {
     "name": "stdout",
     "output_type": "stream",
     "text": [
      "A team also applied a bio-monitoring tool in the water quality assessment, which includes rapid field assessment of the quality of river considering bottom dwelling larvae of insects which are considered highly sensitive to the increase in pollution.\n"
     ]
    },
    {
     "name": "stdout",
     "output_type": "stream",
     "text": [
      "Results revealed no pollution (water quality class I) in Cheri, critical to heavy pollution (III/IV) in Babesa, and critical to moderate pollution (III/II) in Khasadrapchhu.\n"
     ]
    },
    {
     "name": "stdout",
     "output_type": "stream",
     "text": [
      "The key environmental challenges that the country faces relate to the nexus of environmental degradation, poverty and economic growth.\n"
     ]
    },
    {
     "name": "stdout",
     "output_type": "stream",
     "text": [
      "Population growth, increasing demand of natural resources, inappropriate technology and consumption choices, and pressures of development are the drivers of environmental degradation.\n"
     ]
    },
    {
     "name": "stdout",
     "output_type": "stream",
     "text": [
      "The ambient air and water quality, in general, still ranges from good to excellent but there are some pockets of urban and industrial areas where air and water quality is deteriorating due to vehicular and industrial pollution, construction activities, and unsanitary waste disposal.\n"
     ]
    },
    {
     "name": "stdout",
     "output_type": "stream",
     "text": [
      "It is also increasingly evident that poor environmental quality has adversely affected human health.\n"
     ]
    },
    {
     "name": "stdout",
     "output_type": "stream",
     "text": [
      "The environmental problems such as lack of access to adequate clean water, clean air and energy are closely linked to poverty.\n"
     ]
    },
    {
     "name": "stdout",
     "output_type": "stream",
     "text": [
      "Interventions such as reducing indoor air pollution, protecting sources of safe drinking water, protecting soil from contamination, improved sanitation measures, and better public health governance, offer tremendous opportunities for reducing the incidence of a number of critical health problems.\n"
     ]
    },
    {
     "name": "stdout",
     "output_type": "stream",
     "text": [
      "With the ever increasing development activities and industries, a challenge to the environment and planning sector is the cumulative effect of the combined activities on the ecosystem within a given space.\n"
     ]
    },
    {
     "name": "stdout",
     "output_type": "stream",
     "text": [
      "Another major set of challenges arises from emerging global environmental concerns such as climate change, global warming, stratospheric ozone depletion, and biodiversity loss.\n"
     ]
    },
    {
     "name": "stdout",
     "output_type": "stream",
     "text": [
      "The key is to operationalize the principle of common but differentiated responsibility of countries in relation to these problems.\n"
     ]
    },
    {
     "name": "stdout",
     "output_type": "stream",
     "text": [
      "At the same time, multilateral regimes and programmes responding to these global environmental issues must not adversely impact the development opportunities of developing countries.\n"
     ]
    },
    {
     "name": "stdout",
     "output_type": "stream",
     "text": [
      "Water Security - Water is an important natural resource for basic survival of all living beings.\n"
     ]
    },
    {
     "name": "stdout",
     "output_type": "stream",
     "text": [
      "On the demand side, the gross consumptive demand is estimated to increase from 422 million m3 in 2002 to 541 million m3 in 2022.\n"
     ]
    },
    {
     "name": "stdout",
     "output_type": "stream",
     "text": [
      "Non-consumptive demand, in the form of hydropower demand, is estimated to increase from 6,700 million m3 in 2002 to 26,900 million m3 in 202262.\n"
     ]
    },
    {
     "name": "stdout",
     "output_type": "stream",
     "text": [
      "While at macro level the per capita water availability is high, at local levels access to water is a serious concern with several places facing water shortages.\n"
     ]
    },
    {
     "name": "stdout",
     "output_type": "stream",
     "text": [
      "The 2002 water supply adequacy analysis carried out in 28 urban towns, as part of Water Resource Management Plan preparation, revealed that 11 towns faced water shortages and another seven more towns would face water constraints by 201364.\n"
     ]
    },
    {
     "name": "stdout",
     "output_type": "stream",
     "text": [
      "Similarly, despite abundance of water resources at macro level, arable land is largely dependent on rains.\n"
     ]
    },
    {
     "name": "stdout",
     "output_type": "stream",
     "text": [
      "In the absence of rain, farmers are forced to leave their land fallow and this has direct impact on poverty and national food and nutrition security goals.\n"
     ]
    },
    {
     "name": "stdout",
     "output_type": "stream",
     "text": [
      "However, the level of revenue it contributes depends on hydrological factors.\n"
     ]
    },
    {
     "name": "stdout",
     "output_type": "stream",
     "text": [
      "5.17.3\tSector Key Result Areas\n\n5.17.4 Strategies\n\nThe key strategies include:\n\n•\tImplementation of the National Strategy and Action Plan for Low Carbon Development 2012.\n"
     ]
    },
    {
     "name": "stdout",
     "output_type": "stream",
     "text": [
      "Eleventh Five Year Plan - Main Document Volume I\n\n•\tWater security will be strengthened through the development of integrated water resource management plan and better coordination.\n"
     ]
    },
    {
     "name": "stdout",
     "output_type": "stream",
     "text": [
      "This will be further supported through the enforcement of Water Act and development of water regulation.\n"
     ]
    },
    {
     "name": "stdout",
     "output_type": "stream",
     "text": [
      "•\tConducting strategic environmental assessment for hydropower projects and transmission lines and carrying capacity of the mines and industries to ensure sustainable development and inter-generational equity.\n"
     ]
    },
    {
     "name": "stdout",
     "output_type": "stream",
     "text": [
      "•\tTo address the issue of human-wildlife conflict, the Ministry of Agriculture and Forest will construct solar-powered electric fence, provide electric fence energizer and will continue with Gewog level insurance programs for livestock and crops from endowment funds.\n"
     ]
    },
    {
     "name": "stdout",
     "output_type": "stream",
     "text": [
      "The Eleventh Plan will continue to place emphasis on further strengthening governance by strengthening democracy, improving public service delivery, promoting gender equality, curbing corruption and enhancing safety.\n"
     ]
    },
    {
     "name": "stdout",
     "output_type": "stream",
     "text": [
      "5.18.1 Current Situation\n\nDemocracy and Decentralization - The second Parliamentary elections was held on 13 July 2013 and the Peoples Democratic Party was elected to form the second government for a term of five years.\n"
     ]
    },
    {
     "name": "stdout",
     "output_type": "stream",
     "text": [
      "64Revised resource allocation formula includes multi-dimensional poverty index, transport cost index, population and geographical area.\n"
     ]
    },
    {
     "name": "stdout",
     "output_type": "stream",
     "text": [
      "In the area of inheritance, traditional customs favour women who have greater access to land and ownership.\n"
     ]
    },
    {
     "name": "stdout",
     "output_type": "stream",
     "text": [
      "Although female literacy rate has improved from less than 40 percent in 2010 to 55 percent68 in 2012, it remains low compared to the male literacy rate of 72 percent.\n"
     ]
    },
    {
     "name": "stdout",
     "output_type": "stream",
     "text": [
      "Curbing corruption - In an effort to curb corruption, the Anti-Corruption Act 2011\n\n- ACA 2011 (repealing ACA 2006) was enacted, various new rules and regulations such as such Gift Rules 2009, The Debarment (of Corrupt Firms) Rules 2008 and Asset Declaration Rule 2012 have been put in place and the National Anti Corruption Strategy launched.\n"
     ]
    },
    {
     "name": "stdout",
     "output_type": "stream",
     "text": [
      "Transparency International's 2012 Corruption Perception Index ranked Bhutan 33rd among the 176 nations, an improvement of five positions from 38th in 2011.\n"
     ]
    },
    {
     "name": "stdout",
     "output_type": "stream",
     "text": [
      "In 2012-2013, ACC received 449 complaints compared to 458 cases in the previous year.\n"
     ]
    },
    {
     "name": "stdout",
     "output_type": "stream",
     "text": [
      "One area Bhutan scores low is the political participation.\n"
     ]
    },
    {
     "name": "stdout",
     "output_type": "stream",
     "text": [
      "To strengthen the process of decentralization, administrative and fiscal devolution of authority alone is not sufficient but of equal importance is to build the capacity of those at the grassroots to plan, implement and monitor development activities.\n"
     ]
    },
    {
     "name": "stdout",
     "output_type": "stream",
     "text": [
      "Human resource strengthening at local levels both in terms of numbers and technical skills will be critical.\n"
     ]
    },
    {
     "name": "stdout",
     "output_type": "stream",
     "text": [
      "The rapid growth of civil service, which averaged 4 percent per annum during the last five years, and high costs, amounting to about 45 percent of the total recurrent expenditures, is a concern.\n"
     ]
    },
    {
     "name": "stdout",
     "output_type": "stream",
     "text": [
      "The turn-around time for many of the public services to its citizens, businesses and intra government services remain high and inefficient.\n"
     ]
    },
    {
     "name": "stdout",
     "output_type": "stream",
     "text": [
      "The major areas of concerns are the misuse of authority, misuse of government property, embezzlement and nepotism.\n"
     ]
    }
   ],
   "source": [
    "import pandas as pd \n",
    "result = pd.DataFrame()\n",
    "i = 0\n",
    "\n",
    "for s in sen: \n",
    "    if concept_matching(goal1_1, s, sigma=0.4):\n",
    "        result.loc[i, 'text'] = s\n",
    "        result.loc[i, 'score'] = concept_matching(goal1_1, s, sigma=0.4)\n",
    "        i +=1\n",
    "        print(s)"
   ]
  },
  {
   "cell_type": "code",
   "execution_count": 84,
   "metadata": {},
   "outputs": [],
   "source": [
    "result.to_csv('test.csv')"
   ]
  },
  {
   "cell_type": "code",
   "execution_count": 104,
   "metadata": {
    "collapsed": true
   },
   "outputs": [
    {
     "name": "stdout",
     "output_type": "stream",
     "text": [
      "﻿5.1 Education Sector\n\nThe single most important factor towards achieving the socio-economic development goals will be the success of the education sector in enhancing the social, economic, cultural, environmental, and political capabilities of our most important asset, our people.\n"
     ]
    },
    {
     "name": "stdout",
     "output_type": "stream",
     "text": [
      "Education virtually impacts all dimensions of development and is critical for ensuring sustainable poverty alleviation which can only come through the empowerment of our people, particularly the remote and most vulnerable sections of our population.\n"
     ]
    },
    {
     "name": "stdout",
     "output_type": "stream",
     "text": [
      "An educated citizenry that is able to understand, translate and act upon information, laws, rights and responsibilities is critical for ensuring a \"vibrant democracy\" and effective governance.\n"
     ]
    },
    {
     "name": "stdout",
     "output_type": "stream",
     "text": [
      "Similarly, the realization of our vision of a \"knowledge based society\" is absolutely dependent on a technically skilled workforce with competencies benchmarked to leading industry standards and capabilities to think globally but act locally.\n"
     ]
    },
    {
     "name": "stdout",
     "output_type": "stream",
     "text": [
      "The responsibility for the administration of education in Bhutan is shared amongst the Ministry of Education (MoE), the Ministry of Labour and Human Resources (MoLHR), the Royal University of Bhutan (RUB), and the local governments.\n"
     ]
    },
    {
     "name": "stdout",
     "output_type": "stream",
     "text": [
      "Provision of monastic education is facilitated by the central monastic body and privately managed independent monasteries.\n"
     ]
    },
    {
     "name": "stdout",
     "output_type": "stream",
     "text": [
      "Although education plans are centrally coordinated, their implementation has largely been decentralized to local governments, schools and institutions to ensure greater autonomy, accountability and dynamism to achieve desired educational outcomes.\n"
     ]
    },
    {
     "name": "stdout",
     "output_type": "stream",
     "text": [
      "The school-based education structure comprises of 11 years of free basic education from classes Pre Primary to X, divided into 7 years of primary education (PP-VI), starting at the age of 6, and 4 years of Secondary Education (VII-X).\n"
     ]
    },
    {
     "name": "stdout",
     "output_type": "stream",
     "text": [
      "At the end of the cycle (Class X) there is a national board examination, Bhutan Certificate for Secondary Education (BCSE).\n"
     ]
    },
    {
     "name": "stdout",
     "output_type": "stream",
     "text": [
      "Beyond class X, government funded education is based on merit.\n"
     ]
    },
    {
     "name": "stdout",
     "output_type": "stream",
     "text": [
      "The Bhutan Council for School Examinations and Assessment (BCSEA) conducts the national examinations for classes X and XII.\n"
     ]
    },
    {
     "name": "stdout",
     "output_type": "stream",
     "text": [
      "The examinations for classes VI and VIII have been decentralized to the schools, although the questions, model answers and marking schemes are provided by the BCSEA.\n"
     ]
    },
    {
     "name": "stdout",
     "output_type": "stream",
     "text": [
      "The TVET system comprises of 8 institutes spread across the country with an intake capacity of about 1,000 students a year and 138 teachers.\n"
     ]
    },
    {
     "name": "stdout",
     "output_type": "stream",
     "text": [
      "Programmes offered vary from 6 months to 2 years at the certificate level in courses ranging from electrical, mechanical, construction engineering, auto-mechanics, driving, computer hardware, carpentry, furniture making.\n"
     ]
    },
    {
     "name": "stdout",
     "output_type": "stream",
     "text": [
      "The two institutes of Zorig Chusum provide 2-6 year programmes in the 13 traditional arts and crafts.\n"
     ]
    },
    {
     "name": "stdout",
     "output_type": "stream",
     "text": [
      "These institutes generally cater to students or school leavers after Class X with the objective of imparting knowledge skills necessary to make them employable in the labour market.\n"
     ]
    },
    {
     "name": "stdout",
     "output_type": "stream",
     "text": [
      "Tertiary education in Bhutan comprises of three years of undergraduate studies provided by the Royal University of Bhutan (RUB) through its 10 constituent colleges located in various parts of the country and one private college, the Royal Thimphu College.\n"
     ]
    },
    {
     "name": "stdout",
     "output_type": "stream",
     "text": [
      "Under-graduate degree and diploma programmes include civil, mechanical, computer and electrical engineering, natural resources, language and cultural studies, education, traditional medicine, nursing and health science, business and commerce, sciences, and liberal arts studies.\n"
     ]
    },
    {
     "name": "stdout",
     "output_type": "stream",
     "text": [
      "In addition, the Royal Institute of Management provides post-graduate diploma and diploma programmes ranging from 1 to 2 years in management and development, finance and business, ICT, and law.\n"
     ]
    },
    {
     "name": "stdout",
     "output_type": "stream",
     "text": [
      "It recently introduced post graduate degree courses in public administration and management.\n"
     ]
    },
    {
     "name": "stdout",
     "output_type": "stream",
     "text": [
      "The Monastic body reports that there are 7,240 monastic novices in 388 monastic schools and 3 nunneries across Bhutan.\n"
     ]
    },
    {
     "name": "stdout",
     "output_type": "stream",
     "text": [
      "5.1.1\tCurrent Situation\n\nThe Ministry of Education's Annual Education Statistics 2013 reports a net primary enrollment ratio (PP to VI) of 96 percent, net basic education enrollment ratio (PP-X) of 94 percent and adult literacy of 55 percent.\n"
     ]
    },
    {
     "name": "stdout",
     "output_type": "stream",
     "text": [
      "Evidently, with high priority accorded to the education sector, Bhutan is well on track to achieve the MDGs.\n"
     ]
    },
    {
     "name": "stdout",
     "output_type": "stream",
     "text": [
      "In terms of the MDGs, the targets for gross primary enrolment ratios, proportion of pupils starting grade 1 who reach grade 5, and the ratio of girls to boys in primary schools and secondary schools have already been achieved while the other targets are well on track to be achieved.\n"
     ]
    },
    {
     "name": "stdout",
     "output_type": "stream",
     "text": [
      "However, the Gender Parity Index is calculated at 1.02, indicating that on the whole there is no significant gender inequality in the Bhutanese education system.\n"
     ]
    },
    {
     "name": "stdout",
     "output_type": "stream",
     "text": [
      "Both boys and girls have equal opportunities in terms of access, quality of learning process, equality of outcomes and external results.\n"
     ]
    },
    {
     "name": "stdout",
     "output_type": "stream",
     "text": [
      "5.1.2  Key Challenges\n\nLast mile challenges and disparities at local levels - The Adjusted Net Enrolment Ratio (ANER)29 for primary education is 98.5 percent (2013).\n"
     ]
    },
    {
     "name": "stdout",
     "output_type": "stream",
     "text": [
      "This indicates that 1.5 percent of primary school going age children are out of school.\n"
     ]
    },
    {
     "name": "stdout",
     "output_type": "stream",
     "text": [
      "This 1.5 percent are assumed to be children in remote and hard to reach areas, children of nomadic communities, children with learning disabilities whose special learning needs are yet to be catered for and children of the urban poor.\n"
     ]
    },
    {
     "name": "stdout",
     "output_type": "stream",
     "text": [
      "Similarly, the Gender Parity Index (GPI) reveals that Pemagatshel, Trongsa, Haa, Punakha and Mongar have a variance in their GPI scores by more than 0.03 from 1.0, indicating that some inequity exists in terms of gender participation.\n"
     ]
    },
    {
     "name": "stdout",
     "output_type": "stream",
     "text": [
      "In all of these five Dzongkhags, the participation level of girls in primary education significantly exceeds that of boys.\n"
     ]
    },
    {
     "name": "stdout",
     "output_type": "stream",
     "text": [
      "However, these ratios change in favor of male children as students move to higher classes mainly due to higher drop-out rates among female students.\n"
     ]
    },
    {
     "name": "stdout",
     "output_type": "stream",
     "text": [
      "Addressing the last mile challenge of enrollment, including disparities at local levels and catering to the special needs of children with disabilities will require innovative and cost effective strategies in the delivery of education.\n"
     ]
    },
    {
     "name": "stdout",
     "output_type": "stream",
     "text": [
      "Relevance and Quality of Education: In spite of the significant progress made with regard to providing access to education, the quality of education is an issue of growing concern to parents and policy makers.\n"
     ]
    },
    {
     "name": "stdout",
     "output_type": "stream",
     "text": [
      "Judging solely by improvements in efficiency indicators such as drop-out rates, repetition rates, completion rates and survival rates, the quality of education has certainly improved over the years, although some of these rates, such as repetition and dropout rates in class IV and VII, are still undesirably high and need further improvement.\n"
     ]
    },
    {
     "name": "stdout",
     "output_type": "stream",
     "text": [
      "However, what remains of great concern is that an increasing numbers of our students, including graduates from vocational and tertiary institutions, are inadequately prepared to enter the workforce.\n"
     ]
    },
    {
     "name": "stdout",
     "output_type": "stream",
     "text": [
      "This has resulted in a paradoxical situation of relatively high levels of youth unemployment and a critical skills shortage at the same time.\n"
     ]
    },
    {
     "name": "stdout",
     "output_type": "stream",
     "text": [
      "Furthermore, the rapid socio-economic development and transformative changes that have been taking place, both domestically and globally, require higher standards in education at a scale that has never been met or required before.\n"
     ]
    },
    {
     "name": "stdout",
     "output_type": "stream",
     "text": [
      "The fact that most of our students are unable to meet the admission criteria of top tier tertiary education institutions abroad, particularly for professional courses, is but one testament of the poor learning outcomes of our education not being commensurate to the requirements of youth today.\n"
     ]
    },
    {
     "name": "stdout",
     "output_type": "stream",
     "text": [
      "This calls for building on our strong foundations an education system that is not only free but is of such quality that it provides the knowledge, skills and attitude to allow our people to tap their full potential and succeed.\n"
     ]
    },
    {
     "name": "stdout",
     "output_type": "stream",
     "text": [
      "Given that today the largest section of our population are youth our window of opportunity is small and therefore improving the quality of education is urgent.\n"
     ]
    },
    {
     "name": "stdout",
     "output_type": "stream",
     "text": [
      "Of particular concern in the outcome of education, which is highly relevant to achieving our Plan objective, is weak student performance in the foundational subjects.\n"
     ]
    },
    {
     "name": "stdout",
     "output_type": "stream",
     "text": [
      "In all the countries that have succeeded in the economic areas we strive to develop, the competitive advantage of their education system has been a high level of performance in math and science.\n"
     ]
    },
    {
     "name": "stdout",
     "output_type": "stream",
     "text": [
      "In our case, most students perform poorly in math and science, and have similar weaknesses even in English despite it being the medium of instruction for most subjects at all levels in school and higher education.\n"
     ]
    },
    {
     "name": "stdout",
     "output_type": "stream",
     "text": [
      "According to Royal Education Council's (REC) research study on the quality of education, the overall trend indicates that there is a big gap between the current and the desired state in the quality of outcomes and processes.\n"
     ]
    },
    {
     "name": "stdout",
     "output_type": "stream",
     "text": [
      "Some of the key deficiencies in the quality of learning outcomes and processes highlighted in the report include:\n\nThe overall level of performance of students is just above passing grades;\n\nGraduates lack basic analytical and communication skills and the attitudes needed as entry level professions;\n\nTeaching consists of one way teacher-led chalk-and-talk without being able to get the students to comprehend and demonstrate learning;\n\nAssessment in the classroom does not close the loop between what is taught and what students learn;\n\nLow academic and professional standards for entry into teaching profession;\n\nSchools lack quality processes for developing teachers' capacity, the autonomy and instructional resources to initiate academic improvement and the essential physical infrastructure to support learning;\n\nNo clear link between the stated national socio-economic goals and the goals of the education system;\n\nThe supporting systems for schools need a great degree of strengthening in the areas of teacher preparation, curriculum standards and resources and the incentives for quality.\n"
     ]
    },
    {
     "name": "stdout",
     "output_type": "stream",
     "text": [
      "The report underscored three critical reasons for the persistence of ineffective classroom practices across schools: namely under-prepared teachers, lack of appropriate curricular resources, and poor instructional leadership and in-service training.\n"
     ]
    },
    {
     "name": "stdout",
     "output_type": "stream",
     "text": [
      "The study recommended a thoughtfully designed and carefully implemented comprehensive reform effort to bridge the gap between the current set of challenges facing our school system and the high aspirations it holds.\n"
     ]
    },
    {
     "name": "stdout",
     "output_type": "stream",
     "text": [
      "Various other studies/reports also suggest that education infrastructure facilities alone are not sufficient to improve education outcomes but adequate, motivated and appropriately qualified teachers play a critical role in ensuring quality education.\n"
     ]
    },
    {
     "name": "stdout",
     "output_type": "stream",
     "text": [
      "However, our education system continues to be constrained by an acute shortage of teachers and limited capacities.\n"
     ]
    },
    {
     "name": "stdout",
     "output_type": "stream",
     "text": [
      "Teaching, today, is the least preferred profession among graduates, and attracting high performing graduates to join teaching is increasingly a major challenge.\n"
     ]
    },
    {
     "name": "stdout",
     "output_type": "stream",
     "text": [
      "Some of the reasons for this include lack of incentives, both financial and non-financial incentives, perceived poor career progression and limitations in the recruitment process.\n"
     ]
    },
    {
     "name": "stdout",
     "output_type": "stream",
     "text": [
      "During the Tenth Plan, initiatives to strengthen human resource policy to provide better career progression for teachers were implemented.\n"
     ]
    },
    {
     "name": "stdout",
     "output_type": "stream",
     "text": [
      "The TVET and tertiary education systems are also faced with a similar set of challenges on the issue of relevance and quality of education.\n"
     ]
    },
    {
     "name": "stdout",
     "output_type": "stream",
     "text": [
      "Furthermore, current projections indicate that about 60,000 students would be completing classes 10 and 12 and entering the labour market over the Eleventh Plan.\n"
     ]
    },
    {
     "name": "stdout",
     "output_type": "stream",
     "text": [
      "If we are to close the \"education to employment\" gap, it is vital to ensure that the TVET and tertiary education institutes have the intake capacity to provide relevant and quality post-secondary education and training to ensure their employability.\n"
     ]
    },
    {
     "name": "stdout",
     "output_type": "stream",
     "text": [
      "According to REC Report 2008, an independent assessment of the TVET system indicates that the content standards of programmes are not reflective of industry standards or requirements; students are inadequately trained upon graduation; the training institutes are under-resourced and faculty under-qualified; and there is a significant \"education to employment gap\" as students do not necessarily follow into the trade for which they have been trained however inadequately.\n"
     ]
    },
    {
     "name": "stdout",
     "output_type": "stream",
     "text": [
      "There is a widely shared view on the need for the TVET institutes and colleges of RUB to be consolidated along a single-campus and multi-disciplinary model if we are to ensure relevance and quality in our TVET and tertiary education system.\n"
     ]
    },
    {
     "name": "stdout",
     "output_type": "stream",
     "text": [
      "Sustainability: The share of education sector budget to the five year plan outlays has averaged around 11 percent over the last ten five year plans, with allocation increasing from Nu.\n"
     ]
    },
    {
     "name": "stdout",
     "output_type": "stream",
     "text": [
      "10.3 billion in the 10th Plan (2008-13), of which Nu.\n"
     ]
    },
    {
     "name": "stdout",
     "output_type": "stream",
     "text": [
      "The expenditure in the education sector is expected to further increase in coming years particularly with increasing cost of maintenance of past infrastructure investments and additional capital investments to absorb the increasing enrollment pressure at various levels.\n"
     ]
    },
    {
     "name": "stdout",
     "output_type": "stream",
     "text": [
      "In addition, with the phasing out of WFP's assistance after 2018, the government will need to take over the school feeding programme.\n"
     ]
    },
    {
     "name": "stdout",
     "output_type": "stream",
     "text": [
      "5.1.3  Sector Key Result Areas\n\nThe sector key result areas and key performance indicators for TVET and Education sector are as follows:\n\n5.1.4  Strategies\n\nAny strategy to strengthen our education system and institutions to the level required to bring about the transformation in our socio-economic development process must ensure that we take a comprehensive stock of the state of our entire education system (spanning school, TVET, higher education, and continuing education) as an integrated whole rather than disparate parts (including regular assessment and diagnostics of student performance and identify the root causes of the mismatch between educational outcomes and our developmental needs); establish clear quality criteria in terms of the desired outcomes that are responsive to the changing expectations of students and are regularly benchmarked to global standards (such as student outcomes and employment, instructional methods, and organizational dynamism); understand the capacity gaps in achieving those criteria; provide a collaborative and highly competent institutional support system that focuses on helping students, teachers and school leaders develop research based innovative strategies of implementation to achieve the desired outcomes and; disseminate those evidence-based effective strategies throughout the system.\n"
     ]
    },
    {
     "name": "stdout",
     "output_type": "stream",
     "text": [
      "The experience of top performing education systems like in Finland and Singapore suggest a gestation of at least 20 years.\n"
     ]
    },
    {
     "name": "stdout",
     "output_type": "stream",
     "text": [
      "Most importantly, the strategy must be supported with adequate and predictable resources and the necessary institutional and policy support systems.\n"
     ]
    },
    {
     "name": "stdout",
     "output_type": "stream",
     "text": [
      "Some of the elements of the strategy for improved outcomes of the education sector, relevant to the school, TVET and tertiary education systems, include:\n\n•\tClarifying goals and raising performance standards for schools through shared national education goals that are aligned with the national socio-economic goals; learning standards and quality teaching processes;\n\n•\tCurriculum improvements to deliver educational goals with greater involvement of principals and teachers in curriculum design and communication and training on improved curriculum;\n\n•\tAttracting the best talent into teaching by recruiting the most capable candidates into teaching and preparing them for effective classroom practice;\n\n•\tGiving teachers the skills and tools to raise the quality of classroom instruction through continuous professional development and structured teaching-learning resources;\n\n•\tDeveloping Principals to become Instructional Leaders - through leadership training, professional support and instructional improvement processes;\n\n•\tEnabling the capacity of schools to focus on learning and teaching through policies to promote autonomy, accountability, incentives and improving the quality of instructional tools and infrastructure facilities to support learning;\n\n•\tMaintain relentless focus on implementation - demonstrate real changes in school, manage change and build institutional capacity to execute reforms;\n\n•\tEnsuring students grasp basic academic concepts, acquire essentials life skills and are fully equipped for college and professional life;\n\n•\tThe possible introduction of a vouchers scheme for meeting the targets for tertiary enrolment that will also encourage private participation in this sector.\n"
     ]
    },
    {
     "name": "stdout",
     "output_type": "stream",
     "text": [
      "The focus will be on Dzongkhags with education indicators below the national average and hard to reach communities, children in remote areas, nomadic communities etc.\n"
     ]
    },
    {
     "name": "stdout",
     "output_type": "stream",
     "text": [
      "Targeted programmes will include activities like additional infrastructure facilities, improved teacher deployment, special incentive packages and in certain situation where cost of service delivery is very high it could include relocation of students to nearby schools with boarding facilities.\n"
     ]
    },
    {
     "name": "stdout",
     "output_type": "stream",
     "text": [
      "The deployment of teachers continues to be a major issue due to the remote and difficult location of these extremely small schools.\n"
     ]
    },
    {
     "name": "stdout",
     "output_type": "stream",
     "text": [
      "Due to lack of economies of scale the difficulty of providing appropriate and adequate infrastructure facilities and resources results in multi-grade teaching learning situations which ultimately compromise the overall quality of education.\n"
     ]
    },
    {
     "name": "stdout",
     "output_type": "stream",
     "text": [
      "The Eleventh Plan will focus on rationalization of schools with the objective of ensuring quality learning outcomes, with particular focus on children in remote rural schools.\n"
     ]
    },
    {
     "name": "stdout",
     "output_type": "stream",
     "text": [
      "The Plan will also ensure sustainability of education service delivery by making efficient and effective use of available resources through the rationalization process keeping in mind the ground realities facing each Dzongkhag, Gewog and school.\n"
     ]
    },
    {
     "name": "stdout",
     "output_type": "stream",
     "text": [
      "The approach would be to downgrade unsustainable primary schools with enrolment of less than 100 students which do not have scope for future increase in enrolment to extended classrooms (ECRs).\n"
     ]
    },
    {
     "name": "stdout",
     "output_type": "stream",
     "text": [
      "Currently, there are approximately 270 primary schools with enrolment of less than 100 children.\n"
     ]
    },
    {
     "name": "stdout",
     "output_type": "stream",
     "text": [
      "Similarly, the downgraded schools or ECRs would be developed to ensure quality learning for the remaining students, and the additional teachers made available as a result of the rationalization would be redeployed by the Dzongkhag to the schools which face teacher shortage.\n"
     ]
    },
    {
     "name": "stdout",
     "output_type": "stream",
     "text": [
      "Professional Development for Teachers: Towards enhancing teacher morale and motivation and improving the quality of the teaching profession, Teacher Human Resource Policies and the In-Service Teacher Education and Training (INSET) Masterplan have been drawn up for implementation.\n"
     ]
    },
    {
     "name": "stdout",
     "output_type": "stream",
     "text": [
      "The Ministry of Education in collaboration with Royal Education Council will focus on promoting innovation, creativity and enterprise in education through implementation of research recommendations.\n"
     ]
    },
    {
     "name": "stdout",
     "output_type": "stream",
     "text": [
      "Improved service delivery and private participation: To ensure sustainability, school administration and governance system will be strengthened and private participation actively pursued.\n"
     ]
    },
    {
     "name": "stdout",
     "output_type": "stream",
     "text": [
      "Tracking school rankings, teacher outcomes and improving public service delivery will enhanced through Performance Management Systems (PMS).\n"
     ]
    },
    {
     "name": "stdout",
     "output_type": "stream",
     "text": [
      "Private participation and schemes to encourage self-financed students particularly in tertiary education will be developed.\n"
     ]
    },
    {
     "name": "stdout",
     "output_type": "stream",
     "text": [
      "5.1.5  Key Programmes\n\nSome of the key programmes for the Eleventh Plan:\n\nEducation\n\ni)\tConstruction of new schools based on need to increase space especially at the secondary levels;\n\nii)\tProvision of minimum standard facilities, wherever required, to ensure a positive environment for teaching-learning process.\n"
     ]
    },
    {
     "name": "stdout",
     "output_type": "stream",
     "text": [
      "in nearby schools and rationalizing smaller schools;\n\niv)\tProvision of staff quarters/allowances especially in remote and rural areas to make rural posting attractive and improve quality of education in the remote locations;\n\nv)\tAddressing gender gaps at higher secondary level through provision of gender responsive facilities such as hostels and hostel toilets for girls' toilets and housing for female teachers;\n\nvi)\tStrengthening curriculum research and development and finding mechanisms to enhance efficiency, accountability and retain specialized skills;\n\nvii)\tEnhance capacity of tertiary education to achieve GER at tertiary education of 35 percent by 2017-18;\n\nviii)\tEnhance quality and relevance of tertiary education programmes to meet the needs of individuals as well as the industry and society at large.\n"
     ]
    },
    {
     "name": "stdout",
     "output_type": "stream",
     "text": [
      "*****\n\n5.2 Health Sector\n\nAll Bhutanese avail free health services from primary to tertiary level health care as a right guaranteed by the Constitution of Bhutan under its Principles of State Policy, Article 9, Section 21, which states that: \"the State shall provide free access to basic public health services in both modern and traditional medicines.\"\n"
     ]
    },
    {
     "name": "stdout",
     "output_type": "stream",
     "text": [
      "Health is also an important component for happiness and wellbeing.\n"
     ]
    },
    {
     "name": "stdout",
     "output_type": "stream",
     "text": [
      "The 2010 GNH Survey reports that health domain contributed 14 percent to GNH, the highest contribution among the nine domains.\n"
     ]
    },
    {
     "name": "stdout",
     "output_type": "stream",
     "text": [
      "While provision of health care services is the responsibility of the Health Sector, the need to involve other sectors in addressing health issues is equally important.\n"
     ]
    },
    {
     "name": "stdout",
     "output_type": "stream",
     "text": [
      "In the Eleventh Plan, the Ministry of Health shall strive towards achieving universal health coverage by focusing on providing improved and equitable access to quality health care services.\n"
     ]
    },
    {
     "name": "stdout",
     "output_type": "stream",
     "text": [
      "Continued efforts shall be made in achieving goals and targets beyond MDGs.\n"
     ]
    },
    {
     "name": "stdout",
     "output_type": "stream",
     "text": [
      "Investments will also be made in working towards fulfilling the global monitoring framework for prevention of non-communicable diseases (NCDs).\n"
     ]
    },
    {
     "name": "stdout",
     "output_type": "stream",
     "text": [
      "5.2.1  Current Situation\n\nConsiderable progress has been made in developing the capacity of the health system and it has resulted in significant improvements in health outcomes.\n"
     ]
    },
    {
     "name": "stdout",
     "output_type": "stream",
     "text": [
      "Bhutan is on track to achieve MDG targets related to child mortality, improving maternal health and halting/reversing spread of TB and malaria.\n"
     ]
    },
    {
     "name": "stdout",
     "output_type": "stream",
     "text": [
      "The lack of progress on HIV/AIDS remains a concern.\n"
     ]
    },
    {
     "name": "stdout",
     "output_type": "stream",
     "text": [
      "The number of HIV/AIDS detected cases has increased from 38 in 2000 to 321 in 2013.\n"
     ]
    },
    {
     "name": "stdout",
     "output_type": "stream",
     "text": [
      "Currently there are three health facilities for every 10,000 persons.\n"
     ]
    },
    {
     "name": "stdout",
     "output_type": "stream",
     "text": [
      "There are 31 hospitals, 14 BHU I, 178 BHU II and 550 outreach clinics providing modern health services.\n"
     ]
    },
    {
     "name": "stdout",
     "output_type": "stream",
     "text": [
      "The total manpower in the health sector is 4,280, of which 194 are doctors, 736 nurses, 1,543 other category of health workers and 1,807 administrative and support staff.\n"
     ]
    },
    {
     "name": "stdout",
     "output_type": "stream",
     "text": [
      "The enactment of the University of Medical Sciences of Bhutan (UMSB) Act and its establishment in 2012, is a major initiative of the Health Sector towards providing in-country professional medical education and, thereby, addressing the critical shortage of health and allied professionals.\n"
     ]
    },
    {
     "name": "stdout",
     "output_type": "stream",
     "text": [
      "The government health sector expenditure over the last ten years has averaged Nu.\n"
     ]
    },
    {
     "name": "stdout",
     "output_type": "stream",
     "text": [
      "1.2 billion per annum with annual expenditure growth of 12.5 percent.\n"
     ]
    },
    {
     "name": "stdout",
     "output_type": "stream",
     "text": [
      "The government health expenditure as a percentage of GDP stands at 3.23 percent32.\n"
     ]
    },
    {
     "name": "stdout",
     "output_type": "stream",
     "text": [
      "The expenditure in the health sector is expected to increase in the coming years with the introduction of new technologies and services and growing incidence of non-communicable diseases for which the associated costs are much greater than for conventional diseases.\n"
     ]
    },
    {
     "name": "stdout",
     "output_type": "stream",
     "text": [
      "The Ministry of Health has started tracking national spending and resource flow in health through the National Health Accounts and other thematic studies to ensure sustainability of healthcare financing.\n"
     ]
    },
    {
     "name": "stdout",
     "output_type": "stream",
     "text": [
      "5.2.2  Key Challenges\n\nDelivering Quality Health Care - The public expectation for quality health care is viewed against the five-star private hospitals.\n"
     ]
    },
    {
     "name": "stdout",
     "output_type": "stream",
     "text": [
      "In addition, the easy availability of un-validated information from the net with the ever increasing literate population is forcing the public health system to adapt to the latest medical technologies and medical procedures.\n"
     ]
    },
    {
     "name": "stdout",
     "output_type": "stream",
     "text": [
      "On the other hand there are no standard health services package developed at all levels of service delivery and standard operating procedures for most of the services and procedures needs to be developed.\n"
     ]
    },
    {
     "name": "stdout",
     "output_type": "stream",
     "text": [
      "In absence of such standards, it is very difficult or near impossible to measure the quality of health care delivery.\n"
     ]
    },
    {
     "name": "stdout",
     "output_type": "stream",
     "text": [
      "Health Human Resource: The Bhutanese Health System suffers from acute shortage of all categories of health personnel.\n"
     ]
    },
    {
     "name": "stdout",
     "output_type": "stream",
     "text": [
      "The training for most categories of health workers and especially for doctors is long and expensive.\n"
     ]
    },
    {
     "name": "stdout",
     "output_type": "stream",
     "text": [
      "In addition Bhutan does not have training institutes for most categories of health workers.\n"
     ]
    },
    {
     "name": "stdout",
     "output_type": "stream",
     "text": [
      "Even in the region, there are few reputed health training institutes so limitation in availability of slots is a challenge.\n"
     ]
    },
    {
     "name": "stdout",
     "output_type": "stream",
     "text": [
      "Therefore we will continue to face health human resource shortage in the Eleventh Plan even as we face the need to expand health services.\n"
     ]
    },
    {
     "name": "stdout",
     "output_type": "stream",
     "text": [
      "With the increasing rate of urbanization, deployment of health personnel to rural areas will become a new challenge.\n"
     ]
    },
    {
     "name": "stdout",
     "output_type": "stream",
     "text": [
      "In comparison to Bhutan's 2 doctors per 10,000 people in 2012, India had 6 doctors per 10,000 people in 2003, Malaysia had 7 doctors per 10,000 people in 2000, Pakistan had 7 doctors per 10,000 people in 2003 and Singapore had 14 doctors per 10,000 people in 200133.\n"
     ]
    },
    {
     "name": "stdout",
     "output_type": "stream",
     "text": [
      "Non-Communicable Diseases (NCDs): NCDs are establishing its presence with modern sedentary lifestyles, traditionally high-fat-based dietary habits and consumption of alcohol and tobacco.\n"
     ]
    },
    {
     "name": "stdout",
     "output_type": "stream",
     "text": [
      "Consequently, diabetes, hypertension, cancers and traffic injuries are increasingly on the rise.\n"
     ]
    },
    {
     "name": "stdout",
     "output_type": "stream",
     "text": [
      "Besides the profound implication on the quality of life of individuals, families and society at large, the cost of treating patients with NCDs is exorbitant.\n"
     ]
    },
    {
     "name": "stdout",
     "output_type": "stream",
     "text": [
      "We would need to intensify our efforts on health promotion, multi-sectoral response to NCDs and ensuring health is considered as a critical component in all policies.\n"
     ]
    },
    {
     "name": "stdout",
     "output_type": "stream",
     "text": [
      "HIV/AIDS, TB, Malaria and Neglected Tropical Diseases (NTDs) - HIV/AIDS cases have increased from 2 in 1993 to 321 in 2013.\n"
     ]
    },
    {
     "name": "stdout",
     "output_type": "stream",
     "text": [
      "The expansion of economic activities and increasing affluence and travel, import of foreign labour and casual attitude of the people towards sex is a major challenge in the battle against HIV/AIDS.\n"
     ]
    },
    {
     "name": "stdout",
     "output_type": "stream",
     "text": [
      "The TB case detection and treatment is progressing well.\n"
     ]
    },
    {
     "name": "stdout",
     "output_type": "stream",
     "text": [
      "The impact of climate change is already becoming visible with malaria cases being detected in areas that were once free of the disease.\n"
     ]
    },
    {
     "name": "stdout",
     "output_type": "stream",
     "text": [
      "However, performance on certain indicators such as MMR, compared to other countries in the region and the low allocations relative to health spending is still a cause of concern.\n"
     ]
    },
    {
     "name": "stdout",
     "output_type": "stream",
     "text": [
      "Nearly two-fifth of deliveries are still attended by medically untrained personnel increasing the risk of maternal and neonatal death.\n"
     ]
    },
    {
     "name": "stdout",
     "output_type": "stream",
     "text": [
      "There is a need to invest heavily in this area.\n"
     ]
    },
    {
     "name": "stdout",
     "output_type": "stream",
     "text": [
      "Nutrition - The general nutritional status of the people has been improving over the decade.\n"
     ]
    },
    {
     "name": "stdout",
     "output_type": "stream",
     "text": [
      "While malnutrition indicators like underweight prevalence and wasting have improved, stunting prevalence of 33.5 percent still remains as a major public health issue.\n"
     ]
    },
    {
     "name": "stdout",
     "output_type": "stream",
     "text": [
      "In addition, anemia prevalence in women and children are quite alarming with 54.8 percent and 80.6 percent respectively.\n"
     ]
    },
    {
     "name": "stdout",
     "output_type": "stream",
     "text": [
      "Bhutan has also been experiencing sporadic outbreaks of vitamin deficiencies, particularly Vitamin B1 and B12 since 1998, and occurrences have been recorded almost every year.\n"
     ]
    },
    {
     "name": "stdout",
     "output_type": "stream",
     "text": [
      "There is a need to put in coordinated efforts among Health, Agriculture and Education and Economic Sectors to improve the nutritional status.\n"
     ]
    },
    {
     "name": "stdout",
     "output_type": "stream",
     "text": [
      "Sustainable Healthcare Financing: The constitution mandates the state to provide free health care ensuring the global commitment to universal health coverage is achieved.\n"
     ]
    },
    {
     "name": "stdout",
     "output_type": "stream",
     "text": [
      "Global health experts recommend for a country like Bhutan allocation of around 5 percent of the GDP and about 8 percent of the total government budget on health to ensure that quality health care services are provided.\n"
     ]
    },
    {
     "name": "stdout",
     "output_type": "stream",
     "text": [
      "The Bhutan Health Trust Fund is one innovative mechanism set up by the government with support of its partners to ensure sustainable supply of essential drugs.\n"
     ]
    },
    {
     "name": "stdout",
     "output_type": "stream",
     "text": [
      "There is also a need to promote good governance so that wastage is minimized and cost efficient and effective health services are promoted.\n"
     ]
    },
    {
     "name": "stdout",
     "output_type": "stream",
     "text": [
      "5.2.4  Strategies\n\nStrengthening service delivery: In line with the policy of decentralization, the local government shall take more responsibility for management and delivery of health services at the local level.\n"
     ]
    },
    {
     "name": "stdout",
     "output_type": "stream",
     "text": [
      "The centre shall focus more on policy directions, service standard development, quality assurance, selection of appropriate medical technologies and procedures, ensuring un-interrupted medical supplies and health personnel recruitment.\n"
     ]
    },
    {
     "name": "stdout",
     "output_type": "stream",
     "text": [
      "The Ministry will continue to focus on improving access and delivery of quality health care services by strengthening both institutional and human capacity with emphasis on decentralization.\n"
     ]
    },
    {
     "name": "stdout",
     "output_type": "stream",
     "text": [
      "The Health Sector will continue to explore areas which can be decentralized to the districts.\n"
     ]
    },
    {
     "name": "stdout",
     "output_type": "stream",
     "text": [
      "In line with the commitment to work towards achieving Universal Health Coverage (UHC), the package of Health services to be delivered at every level of health facilities shall be standardized and expansion of services will be explored on need basis.\n"
     ]
    },
    {
     "name": "stdout",
     "output_type": "stream",
     "text": [
      "Health Prevention and Promotion - There has been global evidences to indicate that investment in health prevention and promotion aspects are more cost effective, than treating diseases, particularly the NCDs, which requires lifelong and expensive treatment.\n"
     ]
    },
    {
     "name": "stdout",
     "output_type": "stream",
     "text": [
      "Emphasis will be continued to strengthen preventive and health promotion, through intensifying awareness programmes, enhancing cross-sectoral coordination, and advocating for health in all policies to address public health challenges such as, but not limiting to NCDs, injuries, HIV/AIDS, TB, Malaria, Maternal and Child Health, Nutrition and Neglected tropical Diseases.\n"
     ]
    },
    {
     "name": "stdout",
     "output_type": "stream",
     "text": [
      "Health human resources development - Development of health human resource in line with the Health HRD Master Plan shall be accelerated.\n"
     ]
    },
    {
     "name": "stdout",
     "output_type": "stream",
     "text": [
      "Effective planning and efficient deployment of health personnel to improve service delivery will be pursued.\n"
     ]
    },
    {
     "name": "stdout",
     "output_type": "stream",
     "text": [
      "The deployment of health personnel to hospitals, BHUs and ORCs will be need-based depending on number of patients attended by these health centres.\n"
     ]
    },
    {
     "name": "stdout",
     "output_type": "stream",
     "text": [
      "For a developing country like Bhutan, in order to achieve UHC, almost 5 percent of the GDP and 8 percent of the total government budget needs to be allocated to health sector.\n"
     ]
    },
    {
     "name": "stdout",
     "output_type": "stream",
     "text": [
      "In addition, measures such as enhancing effectiveness and improving efficiency, and other alternative options to maintain constitutional commitment to provide free health care services and also to achieve UHC will be explored.\n"
     ]
    },
    {
     "name": "stdout",
     "output_type": "stream",
     "text": [
      "Standardization of eHealth and interoperability -Recognizing that lack of data within and between systems hinders care and leads to fragmentation of the health information system, it is vital to develop measures for effective and timely transmission of data.\n"
     ]
    },
    {
     "name": "stdout",
     "output_type": "stream",
     "text": [
      "The development of an integrated health information system shall be centralized to ensure the eHealth standardization and interoperability of the system.\n"
     ]
    },
    {
     "name": "stdout",
     "output_type": "stream",
     "text": [
      "Interoperability is essential in garnering full potential of ICT and medical devices towards supporting health system development.\n"
     ]
    },
    {
     "name": "stdout",
     "output_type": "stream",
     "text": [
      "Needs assessment for eHealth, inclusive of developing national policies, strategies, norms and appropriate governance mechanisms, and long term strategic plans or frameworks for eHealth, shall be conducted.\n"
     ]
    },
    {
     "name": "stdout",
     "output_type": "stream",
     "text": [
      "ICT technology shall also be leveraged to replace some of the paper based system to provide better and faster services and save cost.\n"
     ]
    },
    {
     "name": "stdout",
     "output_type": "stream",
     "text": [
      "Consolidation of health infrastructure - The production of health human resource has not kept pace with the expansion of health infrastructure and, therefore, there is a huge mismatch between the health human resources and the number of health infrastructure, affecting the quality of health services.\n"
     ]
    },
    {
     "name": "stdout",
     "output_type": "stream",
     "text": [
      "5.2.5  Key Programmes\n\n•\tMedical Services - Some of the major activities include:\n\ni.\n"
     ]
    },
    {
     "name": "stdout",
     "output_type": "stream",
     "text": [
      "Construction of Public Health Laboratory;\n\nvii.\n"
     ]
    },
    {
     "name": "stdout",
     "output_type": "stream",
     "text": [
      "•\tTraditional Medicine Services - The main focus will be on up-scaling the production of indigenous medicines through automation of production processes to cater to both the domestic and international demands of traditional medicines.\n"
     ]
    },
    {
     "name": "stdout",
     "output_type": "stream",
     "text": [
      "•\tMedicines, Technologies & Logistics -Through the program all health facilities in the country will be well equipped with medical equipments and essential drugs to prevent shortages of such items on real time basis.\n"
     ]
    },
    {
     "name": "stdout",
     "output_type": "stream",
     "text": [
      "•\tPublic Health Services - The programme will focus on preventive, promotive and rehabilitative programs.\n"
     ]
    },
    {
     "name": "stdout",
     "output_type": "stream",
     "text": [
      "•\tInstitutional Strengthening & Monitoring - The priority will be on strengthening human resources - doctors, nurses and technicians and improving the health data/record management by strengthening the Health Information and Management system.\n"
     ]
    },
    {
     "name": "stdout",
     "output_type": "stream",
     "text": [
      "•\tDiagnostic & Curative Services -\n\nProgramme details are presented in Eleventh Plan Volume II document.\n"
     ]
    },
    {
     "name": "stdout",
     "output_type": "stream",
     "text": [
      "*****\n\n5.3 Human Resource Development & Management\n\nDevelopment and management of human resources is an essential prerequisite for Bhutan's aspiration to be an ICT enabled knowledge based society.\n"
     ]
    },
    {
     "name": "stdout",
     "output_type": "stream",
     "text": [
      "The high priority given to human resource development through investments in education, implementation of long and short-term trainings both in-country and ex-country and the various reforms in human resource management, particularly in the civil services, has to a great extent improved human resource situation.\n"
     ]
    },
    {
     "name": "stdout",
     "output_type": "stream",
     "text": [
      "However, the quality of human resources particularly in professional and high skilled areas continues to be a constraining factor, both in the public and private sector.\n"
     ]
    },
    {
     "name": "stdout",
     "output_type": "stream",
     "text": [
      "As a result, dependency on foreign workers continues to be high.\n"
     ]
    },
    {
     "name": "stdout",
     "output_type": "stream",
     "text": [
      "The main agencies responsible for HRD include the Ministry of Education, the Ministry of Labour and Human Resources, Royal University of Bhutan and the Royal Civil Service Commission.\n"
     ]
    },
    {
     "name": "stdout",
     "output_type": "stream",
     "text": [
      "5.3.1  Current Situation\n\nDue to small and nascent private sector, most job seekers prefer jobs in the civil service for better job security, career advancement and training & educational opportunities.\n"
     ]
    },
    {
     "name": "stdout",
     "output_type": "stream",
     "text": [
      "Professional and management position made up 49 percent of the total civil service, followed by supervisory and support positions with 40 percent and operational position 9 percent.\n"
     ]
    },
    {
     "name": "stdout",
     "output_type": "stream",
     "text": [
      "The executive and specialist position comprised less than 1 percent of the civil service.\n"
     ]
    },
    {
     "name": "stdout",
     "output_type": "stream",
     "text": [
      "In terms of educational qualifications, about 66 percent of civil servants have a diploma and below, 22 percent have Bachelors Degree and the rest have a post graduate diploma, Masters or Ph.D degree.\n"
     ]
    },
    {
     "name": "stdout",
     "output_type": "stream",
     "text": [
      "Lack of qualified human resources in various positions is an issue and only about 47 percent of the civil servants meet the minimum qualification criteria.\n"
     ]
    },
    {
     "name": "stdout",
     "output_type": "stream",
     "text": [
      "A large percentage of civil servants not meeting the required qualification criteria were in the supervisory & support and operational position categories.\n"
     ]
    },
    {
     "name": "stdout",
     "output_type": "stream",
     "text": [
      "5.3.2  Key Challenges\n\nWhile the overall civil service size has been on the rise, the percentage of civil servants in various position levels not meeting the minimum qualification criteria remains high.\n"
     ]
    },
    {
     "name": "stdout",
     "output_type": "stream",
     "text": [
      "This is an issue of great concern particularly if the high numbers are in educational and vocational institutions.\n"
     ]
    },
    {
     "name": "stdout",
     "output_type": "stream",
     "text": [
      "The current human resource development strategy also lacks synergy between the education system and manpower needs leading to mismatch of aspirations of the job seekers and jobs available.\n"
     ]
    },
    {
     "name": "stdout",
     "output_type": "stream",
     "text": [
      "On one hand, we continue to be dependent on expatriates, international volunteers and foreign skilled manpower while on the other hand unemployment, particularly youth unemployment, remains high.\n"
     ]
    },
    {
     "name": "stdout",
     "output_type": "stream",
     "text": [
      "Some of the sectors, particularly health, education, construction, ICT and aviation continue to depend on expatriates and volunteers to fill in the gap.\n"
     ]
    },
    {
     "name": "stdout",
     "output_type": "stream",
     "text": [
      "Increasingly, many teachers, engineers, doctors and technical professionals are leaving the civil service to join international organizations, corporations, and projects offering better remuneration and service benefits.\n"
     ]
    },
    {
     "name": "stdout",
     "output_type": "stream",
     "text": [
      "For instance, in the education sector, where there is already an acute shortage of teachers, the teacher turnover is high at about 4 percent annually.\n"
     ]
    },
    {
     "name": "stdout",
     "output_type": "stream",
     "text": [
      "In the last 9 months alone, education sector lost 261 teachers34.\n"
     ]
    },
    {
     "name": "stdout",
     "output_type": "stream",
     "text": [
      "If the present annual growth trend of civil service continues it is likely to put a significant burden on recurrent costs in the coming years that may not be sustainable.\n"
     ]
    },
    {
     "name": "stdout",
     "output_type": "stream",
     "text": [
      "5.3.3  Sector Key Result Areas\n\nThe key result areas will be based on RCSC's Human Resource Development Master Plan for civil service and Ministry of Labour and Human Resources' HRD Plan for Private Sector.\n"
     ]
    },
    {
     "name": "stdout",
     "output_type": "stream",
     "text": [
      "5.3.4  Strategies\n\nIn order to improve performance and efficiency of the civil service, civil services rules and regulation, processes and systems will be reviewed and updated.\n"
     ]
    },
    {
     "name": "stdout",
     "output_type": "stream",
     "text": [
      "In terms of human resource development, the focus will be on creating skills and knowledge to achieve the objectives of EDP 2010, with an emphasis on addressing the acute shortage of skilled professionals such as doctors, educationists, engineers, architects and ICT specialists.\n"
     ]
    },
    {
     "name": "stdout",
     "output_type": "stream",
     "text": [
      "All definite and firm resources will be earmarked and programmed for critical HR requirements.\n"
     ]
    },
    {
     "name": "stdout",
     "output_type": "stream",
     "text": [
      "For individuals accessing international scholarships through open competitions, unlike past practice of adjusting such trainings against HRD master plan slots, can pursue it without requiring necessary adjustments.\n"
     ]
    },
    {
     "name": "stdout",
     "output_type": "stream",
     "text": [
      "However, this does not apply to HR that has been already programmed with firm resources mentioned above.\n"
     ]
    },
    {
     "name": "stdout",
     "output_type": "stream",
     "text": [
      "*****\n\n5.4 Employment\n\nThe Labour and Employment Act 2007 govern the employment and working conditions in Bhutan.\n"
     ]
    },
    {
     "name": "stdout",
     "output_type": "stream",
     "text": [
      "One of the objectives of the Economic Development Policy 2010 is to achieve full employment by 2020.\n"
     ]
    },
    {
     "name": "stdout",
     "output_type": "stream",
     "text": [
      "Full employment is defined as employment of 97.5 percent or unemployment rate of 2.5 percent.\n"
     ]
    },
    {
     "name": "stdout",
     "output_type": "stream",
     "text": [
      "Employment is defined as \"if a person has performed some paid work in cash or in kind, during the reference period for at least one hour or the person has a job or business formally attached but temporarily absent from the work and going to resume the work\".\n"
     ]
    },
    {
     "name": "stdout",
     "output_type": "stream",
     "text": [
      "\"Reference period refers to the week preceding the date of the survey interview\"35.\n"
     ]
    },
    {
     "name": "stdout",
     "output_type": "stream",
     "text": [
      "Labour Force Surveys are conducted by the Ministry of Labour and Human Resources on an annual basis.\n"
     ]
    },
    {
     "name": "stdout",
     "output_type": "stream",
     "text": [
      "5.4.1  Current Situation\n\nThe overall unemployment rates increased from 1.4 percent in 1998 to 4.2 percent in 2008 and have since then declined to 2.1 percent in 2012.\n"
     ]
    },
    {
     "name": "stdout",
     "output_type": "stream",
     "text": [
      "Similarly at disaggregated levels, unemployment has decreased by area of residence (rural/ urban), by gender and by youth in 2012.\n"
     ]
    },
    {
     "name": "stdout",
     "output_type": "stream",
     "text": [
      "Agriculture sector continues to be the largest employer accounting for 62 percent of total employment, followed by public administration at 8 percent, manufacturing at 5 percent and others contributing less than 5 percent.\n"
     ]
    },
    {
     "name": "stdout",
     "output_type": "stream",
     "text": [
      "In terms of gender, the percentage of females employed are higher in agriculture, wholesale and retail trade, and hotels and restaurants sectors.\n"
     ]
    },
    {
     "name": "stdout",
     "output_type": "stream",
     "text": [
      "In terms of the nature of employment, majority of those employed are agriculture family worker36 representing 39.5 percent followed by regular paid employee consisting of 23.9 percent of the total.\n"
     ]
    },
    {
     "name": "stdout",
     "output_type": "stream",
     "text": [
      "At the Dzongkhag level, the unemployment was highest in Thimphu with an unemployment rate of 4.3 percent followed by Sarpang, Trongsa, Tsirang, Dagana, Paro and Zhemgang all registering unemployment rates higher than the national average of 2.1 percent.\n"
     ]
    },
    {
     "name": "stdout",
     "output_type": "stream",
     "text": [
      "5.4.2  Key Challenges\n\nQuality of employment - While we have been successful in reducing unemployment rates, the review of LFS 2012 indicates that the quality of employment could be improved.\n"
     ]
    },
    {
     "name": "stdout",
     "output_type": "stream",
     "text": [
      "•\tThe agriculture and forestry sector continue to be the largest employer while contributing least to GDP growth rate.\n"
     ]
    },
    {
     "name": "stdout",
     "output_type": "stream",
     "text": [
      "The impressive economic growth achieved by the secondary and tertiary sectors has not translated into jobs, thereby indicating some levels of inequity in economic growth.\n"
     ]
    },
    {
     "name": "stdout",
     "output_type": "stream",
     "text": [
      "•\tEven among the employed many are still vulnerable and lack income and social security as 40 percent of those employed are agriculture family workers.\n"
     ]
    },
    {
     "name": "stdout",
     "output_type": "stream",
     "text": [
      "Women are particularly vulnerable as they comprise 27.6 percent in this category.\n"
     ]
    },
    {
     "name": "stdout",
     "output_type": "stream",
     "text": [
      "•\tAbout 68.9 percent of those employed in the agriculture sector worked for more than 48 hours of which 46.1 percent reportedly work more hours to increase earnings indicating low income for those employed in the sector.\n"
     ]
    },
    {
     "name": "stdout",
     "output_type": "stream",
     "text": [
      "•\tIn terms of the level of education, 53.6 percent of those employed were illiterate with the next highest level being middle secondary school level dropouts at 11 percent.\n"
     ]
    },
    {
     "name": "stdout",
     "output_type": "stream",
     "text": [
      "This indicates either a poor synergy between the education system and manpower needs resulting in a lack of skilled manpower or a mismatch of potential employees and jobs available.\n"
     ]
    },
    {
     "name": "stdout",
     "output_type": "stream",
     "text": [
      "Creation of new jobs: During the next five years, approximately 120,000 jobs seekers will be entering the labour market.\n"
     ]
    },
    {
     "name": "stdout",
     "output_type": "stream",
     "text": [
      "Out of this, 60 percent will be those with education qualifications of Class X and higher.\n"
     ]
    },
    {
     "name": "stdout",
     "output_type": "stream",
     "text": [
      "While this presents an opportunity of a large number of educated job seekers, creating jobs that meets the aspirations of these qualified youth will be a major challenge.\n"
     ]
    },
    {
     "name": "stdout",
     "output_type": "stream",
     "text": [
      "The Labour Force Survey 2012 estimates that the unemployment rate among the middle secondary education group was the highest at 22.8 percent.\n"
     ]
    },
    {
     "name": "stdout",
     "output_type": "stream",
     "text": [
      "This was followed by the higher secondary education group at 20.4 percent and Bachelor Degree group at 12.3 percent.\n"
     ]
    },
    {
     "name": "stdout",
     "output_type": "stream",
     "text": [
      "Projections based on the employment elasticity  of sectoral growth reveal potential for creating 120,000 jobs for corresponding number of job seekers in the Eleventh Plan.\n"
     ]
    },
    {
     "name": "stdout",
     "output_type": "stream",
     "text": [
      "The services sector presents the highest potential for absorbing job seekers followed by industries and agriculture.\n"
     ]
    },
    {
     "name": "stdout",
     "output_type": "stream",
     "text": [
      "The jobs in service sector - hotels and restaurant; transport, storage and communications; wholesale and retail; real estate, renting and business activities - are expected to grow as a result of doubling of tourist arrivals from 100,000 to 200,000 and initiation of seven new mega hydropower projects during the Eleventh Plan.\n"
     ]
    },
    {
     "name": "stdout",
     "output_type": "stream",
     "text": [
      "The jobs in the industrial sector are also expected to grow with the commissioning of three new hydropower projects, establishment of power intensive industries and construction activities related to mega hydropower projects.\n"
     ]
    },
    {
     "name": "stdout",
     "output_type": "stream",
     "text": [
      "The share of agriculture sector for new employment is expected to be very low, in absence of any other policy intervention.\n"
     ]
    },
    {
     "name": "stdout",
     "output_type": "stream",
     "text": [
      "Hence, jobs will be available but the greater challenge would be to match supply of jobs with the right skills in the labour market.\n"
     ]
    },
    {
     "name": "stdout",
     "output_type": "stream",
     "text": [
      "Strategies to achieve this objective include\n\n•\tImplementation of the Rapid Investments in Selected Enterprises (RISE) programme;\n\n•\tPrivate Sector Development;\n\n•\tInstitutionalizing multi-sectoral coordination committee to strengthening linkages between the education system and manpower needs of the country to address the mismatch of skills and aspirations;\n\n•\tIncentivizing business and industries that give priority to employment of Bhutanese; and\n\n•\tThe government will also explore decent and productive overseas employment particularly for the youth.\n"
     ]
    },
    {
     "name": "stdout",
     "output_type": "stream",
     "text": [
      "In the Eleventh Plan, about 82,000 new jobs need to be created for approximately 120,000 job seekers, to ensure full employment of 97.5 percent.\n"
     ]
    },
    {
     "name": "stdout",
     "output_type": "stream",
     "text": [
      "The projections are based on past trends and new potential such as construction of seven new mega hydropower projects and doubling to tourist arrivals in the Eleventh Plan.\n"
     ]
    },
    {
     "name": "stdout",
     "output_type": "stream",
     "text": [
      "5.4.5  Key Programmes\n\n•\tPromotion of full and productive employment\n\n•\tPromotion of decent working conditions and work environment Programme details are presented in Eleventh Plan Volume II document.\n"
     ]
    },
    {
     "name": "stdout",
     "output_type": "stream",
     "text": [
      "*****\n\n5.5 Renewable Natural Resources (RNR) Sector\n\nRNR sector comprises of agriculture, livestock and forestry.\n"
     ]
    },
    {
     "name": "stdout",
     "output_type": "stream",
     "text": [
      "For an agrarian country like Bhutan, the RNR sector plays a vital role in bringing about equitable development through enhancing rural prosperity and poverty alleviation.\n"
     ]
    },
    {
     "name": "stdout",
     "output_type": "stream",
     "text": [
      "About 62.238 percent of the population directly depended on agriculture for their livelihood.\n"
     ]
    },
    {
     "name": "stdout",
     "output_type": "stream",
     "text": [
      "However, in spite of the changes and innovations infused over the years to propel RNR sector growth, the sector's growth remained insufficient to adequately address rural poverty, attain food security and to sustain the overall economic growth.\n"
     ]
    },
    {
     "name": "stdout",
     "output_type": "stream",
     "text": [
      "The sector's full potential is challenged by low productivity due to issues such as acute shortage of farm labour driven by outbound rural-urban migration, loss of arable land to urbanization, difficult terrain, fragmented land holdings, loss of crops to wildlife, lack of access to market and agricultural credit, climate change and natural disasters, post harvest management issues and subsistence nature of farming.\n"
     ]
    },
    {
     "name": "stdout",
     "output_type": "stream",
     "text": [
      "Consequently, dependence on import of food and food grains remain high and returns to farmers remain small as a result of higher costs of production and low economies of scale.\n"
     ]
    },
    {
     "name": "stdout",
     "output_type": "stream",
     "text": [
      "5.5.1  Current Situation\n\nBased on food availability, access and nutrition, Bhutan is modestly food secure.\n"
     ]
    },
    {
     "name": "stdout",
     "output_type": "stream",
     "text": [
      "However 97 percent of fish, 80 percent of beef and 77 percent of pork demand and 90 percent of oils and fats are still met from imports (as of 2010)38.\n"
     ]
    },
    {
     "name": "stdout",
     "output_type": "stream",
     "text": [
      "In terms of access, about 3 percent of the population spends less per person than the food poverty line of Nu.\n"
     ]
    },
    {
     "name": "stdout",
     "output_type": "stream",
     "text": [
      "The nutritional status40, measured in terms of stunting prevalence, while reduced from 56 percent in 1988 to 33.5 percent in 2010, still remains high.\n"
     ]
    },
    {
     "name": "stdout",
     "output_type": "stream",
     "text": [
      "As per Labour Force Survey 2012, 62.2 percent of those employed were in RNR with 23.9 percent male and 38.4 percent female.\n"
     ]
    },
    {
     "name": "stdout",
     "output_type": "stream",
     "text": [
      "The survey also reveals that among all occupation groups, 68.9 percent of those employed in agriculture worked for more than 48 hours per week due to the sector providing the lowest monthly income in all occupation groups.\n"
     ]
    },
    {
     "name": "stdout",
     "output_type": "stream",
     "text": [
      "The share of agriculture to real GDP has declined by more than half from 25 percent in 2001/02 to 12 percent in 2011/12 mainly because of higher growth in other led by the electricity and construction and also due to various challenges faced by the sector itself.\n"
     ]
    },
    {
     "name": "stdout",
     "output_type": "stream",
     "text": [
      "5.5.2  Key Challenges\n\nLoss of agriculture land and declining productivity - Achieving food self-sufficiency would largely depend on area under food grain cultivation and yield per hectare.\n"
     ]
    },
    {
     "name": "stdout",
     "output_type": "stream",
     "text": [
      "Rapid development and urbanization has put a lot of pressure on agriculture land.\n"
     ]
    },
    {
     "name": "stdout",
     "output_type": "stream",
     "text": [
      "According to the Department of Agriculture's estimates, about 2000 acres of agricultural land was lost to non-agriculture development purposes during 1998-2008.\n"
     ]
    },
    {
     "name": "stdout",
     "output_type": "stream",
     "text": [
      "This is likely to increase in the near future with increased development activities unless effective measures are put in place to protect prime agricultural lands.\n"
     ]
    },
    {
     "name": "stdout",
     "output_type": "stream",
     "text": [
      "Studies also indicate that yield per hectare has been on the decline at a compounded annual rate of 1.84 percent over the last 27 years.\n"
     ]
    },
    {
     "name": "stdout",
     "output_type": "stream",
     "text": [
      "This could be attributed to various factors such as declining investment in the agriculture sector, loss of prime agriculture land to other use, climate change, land being kept fallow due to shortage of farm labour/irrigation, loss of crop to wildlife and limited scope of mechanization.\n"
     ]
    },
    {
     "name": "stdout",
     "output_type": "stream",
     "text": [
      "Unless these issues are addressed in the Eleventh Plan, achieving food self-sufficiency goal in the Eleventh Plan will still remain a challenge.\n"
     ]
    },
    {
     "name": "stdout",
     "output_type": "stream",
     "text": [
      "Agriculture Environment and Challenges - Agriculture farming is characterized by steep geographic terrain.\n"
     ]
    },
    {
     "name": "stdout",
     "output_type": "stream",
     "text": [
      "With the exception of few wide valleys in the western, central and some plains in the southern part of the country, in most part agricultural lands are located on the slopes.\n"
     ]
    },
    {
     "name": "stdout",
     "output_type": "stream",
     "text": [
      "Assessment indicates that 31 percent of the agriculture land is located on slopes more than 50 degrees.\n"
     ]
    },
    {
     "name": "stdout",
     "output_type": "stream",
     "text": [
      "This is also one of the reason why soil erosion rate is high, estimated at 8.6 tonnes/ha or approximately 3.5 t/acres (DOA, 2011).\n"
     ]
    },
    {
     "name": "stdout",
     "output_type": "stream",
     "text": [
      "Moreover, despite having an abundance of water resources, agriculture is still dominated by the rain-fed dry land farming and wetland cultivation.\n"
     ]
    },
    {
     "name": "stdout",
     "output_type": "stream",
     "text": [
      "Dry land irrigation for other crops is virtually non-existent.\n"
     ]
    },
    {
     "name": "stdout",
     "output_type": "stream",
     "text": [
      "Further, pest and diseases continue to be a problem for the farming communities.\n"
     ]
    },
    {
     "name": "stdout",
     "output_type": "stream",
     "text": [
      "Other crop diseases such as Gray Leaf Spot and Turcicum Leaf Blight in maize, Greening in Citrus, phythoptra diseases in chilli and potatoes also continue to pose major challenges.\n"
     ]
    },
    {
     "name": "stdout",
     "output_type": "stream",
     "text": [
      "Domestic cattle and equine population left stray in winter is one of leading factor discouraging farmers from growing winter and spring crops such as wheat, barley and buckwheat affecting the cropping intensity and overall production potential.\n"
     ]
    },
    {
     "name": "stdout",
     "output_type": "stream",
     "text": [
      "Labor shortage including increasing feminization of the agricultural labour force is becoming one of the leading constraints in agriculture production.\n"
     ]
    },
    {
     "name": "stdout",
     "output_type": "stream",
     "text": [
      "According to agriculture statistics 2011, available farm labour constitutes only 26 percent.\n"
     ]
    },
    {
     "name": "stdout",
     "output_type": "stream",
     "text": [
      "Rural female population is more by 3.7 percent overall.\n"
     ]
    },
    {
     "name": "stdout",
     "output_type": "stream",
     "text": [
      "In the age group of 15-64 which is also an active population group, female population is higher by 7.5 percent, and this is likely to increase.\n"
     ]
    },
    {
     "name": "stdout",
     "output_type": "stream",
     "text": [
      "This gender imbalance in agriculture workforce will also have significant impact on agriculture.\n"
     ]
    },
    {
     "name": "stdout",
     "output_type": "stream",
     "text": [
      "If this trend continues, it is likely that more and more people could leave their farms which could adversely impact the goals of achieving food and nutrition security, reducing unemployment levels and, may likely reverse the gains achieved in poverty reduction.\n"
     ]
    },
    {
     "name": "stdout",
     "output_type": "stream",
     "text": [
      "5.5.3  Sector Key Result Areas\n\n5.5.4  Strategies\n\nA key strategy will be to transform the RNR sector into a commercially viable sector that provides higher returns to the farmers, improves rural livelihood, reduces imports and promotes exports, and offers attractive employment opportunities to youth.\n"
     ]
    },
    {
     "name": "stdout",
     "output_type": "stream",
     "text": [
      "To facilitate this transformation, focused initiatives will be undertaken as follows:\n\nTargeted and commodity focused approach: One Gewog One Product, based on commercial viability of such product and the potential of different Gewogs, will be one of the strategies to achieve the objective of food and nutrition security.\n"
     ]
    },
    {
     "name": "stdout",
     "output_type": "stream",
     "text": [
      "At national level, the focus will be on fewer prioritized products that will enhance food self sufficiency and also contribute to import substitution and export promotion.\n"
     ]
    },
    {
     "name": "stdout",
     "output_type": "stream",
     "text": [
      "To provide both economies of scale and fair terms of trade, the evolving farmers' organizations and cooperatives will be supported technically and financially, notably through preferential access to loans from financial institutions, extension support services and other forms of support.\n"
     ]
    },
    {
     "name": "stdout",
     "output_type": "stream",
     "text": [
      "Promote private sector participation and contract farming: Government will facilitate an enabling environment for private sector participation and contract farming to enhance market access, innovations and technical expertise.\n"
     ]
    },
    {
     "name": "stdout",
     "output_type": "stream",
     "text": [
      "A reliable institutional mechanism will be established to effectively cater to the needs of the interested private entities.\n"
     ]
    },
    {
     "name": "stdout",
     "output_type": "stream",
     "text": [
      "5.5.5  Key programmes\n\nSome of the major programmes are as follows:\n\n•\tNational field crops development\n•\tAgriculture infrastructure development\n\n•\tNational Organic\n\n•\tNational horticulture development\n\n•\tNational livestock development\n\n•\tMarket development\n\n•\tRNR Research and extension services\n\n•\tNational bio-security and food safety\n\nProgramme details are presented in Eleventh Plan Volume II document.\n"
     ]
    },
    {
     "name": "stdout",
     "output_type": "stream",
     "text": [
      "*****\n\n5.6 Tourism Sector\n\nTourism in Bhutan is governed by the policy of \"high value-low impact\" tourism.\n"
     ]
    },
    {
     "name": "stdout",
     "output_type": "stream",
     "text": [
      "The tourism pricing of USD $200 per person per night during off-seasons and USD $250 per person per night during seasons forms the basis for regulating tourist arrivals.\n"
     ]
    },
    {
     "name": "stdout",
     "output_type": "stream",
     "text": [
      "Travel to Bhutan is booked either through Bhutanese tour operator or their international partners.\n"
     ]
    },
    {
     "name": "stdout",
     "output_type": "stream",
     "text": [
      "Culture and nature are the two leading purposes for tourist arrivals.\n"
     ]
    },
    {
     "name": "stdout",
     "output_type": "stream",
     "text": [
      "The majority of arrivals are in spring (February-April) and autumn (August-October) season.\n"
     ]
    },
    {
     "name": "stdout",
     "output_type": "stream",
     "text": [
      "Gross earnings in 2012 were USD 62.80 million and approximately 22,045 employment opportunities were created in 2011.\n"
     ]
    },
    {
     "name": "stdout",
     "output_type": "stream",
     "text": [
      "Out of USD 62.80 million, USD 16.63 million was generated as direct revenue for the Government through the \"Royalty\" (35 percent tourism levy on daily tariff).\n"
     ]
    },
    {
     "name": "stdout",
     "output_type": "stream",
     "text": [
      "Other taxes such as the Business Income Tax (BIT) and Sales Taxes paid by tourism service providers also translate into government revenue, therefore increasing revenue generated by the tourism industry.\n"
     ]
    },
    {
     "name": "stdout",
     "output_type": "stream",
     "text": [
      "5.6.1  Current Situation\n\nWith improvements in tourism infrastructure facilities and better air connectivity, the number of tourist arrivals to Bhutan has increased from about 6,000 in 2001 to about 105,407 in 2012.\n"
     ]
    },
    {
     "name": "stdout",
     "output_type": "stream",
     "text": [
      "The figure includes 54,685 international visitors and 50,722 regional visitors.\n"
     ]
    },
    {
     "name": "stdout",
     "output_type": "stream",
     "text": [
      "The average length of stay was 6.90 days.\n"
     ]
    },
    {
     "name": "stdout",
     "output_type": "stream",
     "text": [
      "The arrival figures include about 57 percent international visitors, 26 percent regional high-end visitors, 16 percent MICE (Meeting, Incentive, Conferences, Exhibition) visitors, and 1 percent familiarization visitors.\n"
     ]
    },
    {
     "name": "stdout",
     "output_type": "stream",
     "text": [
      "The highest number of visitors was from Japan at 15.98 percent, followed by USA at 13.67 percent and China at 8.57 percent.\n"
     ]
    },
    {
     "name": "stdout",
     "output_type": "stream",
     "text": [
      "In terms of the tourism spread, Paro Dzongkhag hosted the maximum bed nights (32.69 percent) followed by Thimphu, Wangduephodrang, Punakha and Bumthang.\n"
     ]
    },
    {
     "name": "stdout",
     "output_type": "stream",
     "text": [
      "Pemagatshel, Zhemgang, Tsirang, Dagana, Sarpang and Samtse were among the Dzongkhags that hosted less than 0.04 percent bed nights.\n"
     ]
    },
    {
     "name": "stdout",
     "output_type": "stream",
     "text": [
      "The tourist arrivals in Trashigang and Samdrup Jongkhar have improved significantly as a result of opening of Merak Sakteng trek and also use of Samdrup Jongkhar as an entry point from the south-east.\n"
     ]
    },
    {
     "name": "stdout",
     "output_type": "stream",
     "text": [
      "The tourism package covers the cost of accommodation in a '3-Star' and above category hotel, local guide and transportation, and three meals.\n"
     ]
    },
    {
     "name": "stdout",
     "output_type": "stream",
     "text": [
      "Currently, there are 123 accommodation providers with a capacity of 2,749 rooms offering 5,464 bed nights consisting of 8 '5-Star', 7 '4-Star', 40 '3-Star', 54 '2-Star' and 19 '1-Star' category.\n"
     ]
    },
    {
     "name": "stdout",
     "output_type": "stream",
     "text": [
      "Accommodation classified as '2-Star' and below have been encouraged to upgrade to '3-Star' and above in order to cater to tourist.\n"
     ]
    },
    {
     "name": "stdout",
     "output_type": "stream",
     "text": [
      "The annual occupancy rates was highest in the '3-Star' category with 34.46 percent followed by '5-Star'.\n"
     ]
    },
    {
     "name": "stdout",
     "output_type": "stream",
     "text": [
      "In terms of tour operators, there were 741 registered local tour operators, of which 318 were operational.\n"
     ]
    },
    {
     "name": "stdout",
     "output_type": "stream",
     "text": [
      "The top 12 tour operators accounted for 41.46 percent of total arrivals with the highest number of tourists managed by a single operator of 4,159 visitors.\n"
     ]
    },
    {
     "name": "stdout",
     "output_type": "stream",
     "text": [
      "5.6.2  Key Challenges\n\nIt is evident from the above that the tourism sector has made much progress and is one of the key economic sectors contributing to economic growth, employment and revenues.\n"
     ]
    },
    {
     "name": "stdout",
     "output_type": "stream",
     "text": [
      "However, constraints in terms of accessibility, regional spread, seasonality and product diversification are still issues of concern.\n"
     ]
    },
    {
     "name": "stdout",
     "output_type": "stream",
     "text": [
      "With just one international airport at Paro and with only Druk Air, the national carrier with a fleet of three Airbus A319 and one ATR 42-500, flying to limited destinations in the region, traveling to Bhutan is a challenge to many visitors.\n"
     ]
    },
    {
     "name": "stdout",
     "output_type": "stream",
     "text": [
      "The number of visitors to Bhutan currently is determined by Druk Air's capacity.\n"
     ]
    },
    {
     "name": "stdout",
     "output_type": "stream",
     "text": [
      "The other major challenge faced is the shortage of manpower in the form of trained guides, skilled workers in hospitality sector, qualified and experienced professionals in product development, destination marketing and other tourism-related services.\n"
     ]
    },
    {
     "name": "stdout",
     "output_type": "stream",
     "text": [
      "The sector is still largely dependent on international tour operators for arrivals.\n"
     ]
    },
    {
     "name": "stdout",
     "output_type": "stream",
     "text": [
      "Lack of tourist infrastructure facilities/amenities, travel time and limited tourism products are some of the reasons for other Dzongkhags not benefitting much from the sector.\n"
     ]
    },
    {
     "name": "stdout",
     "output_type": "stream",
     "text": [
      "However, with the completion of three domestic airports and efforts already underway to create infrastructure facilities and products in Central, South and East, the lack of regional spread is expected to be addressed in the next few years.\n"
     ]
    },
    {
     "name": "stdout",
     "output_type": "stream",
     "text": [
      "5.6.3  Sector Key Result Areas\n\n5.6.4  Strategies\n\nTourism will be one of the priority sectors under Rapid Investments in Selected Enterprises (RISE) programme.\n"
     ]
    },
    {
     "name": "stdout",
     "output_type": "stream",
     "text": [
      "Under the programme, selected initiatives that contribute to achieving higher yields per tourist as well as double the arrivals but spread throughout the country and throughout the calendar year will be defined and implementation of these initiatives closely monitored.\n"
     ]
    },
    {
     "name": "stdout",
     "output_type": "stream",
     "text": [
      "•\tSustainable Tourism Development: The focus of this programme will include product diversification to ensure regional and seasonal spread, improving quality and standards of services including accommodation and tourism attractions, exploring new markets, and decentralization of tourism planning and development.\n"
     ]
    },
    {
     "name": "stdout",
     "output_type": "stream",
     "text": [
      "Further, the programme will ensure that local communities are able to reap the benefits from this industry.\n"
     ]
    },
    {
     "name": "stdout",
     "output_type": "stream",
     "text": [
      "The thrust area for this industry will continue to be high end sustainable tourism destination.\n"
     ]
    },
    {
     "name": "stdout",
     "output_type": "stream",
     "text": [
      "•\tStrengthening of Royal Institute of Tourism and Hospitality: The Institute is expected to enhance the quality of tourism and hospitality professionals by benchmarking its training programmes to international standards and working towards its vision of becoming a regional center of excellence.\n"
     ]
    },
    {
     "name": "stdout",
     "output_type": "stream",
     "text": [
      "The training modules and curriculum will be reviewed and improved based on periodic training needs assessments.\n"
     ]
    },
    {
     "name": "stdout",
     "output_type": "stream",
     "text": [
      "Required additional infrastructures will be put in place and capacity development of faculties will receive priority.\n"
     ]
    },
    {
     "name": "stdout",
     "output_type": "stream",
     "text": [
      "*****\n\n5.7 Trade, Industries & Mines Sector\n\nThis is a critical sector for sustainable economic growth and poverty reduction.\n"
     ]
    },
    {
     "name": "stdout",
     "output_type": "stream",
     "text": [
      "The high priority accorded to the sector over the last five decades has resulted in significant structural changes in the economy with secondary and tertiary sectors taking over the primary sector and annual growth rates averaging around 8 percent per annum over the last decade.\n"
     ]
    },
    {
     "name": "stdout",
     "output_type": "stream",
     "text": [
      "However, the structural change has not translated into productive employment opportunities, vibrant private sector growth and economic diversification.\n"
     ]
    },
    {
     "name": "stdout",
     "output_type": "stream",
     "text": [
      "The economy continues to be driven by hydropower and construction sectors with limited potential for employment creation.\n"
     ]
    },
    {
     "name": "stdout",
     "output_type": "stream",
     "text": [
      "Besides, small domestic market, difficult terrain, high transportation costs, lack of skilled human resources and access to finance remain major challenges to sustainable economic growth.\n"
     ]
    },
    {
     "name": "stdout",
     "output_type": "stream",
     "text": [
      "In an effort to diversify the economy and address the challenges, the Economic Development Policy (EDP) was adopted in 2010.\n"
     ]
    },
    {
     "name": "stdout",
     "output_type": "stream",
     "text": [
      "The EDP targets high value and low volume green services and products that have minimal impact on environment\n\n- potential sectors include tourism, Information and Communication Technology (ICT) and IT enabled industries, cultural industries, construction and high-value niche commercial and organic agricultural products.\n"
     ]
    },
    {
     "name": "stdout",
     "output_type": "stream",
     "text": [
      "The main thrust area for the trade, industries and mining sectors in the Eleventh Plan is \"Brand Bhutan, Economic Diversification and Inter-generational Equity\".\n"
     ]
    },
    {
     "name": "stdout",
     "output_type": "stream",
     "text": [
      "5.7.1  Current Situation\n\nTrade: India is Bhutan's largest trading partner accounting for 84 percent of exports and about 73 percent of imports.\n"
     ]
    },
    {
     "name": "stdout",
     "output_type": "stream",
     "text": [
      "26.3 billion, leading to a trade deficit of Nu.\n"
     ]
    },
    {
     "name": "stdout",
     "output_type": "stream",
     "text": [
      "The balance of trade with India was in surplus till 2009 and thereafter it ran into deficit with imports outpacing exports with the commencement of three hydro-power projects in 2010-11.\n"
     ]
    },
    {
     "name": "stdout",
     "output_type": "stream",
     "text": [
      "Trade with rest of the world accounted for 16 percent of exports and 27 percent of imports.\n"
     ]
    },
    {
     "name": "stdout",
     "output_type": "stream",
     "text": [
      "The wholesale and retail trade's share of GDP averaged around 6 percent during the last five years and created an employment of 3.8 percent in 2012.\n"
     ]
    },
    {
     "name": "stdout",
     "output_type": "stream",
     "text": [
      "The trade sector's contribution to national revenue increased from Nu.\n"
     ]
    },
    {
     "name": "stdout",
     "output_type": "stream",
     "text": [
      "The increase is attributed to higher remittances from excise duty refund, sales tax collections from goods and alcoholic products, customs duty, and corporate and business tax from trading units.\n"
     ]
    },
    {
     "name": "stdout",
     "output_type": "stream",
     "text": [
      "Trade with India is based on a Free Trade and Commerce Agreement between the two countries, that was renewed in 2006 for ten years.\n"
     ]
    },
    {
     "name": "stdout",
     "output_type": "stream",
     "text": [
      "With Bangladesh, which is one of the top three export destinations, Bhutan has a Preferential Trade Agreement that was renewed in 2009 for five years.\n"
     ]
    },
    {
     "name": "stdout",
     "output_type": "stream",
     "text": [
      "The current trading arrangement allows duty/ tax free access to 18 exportable items from Bhutan to Bangladesh.\n"
     ]
    },
    {
     "name": "stdout",
     "output_type": "stream",
     "text": [
      "Trade between Bhutan and Bangladesh has seen a substantial increase in the last five years.\n"
     ]
    },
    {
     "name": "stdout",
     "output_type": "stream",
     "text": [
      "190.11 million, which is the highest till date.\n"
     ]
    },
    {
     "name": "stdout",
     "output_type": "stream",
     "text": [
      "The balance of trade has always been in Bhutan's favour ever since the commencement of trade with Bangladesh.\n"
     ]
    },
    {
     "name": "stdout",
     "output_type": "stream",
     "text": [
      "Bhutan is also negotiating trade agreement with Nepal.\n"
     ]
    },
    {
     "name": "stdout",
     "output_type": "stream",
     "text": [
      "For the year 2011, the value of Bhutan's export to and import from Nepal were Nu.\n"
     ]
    },
    {
     "name": "stdout",
     "output_type": "stream",
     "text": [
      "In terms of global and regional trade agreements, accession to World Trade Organization (WTO) is still under consideration.\n"
     ]
    },
    {
     "name": "stdout",
     "output_type": "stream",
     "text": [
      "The Working Party for Accession to WTO was established in 1999 and its memorandum on Bhutan's Foreign Trade Regime was submitted in 2003.\n"
     ]
    },
    {
     "name": "stdout",
     "output_type": "stream",
     "text": [
      "At the regional level, Bhutan is member of the Bay of Bengal Initiative for Multi-Sectoral Technical and Economic Cooperation (BIMSTEC).\n"
     ]
    },
    {
     "name": "stdout",
     "output_type": "stream",
     "text": [
      "The negotiation on BIMSTEC free trade agreement is on-going.\n"
     ]
    },
    {
     "name": "stdout",
     "output_type": "stream",
     "text": [
      "The South Asia Free Trade Agreement (SAFTA) aimed at reducing tariffs for intraregional trade between the eight South Asian countries came into effect on 1 January 2006.\n"
     ]
    },
    {
     "name": "stdout",
     "output_type": "stream",
     "text": [
      "It aims to reduce tariffs in stages to reach 0-5 percent level by 2013, with a longer time frame for the Least Developed Countries (Bhutan, Bangladesh and Nepal) to reach that goal by 2016.\n"
     ]
    },
    {
     "name": "stdout",
     "output_type": "stream",
     "text": [
      "Due to the large number of products in the sensitive list, trade expansion under SAFTA has been limited; Bhutan has 150 products in the list compared to 1,257 products in Nepal's list.\n"
     ]
    },
    {
     "name": "stdout",
     "output_type": "stream",
     "text": [
      "Reductions in the number of products under this list by member states are still being negotiated by the Working Group on Reduction in the Sensitive Lists.\n"
     ]
    },
    {
     "name": "stdout",
     "output_type": "stream",
     "text": [
      "The other agreement within the SAARC framework is on Trade in Services (SATIS) which was signed at the Sixteenth SAARC Summit held in Thimphu from 28-29 April 2010.\n"
     ]
    },
    {
     "name": "stdout",
     "output_type": "stream",
     "text": [
      "The Agreement has been ratified by all the Member States and negotiations on finalization of schedules of specific commitments are ongoing.\n"
     ]
    },
    {
     "name": "stdout",
     "output_type": "stream",
     "text": [
      "Industries - Industries is dominated by few major manufacturing firms based on mineral and metal and a large number of smaller firms dealing in handicrafts, food processing, construction, wood and paper processing.\n"
     ]
    },
    {
     "name": "stdout",
     "output_type": "stream",
     "text": [
      "In 201144, there were 22,776 industrial firms, of which 133 were large, 220 medium, 2,649 small and 19,774 cottage industries.\n"
     ]
    },
    {
     "name": "stdout",
     "output_type": "stream",
     "text": [
      "In terms of the type of industries, there are 291 agro-based, 831 forests based, 209 mineral based, 20,799 services and 646 others.\n"
     ]
    },
    {
     "name": "stdout",
     "output_type": "stream",
     "text": [
      "Many of the major industries are located in the South due to proximity to the Indian market both for raw material and exports.\n"
     ]
    },
    {
     "name": "stdout",
     "output_type": "stream",
     "text": [
      "The industries in the north are mostly small and medium sized cottage industries in agro-processing, wood-based, cultural industries (textile and handicrafts) and handmade paper.\n"
     ]
    },
    {
     "name": "stdout",
     "output_type": "stream",
     "text": [
      "The industry sector's contribution to GDP was the highest averaging around 40 percent per annum over the last five years with manufacturing sector contributing 10 percent.\n"
     ]
    },
    {
     "name": "stdout",
     "output_type": "stream",
     "text": [
      "Mining - Bhutan has pursued mining activities cautiously bearing in mind the social and environmental consequences.\n"
     ]
    },
    {
     "name": "stdout",
     "output_type": "stream",
     "text": [
      "Although Bhutan has significant deposits of a number of mineral resources, including limestone, coal, graphite, gypsum, slate and dolomite, most mining activities are limited to relatively small operations and mainly involve the above minerals.\n"
     ]
    },
    {
     "name": "stdout",
     "output_type": "stream",
     "text": [
      "All the mines in the country are operated using opencast mining technique and the current land coverage by mining activities is 0.033 percent of the total area of the country.\n"
     ]
    },
    {
     "name": "stdout",
     "output_type": "stream",
     "text": [
      "There are currently about 55 registered firms in the mining sector.\n"
     ]
    },
    {
     "name": "stdout",
     "output_type": "stream",
     "text": [
      "During the period 2005 to 2011, revenues from mining sector ranged from Nu.\n"
     ]
    },
    {
     "name": "stdout",
     "output_type": "stream",
     "text": [
      "The mineral production and their uses over the last three years are as follows.\n"
     ]
    },
    {
     "name": "stdout",
     "output_type": "stream",
     "text": [
      "Further development of mining sector will be pursued considering the environmental and social impacts and intergenerational equity.\n"
     ]
    },
    {
     "name": "stdout",
     "output_type": "stream",
     "text": [
      "5.7.2  Key Challenges\n\nForeign trade - Foreign trade is dominated by a few products.\n"
     ]
    },
    {
     "name": "stdout",
     "output_type": "stream",
     "text": [
      "The export earnings from these products are highly vulnerable with the production of electricity highly dependent on hydrological flows and the uninterrupted operation of the hydro power plants and mineral and base metals products being currently competitive only due to cheap electricity rather than any technological advantage.\n"
     ]
    },
    {
     "name": "stdout",
     "output_type": "stream",
     "text": [
      "Further, due to high import content of raw materials for these products, they account for the highest share of the import bill.\n"
     ]
    },
    {
     "name": "stdout",
     "output_type": "stream",
     "text": [
      "The next major export product is agriculture products (mandarin, potatoes, apples, cordyceps and agro products) which accounted for about 5 percent of the total exports.\n"
     ]
    },
    {
     "name": "stdout",
     "output_type": "stream",
     "text": [
      "Continued emphasis on mineral products and base metals for export promotion could mean compromising on environmental concerns and having to continue to provide electricity to these industries at prices lower than export prices.\n"
     ]
    },
    {
     "name": "stdout",
     "output_type": "stream",
     "text": [
      "Diversification of our exports in agricultural and non-mineral and non-metal products will however require substantial investments.\n"
     ]
    },
    {
     "name": "stdout",
     "output_type": "stream",
     "text": [
      "Ease of Doing Business - In the 2012 IFC/World Bank Report on \"Ease of Doing Business\" Bhutan ranked 142 out of 183 countries.\n"
     ]
    },
    {
     "name": "stdout",
     "output_type": "stream",
     "text": [
      "The areas requiring improvements were resolving insolvency, protecting investors, getting electricity and dealing with construction permits amongst others.\n"
     ]
    },
    {
     "name": "stdout",
     "output_type": "stream",
     "text": [
      "In the region, Bhutan ranks seventh out of eight countries.\n"
     ]
    },
    {
     "name": "stdout",
     "output_type": "stream",
     "text": [
      "Industrial base - About 85 percent of Bhutanese industries are small and micro industries dealing in agro products, textiles and handicrafts and large number of such industries are located in urban areas.\n"
     ]
    },
    {
     "name": "stdout",
     "output_type": "stream",
     "text": [
      "While development of such industries are important in view of Bhutan's desire to develop clean green manufacturing industries with high potential for employment and for promoting broad based inclusive growth, they are constrained by lack of access to capital, technology, markets and labour resulting in low volume, high cost and inferior quality products.\n"
     ]
    },
    {
     "name": "stdout",
     "output_type": "stream",
     "text": [
      "Mining - In the absence of a clear mineral development policy, the management, allocation and monitoring of mining sector has been difficult.\n"
     ]
    },
    {
     "name": "stdout",
     "output_type": "stream",
     "text": [
      "The sector also faces human resource constraints both in the government and the private mining sector which has hampered effective functioning of the sector.\n"
     ]
    },
    {
     "name": "stdout",
     "output_type": "stream",
     "text": [
      "The draft Mineral Development Policy has been prepared to address these issues, and is expected to be approved within the first year of the Eleventh Plan.\n"
     ]
    },
    {
     "name": "stdout",
     "output_type": "stream",
     "text": [
      "5.7.4  Strategies\n\nThe flagship programme to accelerate economic growth and achieve the objective of self-reliance will be the Rapid Investments in Selected Enterprises (RISE) programme.\n"
     ]
    },
    {
     "name": "stdout",
     "output_type": "stream",
     "text": [
      "The Government, in consultation with the relevant stakeholders will identify 4-5 non-hydro priority sectors for end-to-end intervention in the Eleventh Plan.\n"
     ]
    },
    {
     "name": "stdout",
     "output_type": "stream",
     "text": [
      "The selection of priority sectors will be based on three filters of i) employment generation, ii) revenues to the government, and iii) returns to the entrepreneurs.\n"
     ]
    },
    {
     "name": "stdout",
     "output_type": "stream",
     "text": [
      "Tentatively, the sectors identified are tourism (to achieve higher yields per tourist as well as double the arrivals but spread throughout the country and throughout the calendar year), agro-processing (selected produce with high potential), construction (enhance the capacity of Bhutanese contractors to deliver quality and take on more complex projects), small and cottage industries (including cultural industries such as textiles, arts and crafts) and manufacturing (explore establishment of few large scale hydro-power intensive industries).\n"
     ]
    },
    {
     "name": "stdout",
     "output_type": "stream",
     "text": [
      "A detailed blue print of interventions will be developed with clear initiatives, time line, targets, resource requirements and persons responsible to deliver the initiatives.\n"
     ]
    },
    {
     "name": "stdout",
     "output_type": "stream",
     "text": [
      "The implementation of the programme will be rigorously monitored by the Cabinet and Committee of Secretaries and problem solving sessions facilitated to expedited smooth implementation of the programme.\n"
     ]
    },
    {
     "name": "stdout",
     "output_type": "stream",
     "text": [
      "To facilitate private sector development, the government will facilitate the development of economic infrastructure such as industrial estates in Jigmeling in Gelephu, Dhamdum in Samtse, Motanga in Samdrup Jongkhar and Bondeyma in Mongar and establishment of dry ports in Phuentsholing.\n"
     ]
    },
    {
     "name": "stdout",
     "output_type": "stream",
     "text": [
      "The government will also review and address issues related to excise refund, access to finance particularly for cottage, small and medium industries, reduction in turn-around-time for Government to Business (G2B) services specially in terms of government clearances/ approvals, and development of capital markets.\n"
     ]
    },
    {
     "name": "stdout",
     "output_type": "stream",
     "text": [
      "5.7.5  Key Programmes\n\nSome of the key programmes include:\n\n•\tExport Promotion and Market Access: The programme aims to strategically enhance our export capacity and leverage our comparative advantages to build our competitiveness in the international market through export promotion and marketing and facilitation of exports through integration into the regional and international trading environment.\n"
     ]
    },
    {
     "name": "stdout",
     "output_type": "stream",
     "text": [
      "•\tStrengthening Trade Policy and Regulatory Framework: The emphasis will be on strengthening the policy and regulatory framework to improve and simplify the procedures for business start-ups, prevent business malpractices, promote\n\nfair competition in the market and promote international best practices in the business environment.\n"
     ]
    },
    {
     "name": "stdout",
     "output_type": "stream",
     "text": [
      "The drafting of the Consumers' Protection Act and enactment of the Trade Development Act and the Competition Policy/Act are key policy and regulatory instruments that will be pursued.\n"
     ]
    },
    {
     "name": "stdout",
     "output_type": "stream",
     "text": [
      "Further, the Dechencholing fuel depot will be relocated to Thinchupangkha under Paro Dzongkhag and Fuel quality will be upgraded to Euro IV.\n"
     ]
    },
    {
     "name": "stdout",
     "output_type": "stream",
     "text": [
      "•\tPromotion of sustainable and environment friendly industrial development\n\n- The focus will be on development of industrial parks to promote private sector development and enhance socio-economic activity in a particular region.\n"
     ]
    },
    {
     "name": "stdout",
     "output_type": "stream",
     "text": [
      "Further, the development and management of industrial parks in Jigmeling and Dhamdum would be pursued through PPP model and additional infrastructures in existing parks would be developed\n\n•\tDevelopment of Cottage & Small Industries (CSIs) in Bhutan: The growth of CSIs are essential for poverty alleviation, employment generation and sustainable economic development of our country.\n"
     ]
    },
    {
     "name": "stdout",
     "output_type": "stream",
     "text": [
      "Strengthen the legislative framework and enterprise environment\n\n3.\n"
     ]
    },
    {
     "name": "stdout",
     "output_type": "stream",
     "text": [
      "Improve market access\n\n•\tGeological Mapping, Mineral Exploration and Sustainable Mineral Development: The demand for industrial minerals and construction materials will increase rapidly over the next few decades and therefore, the mineral sector will continue to play an important role in Bhutan's socio-economic development.\n"
     ]
    },
    {
     "name": "stdout",
     "output_type": "stream",
     "text": [
      "The department will prioritize the target areas for mineral investigation and construction materials study.\n"
     ]
    },
    {
     "name": "stdout",
     "output_type": "stream",
     "text": [
      "For ensuring mineral development, the Department will further strengthen both technical and human capacity of the government and private sector.\n"
     ]
    },
    {
     "name": "stdout",
     "output_type": "stream",
     "text": [
      "The geophysical investigation of potential groundwater reserves will be carried out.\n"
     ]
    },
    {
     "name": "stdout",
     "output_type": "stream",
     "text": [
      "*****\n\n5.8 Hydropower, Renewable Energy and Hydromet Sector\n\nThe energy sector is the lynchpin of our economy and accounts for about 18 percent of total revenues and about 20 percent of GDP.\n"
     ]
    },
    {
     "name": "stdout",
     "output_type": "stream",
     "text": [
      "Bhutan has an estimated hydropower potential of 23,760 MW with a mean annual energy production capability close to 100,000 GWh.\n"
     ]
    },
    {
     "name": "stdout",
     "output_type": "stream",
     "text": [
      "At present, the installed hydropower capacity is 1,488 MW, about 5 percent of the total potential.\n"
     ]
    },
    {
     "name": "stdout",
     "output_type": "stream",
     "text": [
      "The main thrust area for the Energy sector in the Eleventh Plan is \"Energy Security for Sustainable Development\".\n"
     ]
    },
    {
     "name": "stdout",
     "output_type": "stream",
     "text": [
      "5.8.1  Current Situation\n\nCurrently, construction of 1,020 MW Punatsangchhu I Hydroelectric Project, 1,000 MW Punatsangchhu II and 720 MW Mangdechhu Hydroelectric Projects are ongoing.\n"
     ]
    },
    {
     "name": "stdout",
     "output_type": "stream",
     "text": [
      "The other projects, to achieve 10,000 MW hydroelectricity generations by 2020, are planned to start construction during the current Plan period.\n"
     ]
    },
    {
     "name": "stdout",
     "output_type": "stream",
     "text": [
      "The construction period ranges from 8-9 years.\n"
     ]
    },
    {
     "name": "stdout",
     "output_type": "stream",
     "text": [
      "To ensure electricity for all and for inclusive growth, the government has actively pursued rural electrification since the Sixth Plan (1988-1993).\n"
     ]
    },
    {
     "name": "stdout",
     "output_type": "stream",
     "text": [
      "Till date 82,270 households have been electrified out of the total of 88,642 households in the country resulting in overall electrification coverage of 92.82 percent.\n"
     ]
    },
    {
     "name": "stdout",
     "output_type": "stream",
     "text": [
      "Besides mega hydroelectricity plants, the installed capacity from renewable energy technologies is about 8,152 kW (solar PV contributing 152 kW and from small hydro projects 8,000 kW).\n"
     ]
    },
    {
     "name": "stdout",
     "output_type": "stream",
     "text": [
      "Further, about 900 biogas plants and 10 solar heating systems were promoted as part of the programme to promote alternate renewable energy.\n"
     ]
    },
    {
     "name": "stdout",
     "output_type": "stream",
     "text": [
      "The domestic electricity tariff was revised recently in October 2013 and in spite of about 15-20 percent increase for different categories of consumers, it is still the lowest in the region.\n"
     ]
    },
    {
     "name": "stdout",
     "output_type": "stream",
     "text": [
      "For example45, in the neighbouring Indian state of West Bengal, the lifeline block, meant for rural households, has a cap of 75 units, with a tariff of Rs 3.19 a unit.\n"
     ]
    },
    {
     "name": "stdout",
     "output_type": "stream",
     "text": [
      "In the bordering state of Assam, the lifeline block is capped at 30 units and the tariff is Rs 2.75 a unit.\n"
     ]
    },
    {
     "name": "stdout",
     "output_type": "stream",
     "text": [
      "The cap for low voltage (LV) users in West Bengal is 350 units, with tariff averaging at Rs 5.69 a unit.\n"
     ]
    },
    {
     "name": "stdout",
     "output_type": "stream",
     "text": [
      "For the same category, the tariff is Rs 4.59 a unit in Assam.\n"
     ]
    },
    {
     "name": "stdout",
     "output_type": "stream",
     "text": [
      "When it comes to medium voltage (MV) consumers, the tariff is Rs 6.97 a unit in West Bengal, and Rs 3.25 a unit in Assam.\n"
     ]
    },
    {
     "name": "stdout",
     "output_type": "stream",
     "text": [
      "High voltage (HV) consumers or factories in West Bengal pay Rs 6.13 a unit, while in Assam it is Rs 4.18 a unit\n\nA new element in the revised electricity tariff is that rural consumers are provided free electricity for first 100 units for the next three years.\n"
     ]
    },
    {
     "name": "stdout",
     "output_type": "stream",
     "text": [
      "This was done to encourage the rural community to use electricity to cut down use of firewood for environmental and health reasons.\n"
     ]
    },
    {
     "name": "stdout",
     "output_type": "stream",
     "text": [
      "5.8.2  Key Challenges\n\nThe high upfront investment costs required for developing hydro-power projects pose significant challenge in terms of raising financing for the project.\n"
     ]
    },
    {
     "name": "stdout",
     "output_type": "stream",
     "text": [
      "The Government of India has agreed to provide the required financing and also buy any surplus power through the Umbrella Agreement on Development of Hydropower Projects signed between the two governments in 2006 and a Protocol to the 2006 agreement signed in 2009.\n"
     ]
    },
    {
     "name": "stdout",
     "output_type": "stream",
     "text": [
      "The extensive rural electrification programme to supply electricity to all households through grid and non-grid supply carried out since the Sixth Plan has resulted in substantial increase in number of domestic consumers and the demand for electricity.\n"
     ]
    },
    {
     "name": "stdout",
     "output_type": "stream",
     "text": [
      "Maintaining the balance between the needs of domestic consumption and export earnings, meeting the demand by households and industries, and the cost of electricity supply and viability of tariff levels will be a challenge till new hydropower projects are commissioned.\n"
     ]
    },
    {
     "name": "stdout",
     "output_type": "stream",
     "text": [
      "Other challenges that need to be addressed include infrastructure development, system reinforcement and human resource capacity.\n"
     ]
    },
    {
     "name": "stdout",
     "output_type": "stream",
     "text": [
      "Glacial Lake Outburst Floods (GLOF) - Bhutan is home to 677 glaciers and 2,674 glacial lakes (Second National Communication, 2011).\n"
     ]
    },
    {
     "name": "stdout",
     "output_type": "stream",
     "text": [
      "A recent study by Japan International Cooperation Agency (JICA) revealed that there are 2 potentially dangerous lakes, Thorthormi and Raphstreng, contrary to the figure of 25 lakes reported by International Center for Integrated Mountain Development (ICMOD) in 2001.\n"
     ]
    },
    {
     "name": "stdout",
     "output_type": "stream",
     "text": [
      "If the barrier is broken the water body from Thorthormi would flow into Raphstreng creating the threat of a possible outburst flood.\n"
     ]
    },
    {
     "name": "stdout",
     "output_type": "stream",
     "text": [
      "The combined volume of water from these two lakes are projected to produce about 53 million cubic metres which would cause a flood three times more powerful than the 1994 flood in Punakha from Luggye lake.\n"
     ]
    },
    {
     "name": "stdout",
     "output_type": "stream",
     "text": [
      "5.8.3  Sector Key Result Areas\n\n5.8.4  Strategies\n\nEnhancing institutional and human capacity will be a critical strategy.\n"
     ]
    },
    {
     "name": "stdout",
     "output_type": "stream",
     "text": [
      "The energy sector's capacity to design, build, operate and manage hydropower projects will be developed through human resource development.\n"
     ]
    },
    {
     "name": "stdout",
     "output_type": "stream",
     "text": [
      "Development of sustainable energy allocation policy - With the commissioning of new hydropower projects in the next few years, Bhutan's firm power will be enhanced substantially.\n"
     ]
    },
    {
     "name": "stdout",
     "output_type": "stream",
     "text": [
      "To prepare for the optimum utilization of firm power that would be available and to plan for clean green industrial development, energy allocation policy will be formulated.\n"
     ]
    },
    {
     "name": "stdout",
     "output_type": "stream",
     "text": [
      "Development of Renewable Energy - To enhance energy security and reduce dependency on fossil fuel, other forms of alternate renewable energy will be promoted.\n"
     ]
    },
    {
     "name": "stdout",
     "output_type": "stream",
     "text": [
      "Renewable energy (RE) master-plan will be developed to map RE potential and sites and feasibility studies will be conducted.\n"
     ]
    },
    {
     "name": "stdout",
     "output_type": "stream",
     "text": [
      "5.8.5  Key Programmes\n\n•\tAccelerated Hydropower Generation & Transmission Network Strengthening - Major activities include new system infrastructures and system reinforcements to ensure reliability and security of domestic power supply; pre-feasibility studies and reconnaissance studies for new hydropower projects, implementation of pre-construction activities and construction of hydropower projects; establishment of a Power Training Institute to address manpower deployment in Hydropower projects; and construction of new transmission lines and associated substations by BPC.\n"
     ]
    },
    {
     "name": "stdout",
     "output_type": "stream",
     "text": [
      "•\tEnhancing Hydrological Network for Water Resources Assessment and Improvement of Flood Information/GLOF Early Warning System - Strengthening of hydrological information and establishing early warning networks and stations to reduce the risks of climate change induced disasters like floods, landslide, and droughts will be the focus.\n"
     ]
    },
    {
     "name": "stdout",
     "output_type": "stream",
     "text": [
      "•\tStrengthening Meteorological Network Coverage and Enhancing Weather and Climate Information Services - The current observation network in\n \nBhutan is inadequate in terms of spatial coverage and representativeness.\n"
     ]
    },
    {
     "name": "stdout",
     "output_type": "stream",
     "text": [
      "Hence, strengthening meteorological network coverage and enhancing weather and climate information services will be the focus.\n"
     ]
    },
    {
     "name": "stdout",
     "output_type": "stream",
     "text": [
      "•\tPromotion and Development of Renewable/Alternate Energy Technologies - The Programme aims to diversify energy supply mix using other renewable energy resources like solar, wind, biomass, small hydro and other emerging modern fuels for energy generation and to strengthen the institutional capacity for provision of efficient and responsive energy services in the Country.\n"
     ]
    },
    {
     "name": "stdout",
     "output_type": "stream",
     "text": [
      "The Program intends to develop Renewable Energy Master Plan, conduct pre-feasibility and feasibility studies to attract the investors in the RE Sector.\n"
     ]
    },
    {
     "name": "stdout",
     "output_type": "stream",
     "text": [
      "The Programme will promote biogas plants as alternate source of fuel for cooking, Compact Fluorescent Lamp (CFL) instead of incandescent lamps in the LV category consumers, energy efficient wood stoves to reduce fuel-wood demand and solar water heating systems as alternative means for heating water and space.\n"
     ]
    },
    {
     "name": "stdout",
     "output_type": "stream",
     "text": [
      "*****\n\n5.9 Information, Communication & Technology and Media Sector\n\nInformation, Communication & Technology and Media play an important role in developing a more open, just and democratic societies.\n"
     ]
    },
    {
     "name": "stdout",
     "output_type": "stream",
     "text": [
      "It is a key element for empowering people and enhancing transparency, accountability and good governance.\n"
     ]
    },
    {
     "name": "stdout",
     "output_type": "stream",
     "text": [
      "The right to information as enshrined under Article 7(3) of the Constitution is a fundamental right of every Bhutanese citizen.\n"
     ]
    },
    {
     "name": "stdout",
     "output_type": "stream",
     "text": [
      "Accordingly, the Right to Information Bill was tabled in the first session of the second Parliament in September 2013 and will be further deliberated during the next session.\n"
     ]
    },
    {
     "name": "stdout",
     "output_type": "stream",
     "text": [
      "ICT and Media are also critical \"to promote a green and self reliant economy sustained by an IT enabled knowledge society guided by the philosophy of GNH\" as underlined in the Economic Development Policy 2010 (EDP).\n"
     ]
    },
    {
     "name": "stdout",
     "output_type": "stream",
     "text": [
      "The sector has been identified as one of the sectors for provision of high end green services such as Business Process Outsourcing (BPOs), Knowledge Process Outsourcing (KPOs), Data Centres and other IT enabled services in health, education, finance etc.\n"
     ]
    },
    {
     "name": "stdout",
     "output_type": "stream",
     "text": [
      "Given the importance of the sector, a number of initiatives have been implemented to strengthen the ICT backbone infrastructure, develop appropriate policy and legislation and enhance the technical capacity of ICT professionals.\n"
     ]
    },
    {
     "name": "stdout",
     "output_type": "stream",
     "text": [
      "The objective of the E-gov Master Plan is to consolidate and optimize the investments in various IT infrastructures during the Tenth Plan period for improved service delivery, enhanced access to services and information and facilitating good governance.\n"
     ]
    },
    {
     "name": "stdout",
     "output_type": "stream",
     "text": [
      "The focus will be on consolidating the E-gov projects such as the G2C, establishing a government data centre, and further improving the nationwide intranet system - Thimphu Wide Area Network (TWAN) & Dzongkhag Local Area Network (DLANs) for smooth and seamless functioning of many of our online services.\n"
     ]
    },
    {
     "name": "stdout",
     "output_type": "stream",
     "text": [
      "Special attention will be paid to tapping the potential of mobile technology for delivering services including for financial payments.\n"
     ]
    },
    {
     "name": "stdout",
     "output_type": "stream",
     "text": [
      "5.9.1  Current Situation\n\nSince the launch of television and internet on 2 June 1999 and cellular mobile on 11 November 2003, ICT and media sector has made significant progress.\n"
     ]
    },
    {
     "name": "stdout",
     "output_type": "stream",
     "text": [
      "The key indicators of the ICT and Media sector are as follows:\n\nPolicy: Bhutan Information, Communication and Media Act (BICMA) 2006 provide the overall legal framework for the development of ICT and media sector.\n"
     ]
    },
    {
     "name": "stdout",
     "output_type": "stream",
     "text": [
      "The Act is being revised to incorporate provisions on cyber security, data protection, privacy, broadcasting etc.\n"
     ]
    },
    {
     "name": "stdout",
     "output_type": "stream",
     "text": [
      "Further, the e-Gov Master Plan, Telecom & Broadband Policy, Media Policy, Film Policy and Advertisement Policy have been drafted and will be submitted to the government for approval in the Eleventh Plan.\n"
     ]
    },
    {
     "name": "stdout",
     "output_type": "stream",
     "text": [
      "The Second International Gateway has been established at Gelephu and operationalized to create the required redundancy.\n"
     ]
    },
    {
     "name": "stdout",
     "output_type": "stream",
     "text": [
      "Direct high bandwidth connectivity to India, Nepal and Bangladesh is being established under SASEC Information Highway Project.\n"
     ]
    },
    {
     "name": "stdout",
     "output_type": "stream",
     "text": [
      "More than 90 Government organizations are connected through the Thimphu Wide Area Network (TWAN).\n"
     ]
    },
    {
     "name": "stdout",
     "output_type": "stream",
     "text": [
      "Of the 182 Community Centres (CCs) that have been established, Telecommunications - All 205 Gewogs have access to mobile services and the remaining 10 villages will be connected by mobile services by the end of 2013.\n"
     ]
    },
    {
     "name": "stdout",
     "output_type": "stream",
     "text": [
      "B-Mobile, a subsidiary of Bhutan Telecom Limited (BTL), and Tashi-Cell, a subsidiary of Tashi InfoComm Limited (TICL), are currently the two service providers offering mobile services with BTL being the sole provider of fixed-line telecommunication in the country.\n"
     ]
    },
    {
     "name": "stdout",
     "output_type": "stream",
     "text": [
      "e-Service Delivery - In the area of e-Services, a Government-to-Citizen (G2C) initiative is underway to implement 136 e-Services.\n"
     ]
    },
    {
     "name": "stdout",
     "output_type": "stream",
     "text": [
      "The high difference in tariff levels could negate Bhutan's comparative advantage of political stability, clean environment and availability of cheap and reliable power.\n"
     ]
    },
    {
     "name": "stdout",
     "output_type": "stream",
     "text": [
      "The tariff structure will be reviewed to make it more competitive and affordable.\n"
     ]
    },
    {
     "name": "stdout",
     "output_type": "stream",
     "text": [
      "International redundancy: International redundancy is defined as direct telecom infrastructural links with multiple countries.\n"
     ]
    },
    {
     "name": "stdout",
     "output_type": "stream",
     "text": [
      "At present, all telecom links to the outside world are routed through Siliguri, India.\n"
     ]
    },
    {
     "name": "stdout",
     "output_type": "stream",
     "text": [
      "Any operational failure in the telecom link through Siliguri could lead to connectivity problems.\n"
     ]
    },
    {
     "name": "stdout",
     "output_type": "stream",
     "text": [
      "An alternate telecom link with the outside world is necessary for international redundancy without which it may be difficult to position Bhutan as a potential hub for ICT and ICT enabled services.\n"
     ]
    },
    {
     "name": "stdout",
     "output_type": "stream",
     "text": [
      "Talent Pool - the strength of the ICT sector is primarily determined by availability of a rich pool of competent information and communications professionals.\n"
     ]
    },
    {
     "name": "stdout",
     "output_type": "stream",
     "text": [
      "Creating a talent pool and strengthening ICT human resource management through parenting, clear career advancement opportunities and effective deployment and utilization of ICT personnel will be a priority.\n"
     ]
    },
    {
     "name": "stdout",
     "output_type": "stream",
     "text": [
      "5.9.3  Sector Key Result Areas\n\n5.9.4  Strategies\n\nWhile implementation of e-Gov Master Plan, capacity building and ICT infrastructure expansion will be the main strategy for ICT sector, the following will be pursued to address the issues and challenges confronting the ICT sector:\n\n•\tReview of telecommunication tariff to ensure affordability and competitiveness.\n"
     ]
    },
    {
     "name": "stdout",
     "output_type": "stream",
     "text": [
      "•\tCreate talent pool and strengthen ICT human resource management through parenting, clear career advancement opportunities and effective deployment and utilization of ICT personnel.\n"
     ]
    },
    {
     "name": "stdout",
     "output_type": "stream",
     "text": [
      "5.9.5  Key Programmes\n\n•\tICT for good governance and socio economic development - the focus will be on consolidating the e-governance projects, digital migration, establishing a whole of government data centre, and further improving the nationwide intranet system (TWAN & DLANs) for smooth and seamless functioning of many of our e-government services.\n"
     ]
    },
    {
     "name": "stdout",
     "output_type": "stream",
     "text": [
      "The surface transport is regulated by the Road Safety & Transport Act 1999 and air transport by theCivil Aviation Act 2000.\n"
     ]
    },
    {
     "name": "stdout",
     "output_type": "stream",
     "text": [
      "The main thrust of the transport sector in the Eleventh Plan will be to ensure safe, efficient and reliable transport services.\n"
     ]
    },
    {
     "name": "stdout",
     "output_type": "stream",
     "text": [
      "The focus of surface transport activities will be the implementation of the Bhutan Transport Strategies 2040.\n"
     ]
    },
    {
     "name": "stdout",
     "output_type": "stream",
     "text": [
      "The primary objective of Bhutan Transport Strategy is to address the issue of growing traffic congestion particularly in Thimphu and Phuentsholing and improve access to reliable and safe public transport to all parts of the country.\n"
     ]
    },
    {
     "name": "stdout",
     "output_type": "stream",
     "text": [
      "Also, emphasis will be placed on making our roads safer through extensive advocacy and education programmes.\n"
     ]
    },
    {
     "name": "stdout",
     "output_type": "stream",
     "text": [
      "Air Transport activities will focus on expansion of facilities at Paro International Airport, enhance safety and regulatory system and upgradation of three domestic airports including the feasibility and construction of Short Take-Off and Landing (STOL) airstrips.\n"
     ]
    },
    {
     "name": "stdout",
     "output_type": "stream",
     "text": [
      "5.10.1 Current Situation\n\nSurface Transport - Surface transport is the main means of passengers and good transportation.\n"
     ]
    },
    {
     "name": "stdout",
     "output_type": "stream",
     "text": [
      "The services were provided by the government till it was fully privatized in 1991.\n"
     ]
    },
    {
     "name": "stdout",
     "output_type": "stream",
     "text": [
      "Today there are 21 operators managing a fleet of more than 209 buses operating on more than 73 routes47.\n"
     ]
    },
    {
     "name": "stdout",
     "output_type": "stream",
     "text": [
      "The transport operators are provided interest subsidy of 60 percent on the loan as an incentive for operating in economically unviable routes.\n"
     ]
    },
    {
     "name": "stdout",
     "output_type": "stream",
     "text": [
      "To address urban transportation needs, a study on Bhutan Urban Transport Systems to assess the feasibility of introducing eco-friendly mass urban transport system using clean fuel for Thimphu and Phuentsholing has been completed.\n"
     ]
    },
    {
     "name": "stdout",
     "output_type": "stream",
     "text": [
      "The study recommends Bus Rapid Transit (BRT), high capacity buses (60 seats) which meet European emission standards, for Thimphu to be implemented under Public Private Partnership model.\n"
     ]
    },
    {
     "name": "stdout",
     "output_type": "stream",
     "text": [
      "To enhance public service delivery, the web-based Registration and Licensing Information System (e-RaLIS) services were launched reducing the turnaround time for issuance of new driving licenses and renewals significantly.\n"
     ]
    },
    {
     "name": "stdout",
     "output_type": "stream",
     "text": [
      "Currently, Bhutan has signed Air Service Agreement (ASA) with India, Nepal, Bangladesh, Thailand, Myanmar, Maldives and Singapore.\n"
     ]
    },
    {
     "name": "stdout",
     "output_type": "stream",
     "text": [
      "Signing of ASA with the remaining SAARC countries (Pakistan, Afghanistan and Sri Lanka) have also been initiated with a larger plan to air-link all SAARC capitals.\n"
     ]
    },
    {
     "name": "stdout",
     "output_type": "stream",
     "text": [
      "Similarly, ASA with South East Asian nations such as South Korea, Vietnam, Laos, Malaysia, Cambodia and Hong-Kong are being explored.\n"
     ]
    },
    {
     "name": "stdout",
     "output_type": "stream",
     "text": [
      "However, the services to Yonphula has been suspended till 2014 to complete major development works and only chartered services are available to Gelephu.\n"
     ]
    },
    {
     "name": "stdout",
     "output_type": "stream",
     "text": [
      "5.10.2 Key Challenges\n\nSurface transport - Road safety is a major issue with number of vehicles increasing every year.\n"
     ]
    },
    {
     "name": "stdout",
     "output_type": "stream",
     "text": [
      "Over the last five years the number of vehicles has almost doubled with 90 percent of vehicles registered under Thimphu and Phuentsholing regions.\n"
     ]
    },
    {
     "name": "stdout",
     "output_type": "stream",
     "text": [
      "With increase in number of vehicles, the number of motor vehicles accidents has also been on the rise with figures increasing from 696 in 200548 to 1,730 in 2011.\n"
     ]
    },
    {
     "name": "stdout",
     "output_type": "stream",
     "text": [
      "Thimphu and Chukha Dzongkhags tops the accident list with light vehicles leading the category of vehicles involved in accidents.\n"
     ]
    },
    {
     "name": "stdout",
     "output_type": "stream",
     "text": [
      "Moreover, since the transport functions are carried out by number of agencies\n- highway construction and maintenance by the Department of Roads, urban roads by Thromde, traffic management by the Royal Bhutan Police, licensing/ vehicle fitness by the Road Safety Transport Authority - issues of coordination and implementation is a challenge.\n"
     ]
    },
    {
     "name": "stdout",
     "output_type": "stream",
     "text": [
      "Air transport - Air travel is the most efficient means of travel to and from Bhutan, particularly for tourists, business travelers, foreign investors and medical referrals patients, the alternate being travel by road through India.\n"
     ]
    },
    {
     "name": "stdout",
     "output_type": "stream",
     "text": [
      "At present, Paro International Airport caters to 160,000 passengers annually, an average of 450 passengers per day, 3800 scheduled flights annually, and about 10 flights daily in and out of Paro.\n"
     ]
    },
    {
     "name": "stdout",
     "output_type": "stream",
     "text": [
      "A key issue is the capacity of Paro airport to serve double the number of passengers, flights and air cargo in the Eleventh Plan.\n"
     ]
    },
    {
     "name": "stdout",
     "output_type": "stream",
     "text": [
      "With the expansion of aviation sector, the Department of Civil Aviation is confronted with a key challenge of retaining its professionals who are being offered better remuneration and service conditions by the airline companies.\n"
     ]
    },
    {
     "name": "stdout",
     "output_type": "stream",
     "text": [
      "Further, conflicting functions of regulation and implementation being carried out by the department is creating potential for conflict of interest.\n"
     ]
    },
    {
     "name": "stdout",
     "output_type": "stream",
     "text": [
      "5.10.4 Strategies\n\nThe surface transport is regulated by the Road Safety & Transport Act 1999 and air transport by the Civil Aviation Act 2000.\n"
     ]
    },
    {
     "name": "stdout",
     "output_type": "stream",
     "text": [
      "Since both Acts were legislated more than a decade ago they will be reviewed and revised during the current Plan period.\n"
     ]
    },
    {
     "name": "stdout",
     "output_type": "stream",
     "text": [
      "Surface Transport - Access to public transportation, particularly in rural areas, will be expanded by incentivizing transport operators through special subsidies.\n"
     ]
    },
    {
     "name": "stdout",
     "output_type": "stream",
     "text": [
      "In urban areas, eco-friendly mass public transportation services will be introduced to reduce road congestion, vehicle emissions and improve public service efficiency.\n"
     ]
    },
    {
     "name": "stdout",
     "output_type": "stream",
     "text": [
      "Road safety will be strengthened by improving driver licensing procedures, motor vehicle fitness standards, public safety awareness campaigns (especially on drink driving and over-speeding) and equipping road safety authorities with necessary equipments and tools to monitor road safety.\n"
     ]
    },
    {
     "name": "stdout",
     "output_type": "stream",
     "text": [
      "To address the issue of coordination and implementation, integration and streamlining of transport activities under one agency will be explored.\n"
     ]
    },
    {
     "name": "stdout",
     "output_type": "stream",
     "text": [
      "Air Transport - The key strategy will be to strengthen Paro International Airport through expansion of infrastructure facilities and upgradation of security and navigational equipment to increase its capacity to handle more passengers, cargo and flights.\n"
     ]
    },
    {
     "name": "stdout",
     "output_type": "stream",
     "text": [
      "At the same time, upgradation of Gelephu to an international airport will also be explored.\n"
     ]
    },
    {
     "name": "stdout",
     "output_type": "stream",
     "text": [
      "Bhutan will continue to pursue further signing of Air Service Agreements to expand air services to and from international destinations.\n"
     ]
    },
    {
     "name": "stdout",
     "output_type": "stream",
     "text": [
      "The retention of professionals will be addressed through a comprehensive review of civil service system and conflicting functions will be addressed by exploring ways to ensure greater independence and autonomy of the Department of Civil Aviation.\n"
     ]
    },
    {
     "name": "stdout",
     "output_type": "stream",
     "text": [
      "Alternate modes of transport - To ease the pressure on air and surface transport, alternate modes of transporting passengers and goods will be explored such as waterway, ropeway, cable cars and railway links.\n"
     ]
    },
    {
     "name": "stdout",
     "output_type": "stream",
     "text": [
      "5.10.5 Key Programmes\n\n•\tSurface Transport Development - the programme will focus on the implementation of Bhutan Transport Strategies 2040, and in particular address the issues of traffic congestion in the major Thromdes by setting up the Bus Rapid Transport systems in Thimphu and Phuentsholing.\n"
     ]
    },
    {
     "name": "stdout",
     "output_type": "stream",
     "text": [
      "•\tDevelopment of Air Transport - the programme will focus on further expansion of the Paro International Airport to deal with the expansion in air traffic and passengers, as well as strengthen the domestic airports to optimize their functionality.\n"
     ]
    },
    {
     "name": "stdout",
     "output_type": "stream",
     "text": [
      "*****\n\n5.11  Roads & Bridges Sector\n\nFor a landlocked country, a good network of road and bridges play a critical role in facilitating trade, transit, reducing the high cost of transportation normally associated with mountainous countries and for delivery of socio-economic services particularly to scattered and far-off rural communities.\n"
     ]
    },
    {
     "name": "stdout",
     "output_type": "stream",
     "text": [
      "Recognizing the importance of the roads and bridges sector, Bhutan started its first Five Year Plan in 1961 with the construction of the first national highway - Phuentsholing-Thimphu highway.\n"
     ]
    },
    {
     "name": "stdout",
     "output_type": "stream",
     "text": [
      "Since then the network of roads and bridges have expanded significantly and today all twenty Dzongkhags are connected by road.\n"
     ]
    },
    {
     "name": "stdout",
     "output_type": "stream",
     "text": [
      "The Department of Roads is the national authority responsible for all roads in the country.\n"
     ]
    },
    {
     "name": "stdout",
     "output_type": "stream",
     "text": [
      "For roads in a Thromde, the Thromde Administration is responsible for the administration and management of all roads, constructed or maintained by it, including any access roads.\n"
     ]
    },
    {
     "name": "stdout",
     "output_type": "stream",
     "text": [
      "Similarly, for roads in the Dzongkhag and Gewog, the Dzongkhag administration is responsible for the administration and management of all roads constructed or maintained by it, including access roads.\n"
     ]
    },
    {
     "name": "stdout",
     "output_type": "stream",
     "text": [
      "For farm roads technical specification, guidelines and manuals are provided by the Ministry of Agriculture and Forest.\n"
     ]
    },
    {
     "name": "stdout",
     "output_type": "stream",
     "text": [
      "The main thrust of the roads and bridges sector in the Eleventh Plan will be to complete the national highway grid using environment friendly technology, construction and upgradation of roads connecting to hydro-power projects and to enhance the safety, reliability and quality of roads.\n"
     ]
    },
    {
     "name": "stdout",
     "output_type": "stream",
     "text": [
      "5.11.1 Current Situation\n\nBhutan's road transportation network is classified into five categories as follows:\n\n•\tNational Highways - consisting of Asian Highway/International Road (currently Phuentsholing-Thimphu Highway), Primary National Highway (existing East-West Highway and North-South highways) and Secondary National Highway (currently District Roads);\n\n•\tDzongkhag Roads (currently feeder Roads);\n\n•\tFarm Roads (currently Farm Roads and Power Tiller Roads);\n\n•\tThromde Roads (currently Urban Roads); and\n\n•\tAccess Roads.\n"
     ]
    },
    {
     "name": "stdout",
     "output_type": "stream",
     "text": [
      "Currently, Bhutan has 10,578.26 kilometers of various categories of roads, 337 numbers of bridges totaling 10,604.5 meters and 380 pedestrian bridges nationwide.\n"
     ]
    },
    {
     "name": "stdout",
     "output_type": "stream",
     "text": [
      "5.11.2 Key Challenges\n\nMost of the existing primary and secondary national highways, including the Northern East-West highway, were constructed in the 1960s and 1970s when the traffic volume was low with the primary objective of providing connectivity to settlements.\n"
     ]
    },
    {
     "name": "stdout",
     "output_type": "stream",
     "text": [
      "The ADB's Country Diagnostic Study 2012 estimates that while the density of road has doubled from about 1.5 km/km² in 2005 to 3 km/km² in 2011, the percentage of paved roads have decreased from about 55 percent to about 35 percent during the same period.\n"
     ]
    },
    {
     "name": "stdout",
     "output_type": "stream",
     "text": [
      "5.11.3 Sector Key Result Areas\n\n5.11.4 Strategies\n\nInstitutional and human resource development will be one key strategy to strengthen the capacity of road sector to plan, design, build and maintain road network.\n"
     ]
    },
    {
     "name": "stdout",
     "output_type": "stream",
     "text": [
      "To reduce travel time and costs and to enhance road safety, road specifications and standards will be improved and geometric improvements and regular maintenance of road will be carried out.\n"
     ]
    },
    {
     "name": "stdout",
     "output_type": "stream",
     "text": [
      "The government will also explore possibilities of tunneling certain stretches of the highways through PPP wherever feasible.\n"
     ]
    },
    {
     "name": "stdout",
     "output_type": "stream",
     "text": [
      "The involvement of the private sector in the maintenance of roads will also be explored in order to ensure financial sustainability.\n"
     ]
    },
    {
     "name": "stdout",
     "output_type": "stream",
     "text": [
      "On completion of these roads, there will be 7 North-South highways helping to strengthen the road network and facilitate easy movement of goods and services to the Southern borders.\n"
     ]
    },
    {
     "name": "stdout",
     "output_type": "stream",
     "text": [
      "•\tConstruction and Upgradation/Improvement of roads connecting hydro power projects: The construction of Mandelpong-Digala, Riphay - Koshala and Tingtibi-Praling will be completed.\n"
     ]
    },
    {
     "name": "stdout",
     "output_type": "stream",
     "text": [
      "*****\n\n5.12  Construction Sector\n\nThe construction sector plays a vital role in the delivery of quality infrastructure which is essential for our socio-economic development.\n"
     ]
    },
    {
     "name": "stdout",
     "output_type": "stream",
     "text": [
      "It is also a key sector in terms of its contribution to economic growth and employment.\n"
     ]
    },
    {
     "name": "stdout",
     "output_type": "stream",
     "text": [
      "The key agencies responsible for the development of construction sector are:\n\nDepartment of Engineering Services (DES): DES was created in 2011 by bifurcating the erstwhile Department of Urban Development and Engineering Services (DUDES) into Department of Engineering Services (DES) and Department of Human Settlement (DHS).\n"
     ]
    },
    {
     "name": "stdout",
     "output_type": "stream",
     "text": [
      "Construction Development Board (CDB): CDB is a bridge between the government and the construction industry and is responsible for facilitating development of a vibrant construction industry.\n"
     ]
    },
    {
     "name": "stdout",
     "output_type": "stream",
     "text": [
      "Construction Development Corporation Limited (CDCL): CDCL was established on 1st July 2006 as a public sector company owned by the Royal Government of Bhutan with the following objectives:\n\n•\tEnhance efficiency, mechanization, improve standards and create a good benchmark of quality infrastructure in the construction sector.\n"
     ]
    },
    {
     "name": "stdout",
     "output_type": "stream",
     "text": [
      "•\tLead the modernization of the construction industry through the introduction of appropriate machineries and technologies, including the maintenance of an equipment bank of machines not easily available in the market to support the government and the private sector.\n"
     ]
    },
    {
     "name": "stdout",
     "output_type": "stream",
     "text": [
      "•\tParticipate in the booming construction industry, introducing technology intensive construction and building capacity of local construction industry through collaborations.\n"
     ]
    },
    {
     "name": "stdout",
     "output_type": "stream",
     "text": [
      "•\tGenerate employment and at the same time develop necessary skills for skilled and unskilled national manpower, thereby gradually reducing dependence on the expatriate work force.\n"
     ]
    },
    {
     "name": "stdout",
     "output_type": "stream",
     "text": [
      "The private sector is represented by the Construction Association of Bhutan under the Bhutan Chamber of Commerce and Industries (BCCI).\n"
     ]
    },
    {
     "name": "stdout",
     "output_type": "stream",
     "text": [
      "Its membership includes all firms under the construction industry.\n"
     ]
    },
    {
     "name": "stdout",
     "output_type": "stream",
     "text": [
      "The sector has come a long way with establishment of various agencies and introduction of many new initiatives towards making the sector more efficient and effective.\n"
     ]
    },
    {
     "name": "stdout",
     "output_type": "stream",
     "text": [
      "However, poor quality of construction, human resource constraints and high construction costs continue to affect the sector.\n"
     ]
    },
    {
     "name": "stdout",
     "output_type": "stream",
     "text": [
      "The main thrust in the Eleventh Plan will, therefore, be on enhancing the quality of construction through efficient and appropriate technology, mechanization and human resource development.\n"
     ]
    },
    {
     "name": "stdout",
     "output_type": "stream",
     "text": [
      "5.12.1 Current Situation\n\nThe construction sector contributed about 16 percent of nominal GDP and recorded an annual growth of 35 percent in 2011.\n"
     ]
    },
    {
     "name": "stdout",
     "output_type": "stream",
     "text": [
      "The sector's contribution is expected to increase in the coming years with accelerated development of hydro-power projects.\n"
     ]
    },
    {
     "name": "stdout",
     "output_type": "stream",
     "text": [
      "In terms of employment less than 5,00049 Bhutanese were employed by the construction sector in 2012.\n"
     ]
    },
    {
     "name": "stdout",
     "output_type": "stream",
     "text": [
      "About 127 Bhutanese contractors, in various categories, are engaged in the construction of three ongoing hydropower projects.\n"
     ]
    },
    {
     "name": "stdout",
     "output_type": "stream",
     "text": [
      "Besides construction companies, there are about 63 architects and 46 construction related consultants in Bhutan.\n"
     ]
    },
    {
     "name": "stdout",
     "output_type": "stream",
     "text": [
      "5.12.2 Key Challenges\n\nConstruction sector perceived poorly for employment: With three new hydropower projects under construction and seven new projects planned to be started in the Eleventh Plan, there are ample opportunities for addressing unemployment.\n"
     ]
    },
    {
     "name": "stdout",
     "output_type": "stream",
     "text": [
      "However, construction sector jobs are perceived as inferior by many Bhutanese and as a result foreign workers51 are brought in to fill the gap.\n"
     ]
    },
    {
     "name": "stdout",
     "output_type": "stream",
     "text": [
      "Some of the reasons for this perception are low wages, lack of job security (workers have to find a new job once the construction project is completed), low level of mechanization and the manual nature of work.\n"
     ]
    },
    {
     "name": "stdout",
     "output_type": "stream",
     "text": [
      "Limited capacity and poor quality: The shortage of engineers, architect and other qualified professionals combined with a lack of basic tools and technology for effective planning, designing and supervision results in frequent changes in the scope of work and consequently the cost of construction projects.\n"
     ]
    },
    {
     "name": "stdout",
     "output_type": "stream",
     "text": [
      "It is estimated that Bhutanese construction projects are 15-20 percent more costly and take 50 percent longer to complete compared to similar construction work by Indian contractors on similar projects.\n"
     ]
    },
    {
     "name": "stdout",
     "output_type": "stream",
     "text": [
      "90 percent of all construction projects in Bhutan have time and cost overruns as compared to 40 percent in India and 5 percent in best-in-class countries52.\n"
     ]
    },
    {
     "name": "stdout",
     "output_type": "stream",
     "text": [
      "Further, due to poor quality of construction, the cost of maintenance is expected to be double the industry standard.\n"
     ]
    },
    {
     "name": "stdout",
     "output_type": "stream",
     "text": [
      "5.12.3 Sector Key Result Areas\n\n5.12.4 Strategies\n\nTraining and capacity building of engineers, architects and other professionals in the construction sector will receive high priority in the Eleventh Plan's Human Resource Development Master-plan.\n"
     ]
    },
    {
     "name": "stdout",
     "output_type": "stream",
     "text": [
      "Mechanization of construction sector, use of local construction materials, centrally fixed rate contracts for some key materials (like cement, steel, bitumen etc.)\n"
     ]
    },
    {
     "name": "stdout",
     "output_type": "stream",
     "text": [
      "will be pursued in order to avail institutional-buyer-discounts to reduce the cost of construction.\n"
     ]
    },
    {
     "name": "stdout",
     "output_type": "stream",
     "text": [
      "To encourage youth to work in the construction sector special service conditions such as job security and better wages will be explored.\n"
     ]
    },
    {
     "name": "stdout",
     "output_type": "stream",
     "text": [
      "Vocational training programmes will be aligned to the needs of construction industry and will include apprenticeships and on-the-job trainings.\n"
     ]
    },
    {
     "name": "stdout",
     "output_type": "stream",
     "text": [
      "Vocational training graduates will be encouraged to form their own construction firms and the government will provide necessary support for start-ups.\n"
     ]
    },
    {
     "name": "stdout",
     "output_type": "stream",
     "text": [
      "5.12.5 Key programmes\n\n•\tPromotion and Strengthening of Construction Sector: The Construction Development Board (CDB) will concentrate on promoting efficient and quality based construction sector.\n"
     ]
    },
    {
     "name": "stdout",
     "output_type": "stream",
     "text": [
      "The benefits of creating an autonomous Construction Development Authority (CDA) to be able to discharge its roles and responsibilities efficiently will be explored.\n"
     ]
    },
    {
     "name": "stdout",
     "output_type": "stream",
     "text": [
      "•\tEngineering Adaptation and Disaster Risk Reduction: The major activities to be undertaken during the plan period are construction of flood protection walls and land reclamation along major flooding rivers, disaster risk assessment and mapping and development of guidelines and manuals.\n"
     ]
    },
    {
     "name": "stdout",
     "output_type": "stream",
     "text": [
      "Flood risk assessment and vulnerability mapping will also be carried out.\n"
     ]
    },
    {
     "name": "stdout",
     "output_type": "stream",
     "text": [
      "These are aimed to reduce the vulnerability of people and places to floods.\n"
     ]
    },
    {
     "name": "stdout",
     "output_type": "stream",
     "text": [
      "•\tTechnical support and management for infrastructure development and engineering services: The Department of Engineering Services will provide technical backstopping to all government agencies and Thromdes.\n"
     ]
    },
    {
     "name": "stdout",
     "output_type": "stream",
     "text": [
      "The Department of Engineering Services (DES) will also initiate the construction of bazams and maintenance and technical backstopping for the construction of trail suspension bridges.\n"
     ]
    },
    {
     "name": "stdout",
     "output_type": "stream",
     "text": [
      "*****\n\n5.13  Human Settlement & Housing Sector\n\nHuman Settlement: Until recently, the focus of this sector was mainly on urban development to meet the needs arising from the rising trends in rural-urban migration and rapid pace of urbanization, particularly in the two major towns of Thimphu and Phuentsholing.\n"
     ]
    },
    {
     "name": "stdout",
     "output_type": "stream",
     "text": [
      "The Bhutan National Urbanization Strategy 2008 estimates that the average annual growth of urban population in Bhutan during 2000-2005 was 7.3 percent, with Thimphu city experiencing the highest growth at 12.6 percent.\n"
     ]
    },
    {
     "name": "stdout",
     "output_type": "stream",
     "text": [
      "This rapid growth in urban population has created severe pressure on existing facilities leading to problems of water shortages, lack of sanitation and waste disposal facilities etc.\n"
     ]
    },
    {
     "name": "stdout",
     "output_type": "stream",
     "text": [
      "To address these problems, a number of urban development programmes, particularly in Thimphu and Phuentsholing, have been implemented over the last decade.\n"
     ]
    },
    {
     "name": "stdout",
     "output_type": "stream",
     "text": [
      "However, in spite of major infrastructure expansion, the rural-urban migration trend continues and urban centres continue to face difficulties in provision of urban services.\n"
     ]
    },
    {
     "name": "stdout",
     "output_type": "stream",
     "text": [
      "Further, expansion of the existing services is also constrained by limited land availability in urban areas.\n"
     ]
    },
    {
     "name": "stdout",
     "output_type": "stream",
     "text": [
      "In the meantime, large scale unplanned developments near urban areas are taking place.\n"
     ]
    },
    {
     "name": "stdout",
     "output_type": "stream",
     "text": [
      "In order to address the issues of rapid urbanization and unplanned development a new Department of Human Settlement (DHS) was created by bifurcating the erstwhile Department of Urban Development and Engineering Services into two separate departments in 2011.\n"
     ]
    },
    {
     "name": "stdout",
     "output_type": "stream",
     "text": [
      "The Department of Human Settlement is responsible for preparation of human settlement policies, strategies and plans.\n"
     ]
    },
    {
     "name": "stdout",
     "output_type": "stream",
     "text": [
      "The main thrust of the human settlement sector will be to develop strategic human settlements with a focus on balanced regional development and improving the quality of life and socio economic status of both urban and rural residents.\n"
     ]
    },
    {
     "name": "stdout",
     "output_type": "stream",
     "text": [
      "Housing: The National Housing Development Corporation Limited (NHDCL) was established on 15 July 2003 to promote and develop housing in Bhutan in line with the National Housing Policy 2002.\n"
     ]
    },
    {
     "name": "stdout",
     "output_type": "stream",
     "text": [
      "5.13.1 Current Situation\n\nHuman Settlement: - Till recently, priority was accorded to planning and development of urban centres and not on human settlements.\n"
     ]
    },
    {
     "name": "stdout",
     "output_type": "stream",
     "text": [
      "However, the emergence of unplanned settlements near the urban areas is constraining urban expansions and provision of service facilities.\n"
     ]
    },
    {
     "name": "stdout",
     "output_type": "stream",
     "text": [
      "Therefore, DHS was mandated to develop settlement plans that take into consideration the planning of an entire region.\n"
     ]
    },
    {
     "name": "stdout",
     "output_type": "stream",
     "text": [
      "As of now, comprehensive human settlement plans do not exist, other than structural and local area plans for settlements classified as i) Class A Thromdes - Thimphu, Phuentsholing, Gelephu and Samdrup Jongkhar; ii) Class B Thromdes - Dzongkhag centre; and iii) Yenlag Throm.\n"
     ]
    },
    {
     "name": "stdout",
     "output_type": "stream",
     "text": [
      "The criteria for various categories of towns are as follows:\n\nClass A Thromdes should have a resident population of more than 10,000 with population density of 1,000 persons or more per square kilometers.\n"
     ]
    },
    {
     "name": "stdout",
     "output_type": "stream",
     "text": [
      "The area should not be less than 5 square kilometers and should have revenue base sufficient to finance the establishment and maintenance of infrastructure and provision of services.\n"
     ]
    },
    {
     "name": "stdout",
     "output_type": "stream",
     "text": [
      "It should have a national administrative significance such as being the capital city or a town that services more than one Dzongkhag.\n"
     ]
    },
    {
     "name": "stdout",
     "output_type": "stream",
     "text": [
      "Class B Thomdes should have a resident population of more than 5000 with population density of 300 persons or more per square kilometers.\n"
     ]
    },
    {
     "name": "stdout",
     "output_type": "stream",
     "text": [
      "It should have significant commercial, industrial or institutional centre and at least 50 percent of the population dependent on non-primary activities.\n"
     ]
    },
    {
     "name": "stdout",
     "output_type": "stream",
     "text": [
      "Yenlag Throm should have a resident population of more than 1500 and area not less than 50 acres.\n"
     ]
    },
    {
     "name": "stdout",
     "output_type": "stream",
     "text": [
      "In 2010, the Parliament approved four Class A Thromdes and 18 Class B Thromdes.\n"
     ]
    },
    {
     "name": "stdout",
     "output_type": "stream",
     "text": [
      "Currently, there are 1,122 housing units across the country for rental and 32 apartments in Changjiji allotted under homeownership programme to low income groups.\n"
     ]
    },
    {
     "name": "stdout",
     "output_type": "stream",
     "text": [
      "BLSS 2012 reports that 85 percent of the households in the rural areas lived in houses whereas almost three-fourths of urban households (73 percent) lived either in part of a house or in an apartment.\n"
     ]
    },
    {
     "name": "stdout",
     "output_type": "stream",
     "text": [
      "It also indicates that about 60 percent of the household owned their own dwellings, out of which 83 percent households were in rural areas and 17 percent in urban areas.\n"
     ]
    },
    {
     "name": "stdout",
     "output_type": "stream",
     "text": [
      "62 percent of households in urban areas rented their dwellings.\n"
     ]
    },
    {
     "name": "stdout",
     "output_type": "stream",
     "text": [
      "The private sector is the largest provider of dwellings for rent, especially in the urban areas, where its rentals comprise 43 percent of dwellings.\n"
     ]
    },
    {
     "name": "stdout",
     "output_type": "stream",
     "text": [
      "About one-fifth of urban dwellings are owned by the government and public corporations.\n"
     ]
    },
    {
     "name": "stdout",
     "output_type": "stream",
     "text": [
      "Among the Dzongkhags, Pemagatshel had the highest proportion of households that own their dwellings (91 percent) and Thimphu the lowest with 19 percent.\n"
     ]
    },
    {
     "name": "stdout",
     "output_type": "stream",
     "text": [
      "The proportion of households that own their dwellings is below 60 percent in only three other Dzongkhags: Chhukha (43 percent), Sarpang (52 percent), and Paro (58 percent).\n"
     ]
    },
    {
     "name": "stdout",
     "output_type": "stream",
     "text": [
      "In Thimphu, three-fifths of households rent and one-fifth live in rent-free dwellings; 80 percent of the rent-paying households live in dwellings owned by private individuals; and 18 percent live in housing owned by the government and public corporations.\n"
     ]
    },
    {
     "name": "stdout",
     "output_type": "stream",
     "text": [
      "Households in the poorest per capita consumption quintile paid a house rent of Nu 1,217 a month, on average, while the richest households pay about Nu 4,487.\n"
     ]
    },
    {
     "name": "stdout",
     "output_type": "stream",
     "text": [
      "5.13.2 Key Challenges\n\nHuman Settlement - In absence of a clear legislation such as the National Spatial Planning Act and the National Human Settlement Policy it is difficult to plan, coordinate and implement human settlement strategy.\n"
     ]
    },
    {
     "name": "stdout",
     "output_type": "stream",
     "text": [
      "While the department has urban planners, urban designers, architects, infrastructure planner and engineers, the numbers are not adequate.\n"
     ]
    },
    {
     "name": "stdout",
     "output_type": "stream",
     "text": [
      "Moreover, lack of qualified and experienced GIS professionals, municipal engineers, urban economists, sociologists, planning lawyers, investment planners and environmentalists limit the sector to address complex urban issues.\n"
     ]
    },
    {
     "name": "stdout",
     "output_type": "stream",
     "text": [
      "Further, other issues such as timely availability of land, resources to implement structural and local area plans and resistance to introduction of new/revision of taxes, hamper strategic human settlement development.\n"
     ]
    },
    {
     "name": "stdout",
     "output_type": "stream",
     "text": [
      "A decade after its establishment not much progress has been made considering the present housing stock of 1,122 units which includes units/bungalows constructed in 1970s and 1980s.\n"
     ]
    },
    {
     "name": "stdout",
     "output_type": "stream",
     "text": [
      "As a result, many Bhutanese in Phuentsholing are forced to live across the border and in places like Gasa and Lhuentshe civil servants are living in temporary makeshift houses due to lack of proper housing.\n"
     ]
    },
    {
     "name": "stdout",
     "output_type": "stream",
     "text": [
      "The challenge is not only in terms of increasing the housing stock but also making it affordable particularly for the low and middle income group.\n"
     ]
    },
    {
     "name": "stdout",
     "output_type": "stream",
     "text": [
      "The high cost of financing and raw materials makes construction expensive resulting in higher rents.\n"
     ]
    },
    {
     "name": "stdout",
     "output_type": "stream",
     "text": [
      "NHDC's assessment indicate that low income people spend about 50-60 percent of their income on house rent in Thimphu and Phuentsholing against an ideal proportion of 30 percent of income.\n"
     ]
    },
    {
     "name": "stdout",
     "output_type": "stream",
     "text": [
      "5.13.3 Sector Key Result Areas\n\n5.13.4 Strategies\n\nHuman Settlement - To ensure sustainable development of human settlements, new legislation and policies will be formulated and existing rules and regulations reviewed and improved.\n"
     ]
    },
    {
     "name": "stdout",
     "output_type": "stream",
     "text": [
      "Development of valley plans, regional hub plans and rural urban development plans will be accelerated in order to contain the rural urban migration.\n"
     ]
    },
    {
     "name": "stdout",
     "output_type": "stream",
     "text": [
      "Housing: NHDC will explore new technologies and design innovation to reduce the cost of construction while ensuring high quality.\n"
     ]
    },
    {
     "name": "stdout",
     "output_type": "stream",
     "text": [
      "Over the next five years, about 800 new units of low income housing for rental will be constructed across the country.\n"
     ]
    },
    {
     "name": "stdout",
     "output_type": "stream",
     "text": [
      "To promote homeownership, about 100 units will be constructed which will be allotted to low income civil servants based on modalities such as direct purchase, lease, and purchase and installment payment basis depending on the purchasing capacity of the beneficiaries.\n"
     ]
    },
    {
     "name": "stdout",
     "output_type": "stream",
     "text": [
      "Given the limited resources of the government, partnership with private sector for the provision of low-cost housing will also be explored.\n"
     ]
    },
    {
     "name": "stdout",
     "output_type": "stream",
     "text": [
      "5.13.5 Key Programmes\n\n•\tEnhancing human settlement in Bhutan: The development of settlement has been accorded high priority in past plans but the efforts were mostly concentrated in urban areas.\n"
     ]
    },
    {
     "name": "stdout",
     "output_type": "stream",
     "text": [
      "With the creation of the Department of Human Settlement (DHS), focus will be accorded equally to both urban and rural settlements.\n"
     ]
    },
    {
     "name": "stdout",
     "output_type": "stream",
     "text": [
      "The major activities in the Eleventh Plan are development of valley development plans, urban development plans and rural development plans.\n"
     ]
    },
    {
     "name": "stdout",
     "output_type": "stream",
     "text": [
      "•\tPromotion of affordable housing and home ownership: The NHDC will construct affordable housing particularly in Dzongkhags/towns like Thimphu, Phuentsholing, Samdrup Jongkhar, Lhuentse and Gasa where housing shortage is a major problem.\n"
     ]
    },
    {
     "name": "stdout",
     "output_type": "stream",
     "text": [
      "*****\n\n5.14  Emerging Social Challenges\n\nWith development, Bhutan is confronted with new social challenges such as those related to youth, senior citizens, single parents, orphans, differently-abled persons, domestic violence and crime.\n"
     ]
    },
    {
     "name": "stdout",
     "output_type": "stream",
     "text": [
      "The rising rural-urban migration, changing urban lifestyle and exposure to information and media are giving rise to breakdowns in family relationships, drug abuse, crime and youth related problems.\n"
     ]
    },
    {
     "name": "stdout",
     "output_type": "stream",
     "text": [
      "Many urban areas are already confronted with these challenges and for the first time the Eleventh Plan pays special attention to these issues.\n"
     ]
    },
    {
     "name": "stdout",
     "output_type": "stream",
     "text": [
      "5.14.1 Current Situation\n\nInstitutional set-up - Currently, the Ministries of Health and Education are taking the initiative to address issues related to youth, orphans, differently abled person, and senior citizen issues.\n"
     ]
    },
    {
     "name": "stdout",
     "output_type": "stream",
     "text": [
      "The other agency responsible is the National Commission for Women and Children which was established in 2004 to fulfill Bhutan's obligations towards the Convention on the Elimination of all Forms of Discrimination Against Women (CEDAW) and the Convention on the Rights of the Child (CRC).\n"
     ]
    },
    {
     "name": "stdout",
     "output_type": "stream",
     "text": [
      "The Office of Gyalpoi Zimpon has also been providing support to the underprivileged youths, orphans and senior citizens in the form of monthly stipends and rations.\n"
     ]
    },
    {
     "name": "stdout",
     "output_type": "stream",
     "text": [
      "Besides, there are a number of civil society organizations (CSO) and associations working in these areas such as:\n\n•\tYouth Development Fund, which was established as a CSO in 1999 to provide financial support for youth development activities like leadership skills, drug rehabilitation, special education, basic skills and vocational training, advocacy research and education.\n"
     ]
    },
    {
     "name": "stdout",
     "output_type": "stream",
     "text": [
      "•\tTarayana Foundation, which was established in 2003 to help the poor and disadvantaged communities become self reliant through programmes aimed at building local capacities, providing scholarships, facilitating micro-finance and housing improvement.\n"
     ]
    },
    {
     "name": "stdout",
     "output_type": "stream",
     "text": [
      "•\tRENEW (Respect, Educate, Nurture and Empower Women), which was established as a CSO in 2004 and is dedicated to the empowerment of women and girls in Bhutan, especially victims of domestic and gender based violence.\n"
     ]
    },
    {
     "name": "stdout",
     "output_type": "stream",
     "text": [
      "RENEW provides counseling, temporary and long-term shelters, legal assistance and need-based provision of vocational training in selected skills and micro-enterprises as a way of providing opportunities to help transform lives of many\t\nwomen.\n"
     ]
    },
    {
     "name": "stdout",
     "output_type": "stream",
     "text": [
      "Its main focus is to equip the trainees with vocational skills to enhance their opportunities for gainful employment.\n"
     ]
    },
    {
     "name": "stdout",
     "output_type": "stream",
     "text": [
      "It also aims to build their self-esteem and self-reliance, thereby making them more independent, confident and contributing members of the\t\nsociety.\n"
     ]
    },
    {
     "name": "stdout",
     "output_type": "stream",
     "text": [
      "•   Ability Bhutan Society, established in 2011 as a public benefit organization (PBO).\n"
     ]
    },
    {
     "name": "stdout",
     "output_type": "stream",
     "text": [
      "It provides services and facilities to address the needs of families and individuals with multiple impairments, especially children living with mental retardation, cerebral palsy, autism and multiple disabilities.\n"
     ]
    },
    {
     "name": "stdout",
     "output_type": "stream",
     "text": [
      "•   Royal Society for Senior Citizens, established as a CSO in 2011 to enhance human security especially amongst its old age citizens.\n"
     ]
    },
    {
     "name": "stdout",
     "output_type": "stream",
     "text": [
      "•   Lhak-Sam, established by a group of HIV positive people in September 2009 and registered as CSO in 2010.\n"
     ]
    },
    {
     "name": "stdout",
     "output_type": "stream",
     "text": [
      "Its main aim is to promote a strong support system based on solidarity, social networking and people's participation for addressing and taking collective action towards effective responses to HIV/ AIDS and its impact.\n"
     ]
    },
    {
     "name": "stdout",
     "output_type": "stream",
     "text": [
      "Enabling Environment - The various articles of the Constitution, in particular Article\t\n7 and 9, protect the rights of an individual, women and children and mandates\t\nthe State to take appropriate measures to eliminate all form of discrimination and\t\nexploitation.\n"
     ]
    },
    {
     "name": "stdout",
     "output_type": "stream",
     "text": [
      "Domestic laws such as Child Adoption Act 2012, Child Care and Protection Act of\t\nBhutan 2011, Narcotic Drugs, Psychotropic Substances and Substance Abuse Act 2005\t\nand Rape Act 1996 have been enacted to protect the rights and welfare of individuals.\n"
     ]
    },
    {
     "name": "stdout",
     "output_type": "stream",
     "text": [
      "At the international level, Bhutan is a signatory to the Convention on Elimination\t\nof all Forms of Discrimination Against Women (CE DAW), Convention of Rights of\t\nthe Child (CRC) and the UN Convention on the Rights of Persons with Disabilities.\n"
     ]
    },
    {
     "name": "stdout",
     "output_type": "stream",
     "text": [
      "Existing Facilities - The National Institute for the Visually Impaired established in\t\n1973 was the first institution established for special needs children.\n"
     ]
    },
    {
     "name": "stdout",
     "output_type": "stream",
     "text": [
      "Subsequently, a number of institutions/facilities have been created for differently-abled person.\n"
     ]
    },
    {
     "name": "stdout",
     "output_type": "stream",
     "text": [
      "The Ministry of Education has established Changangkha Lower Secondary School in 2001 as an integrated school providing special needs education and education for the hearing impaired was introduced in Drukgyel Lower Secondary School in 2003.\n"
     ]
    },
    {
     "name": "stdout",
     "output_type": "stream",
     "text": [
      "In addition, there are six other schools catering to the special needs education.\n"
     ]
    },
    {
     "name": "stdout",
     "output_type": "stream",
     "text": [
      "The Ministry has also introduced the Inclusive Education programme for children with Special Education Needs (SEN) and has established a division for Special Education Needs under the Department of School Education.\n"
     ]
    },
    {
     "name": "stdout",
     "output_type": "stream",
     "text": [
      "The Annual Education Statistic 2012 reports that there are about 343 students and 177 teachers in the eight special education schools.\n"
     ]
    },
    {
     "name": "stdout",
     "output_type": "stream",
     "text": [
      "RENEW provides shelter homes and safe houses for the victims of family violence and their children which operate 24 hours a day.\n"
     ]
    },
    {
     "name": "stdout",
     "output_type": "stream",
     "text": [
      "The shelter provides emergency protection, food and lodging, emergency medical care, crisis intervention and counseling.\n"
     ]
    },
    {
     "name": "stdout",
     "output_type": "stream",
     "text": [
      "and life skills such as personal management skills, sign language, safety skills, etc.\n"
     ]
    },
    {
     "name": "stdout",
     "output_type": "stream",
     "text": [
      "Youth Development Fund supports women's Nazhoen Pelri Treatment and Rehabilitation Centre for Drugs and Alcohol Dependence, located in Serbithang and a number of drop in centres for alcohol and/or drug dependent people\n\nRoyal Bhutan Police established the Youth Development and Rehabilitation Center in Tshimasham in 1999 with the aim to provide reformative training for juveniles in conflict with the law.\n"
     ]
    },
    {
     "name": "stdout",
     "output_type": "stream",
     "text": [
      "Differently-abled persons: According to the two stage child disability (aged 2-9 years) study53 carried out by NSB in 2012, the prevalence of any form disability was 21 percent.\n"
     ]
    },
    {
     "name": "stdout",
     "output_type": "stream",
     "text": [
      "The prevalence of disability was higher among the age group 2-5 years.\n"
     ]
    },
    {
     "name": "stdout",
     "output_type": "stream",
     "text": [
      "The study also revealed that 46 percent of senior citizens were cared for by families led by themselves, 23 percent were taken care of by their sons and 22 percent by daughters.\n"
     ]
    },
    {
     "name": "stdout",
     "output_type": "stream",
     "text": [
      "The largest number of senior citizens lived in the Eastern region (35433), followed by the Southern region (28697) and least lived in the Western region (11478).\n"
     ]
    },
    {
     "name": "stdout",
     "output_type": "stream",
     "text": [
      "Domestic violence - Records with RENEW indicate that cases of domestic violence are on the rise with a total of 1,141 cases reported till now in the country.\n"
     ]
    },
    {
     "name": "stdout",
     "output_type": "stream",
     "text": [
      "In the last three to four years about 300-400 cases are reported annually.\n"
     ]
    },
    {
     "name": "stdout",
     "output_type": "stream",
     "text": [
      "5.14.2 Key Challenges\n\nThere is no one overall agency within the government responsible for coordination of these emerging issues.\n"
     ]
    },
    {
     "name": "stdout",
     "output_type": "stream",
     "text": [
      "Many of the issues are being currently addressed based on the initiative of various sectors or CSOs/association.\n"
     ]
    },
    {
     "name": "stdout",
     "output_type": "stream",
     "text": [
      "Further, while there are a number of CSO/associations established to address these issues, many of these CSO/authorities lack technical and financial resources to be able to comprehensively address issue.\n"
     ]
    },
    {
     "name": "stdout",
     "output_type": "stream",
     "text": [
      "Also, there are very few studies, baseline data, surveys etc to get a clear understanding of the situation and to recommend appropriate interventions.\n"
     ]
    },
    {
     "name": "stdout",
     "output_type": "stream",
     "text": [
      "5.14.3 Strategies\n\nIn order to assess the current situation and plan appropriate interventions, a more detailed study on the issues will be carried out.\n"
     ]
    },
    {
     "name": "stdout",
     "output_type": "stream",
     "text": [
      "Within the framework of Civil Society Act 2007 and based on comparative advantage of the CSOs, the government will work in close partnership with the various CSOs to address these issues.\n"
     ]
    },
    {
     "name": "stdout",
     "output_type": "stream",
     "text": [
      "*****\n\n5.15  Sports\n\nRecognizing the positive contribution of games and sports in addressing lifestyle related health problems, strengthening community vitality, and preventing juvenile delinquency, amongst other benefits, the promotion and development of sports will be actively pursued in the Eleventh Plan.\n"
     ]
    },
    {
     "name": "stdout",
     "output_type": "stream",
     "text": [
      "While efforts to promote and develop sports date back to the early seventies with the establishment of the National Sports Association in 1972 and the Bhutan Olympic Committee (BOC) in November 1983, a focused and coherent development of sports has remained lacking.\n"
     ]
    },
    {
     "name": "stdout",
     "output_type": "stream",
     "text": [
      "To address this challenge, the BOC undertook a comprehensive situational analysis of the sports sector in 2009 and further, based on the first ever nation-wide Bhutan Sports Baseline Survey 2010 (BSBS, 2010) formulated a Strategic Road Map for the development of organized sports in Bhutan\n\nThe main thrust in the Eleventh Plan will be to establish a representative and organized sports sector that will be able to deliver sports and recreation to all and promote a vibrant sporting culture.\n"
     ]
    },
    {
     "name": "stdout",
     "output_type": "stream",
     "text": [
      "5.15.1 Current Situation\n\nThe Ministry of Education, BOC and its 15 affiliated National Sport Federations, volunteers and sports enthusiasts have been responsible for promoting sports in Bhutan.\n"
     ]
    },
    {
     "name": "stdout",
     "output_type": "stream",
     "text": [
      "The federations representing various sports are athletics, archery, badminton, basketball, boxing, body building and weight lifting, cricket, football, golf, indigenous games and sports, table tennis, taekwondo, tennis, shooting and volleyball.\n"
     ]
    },
    {
     "name": "stdout",
     "output_type": "stream",
     "text": [
      "About 80 percent of all existing sports facilities in the country are owned by schools and other institutions and many of these facilities are either poorly maintained or are not accessible to local communities.\n"
     ]
    },
    {
     "name": "stdout",
     "output_type": "stream",
     "text": [
      "In Thimphu, the BOC manages various sports facilities (the national stadium including the archery range, taekwondo training centre, Olympic archery range, synthetic athletic track and field arena, table tennis hall) even though BOC does not have legal ownership over these facilities.\n"
     ]
    },
    {
     "name": "stdout",
     "output_type": "stream",
     "text": [
      "5.15.2 Key Challenges\n\nThe major challenges include lack of infrastructure facilities, human resources capacity and financial sustainability.\n"
     ]
    },
    {
     "name": "stdout",
     "output_type": "stream",
     "text": [
      "5.15.3 Sector Key Result Areas\n\n5.15.4 Strategies\n\nThe main strategy will be the implementation of the \"Strategic Vision and Road Map for Development of Sports in Bhutan\" by the BOC.\n"
     ]
    },
    {
     "name": "stdout",
     "output_type": "stream",
     "text": [
      "The government will facilitate the implementation of the road map by ensuring enabling conditions for development of sports in the form of access to land, mainstreaming sports in sector/local government policies and programmes, incentives and participation in national, regional and international sporting events.\n"
     ]
    },
    {
     "name": "stdout",
     "output_type": "stream",
     "text": [
      "The focus is on strengthening our unique cultural identity to reinforce national cohesion and unity that are vital for peace, stability and sovereignty of our nation.\n"
     ]
    },
    {
     "name": "stdout",
     "output_type": "stream",
     "text": [
      "Bhutan's unique identity is reflected through its language, dress, architecture, etiquette, indigenous sports, and the everyday Bhutanese way of life.\n"
     ]
    },
    {
     "name": "stdout",
     "output_type": "stream",
     "text": [
      "The traditional beliefs and customs stress respect for all sentient beings and encourage values such as tolerance, compassion, respect, and generosity.\n"
     ]
    },
    {
     "name": "stdout",
     "output_type": "stream",
     "text": [
      "The Eleventh Plan also recognizes culture as an \"evolving dynamic force\" and the need \"to strengthen and facilitate the continued evolution of traditional values and institutions that are sustainable as a progressive society57\".\n"
     ]
    },
    {
     "name": "stdout",
     "output_type": "stream",
     "text": [
      "Futhermore, the preservation and promotion of culture is accorded priority not just for strengthening our identity but also as an economic imperative for tourism and to address poverty through the development of cultural industries.\n"
     ]
    },
    {
     "name": "stdout",
     "output_type": "stream",
     "text": [
      "5.16.1 Current Situation\n\n•\tGuidelines for conservation of heritage sites by all conservation projects have been developed and are under implementation.\n"
     ]
    },
    {
     "name": "stdout",
     "output_type": "stream",
     "text": [
      "•\tInstitutionalization of archaeology has been initiated with the establishment of an archaeology unit under the Ministry of Home & Cultural Affairs.\n"
     ]
    },
    {
     "name": "stdout",
     "output_type": "stream",
     "text": [
      "•\tBhutanese film and music industry is gaining increasing popularity and have completely edged out foreign films from local cinema halls.\n"
     ]
    },
    {
     "name": "stdout",
     "output_type": "stream",
     "text": [
      "Since the first film\n\nGasa Lamai Singye in 1988, the industry has now produced about 300 films with an average annual production of 30 films.\n"
     ]
    },
    {
     "name": "stdout",
     "output_type": "stream",
     "text": [
      "The industry is making significant contribution towards promotion of national language, culture and traditions and in conveying important social messages on HIV, drugs and youth related issues.\n"
     ]
    },
    {
     "name": "stdout",
     "output_type": "stream",
     "text": [
      "•\tCraft Bazaar, with 80 stalls, was established in Thimphu in 2011 to showcase a wide range of authentic Bhutanese arts and crafts.\n"
     ]
    },
    {
     "name": "stdout",
     "output_type": "stream",
     "text": [
      "It has facilitated in creation of a viable market for rural artisans to market their products.\n"
     ]
    },
    {
     "name": "stdout",
     "output_type": "stream",
     "text": [
      "The seal authenticates wholly produced and/or substantially transformed products with required minimum value addition within Bhutan.\n"
     ]
    },
    {
     "name": "stdout",
     "output_type": "stream",
     "text": [
      "•\tInterventions to set-up craft clusters based on regional comparative advantages, raw-material banks, design banks, product development and marketing are being undertaken by newly established Agency for Promotion of Indigenous Crafts.\n"
     ]
    },
    {
     "name": "stdout",
     "output_type": "stream",
     "text": [
      "5.16.2 Key Challenges\n\nOverall, a plan or framework which brings together in one place all aspects of culture and traditions as well as the gaps and challenges is lacking.\n"
     ]
    },
    {
     "name": "stdout",
     "output_type": "stream",
     "text": [
      "Some of our local dialects, songs, dances, lozeys, festivals and rituals are in danger of extinction as there are very few people to keep these traditions alive.\n"
     ]
    },
    {
     "name": "stdout",
     "output_type": "stream",
     "text": [
      "Those still practicing today are a small group of elderly people and together with them these traditions may also pass away one day.\n"
     ]
    },
    {
     "name": "stdout",
     "output_type": "stream",
     "text": [
      "The younger generations are either not keen or do not have the skills to continue these traditions, many having left their village, as a result of rural-urban migration.\n"
     ]
    },
    {
     "name": "stdout",
     "output_type": "stream",
     "text": [
      "Conservation, restoration, making these sites disaster resilience, inventorying of these monuments and capacity building in conservation practices have become necessary.\n"
     ]
    },
    {
     "name": "stdout",
     "output_type": "stream",
     "text": [
      "The investment required for these activities are substantial and could pose a challenge.\n"
     ]
    },
    {
     "name": "stdout",
     "output_type": "stream",
     "text": [
      "Cultural industries have the potential to contribute to poverty alleviation by enhancing rural incomes.\n"
     ]
    },
    {
     "name": "stdout",
     "output_type": "stream",
     "text": [
      "However, economies of scale, quality and access to markets are among the challenges that need to be addressed to harness this potential.\n"
     ]
    },
    {
     "name": "stdout",
     "output_type": "stream",
     "text": [
      "5.16.3 Sector Key Result Areas\n\n5.16.4 Strategies\n\n•\tA plan for promotion and preservation of culture and traditions in all its forms will be formulated to guide the development of this important area.\n"
     ]
    },
    {
     "name": "stdout",
     "output_type": "stream",
     "text": [
      "•\tThe inventory and documentation of oral traditions, history, arts and objects, living expressions, and architectural knowledge will be carried out.\n"
     ]
    },
    {
     "name": "stdout",
     "output_type": "stream",
     "text": [
      "•\tPerforming arts, social practices, tshechus, rituals and festivals will be preserved and promoted.\n"
     ]
    },
    {
     "name": "stdout",
     "output_type": "stream",
     "text": [
      "•\tExhibitions and colloquiums on culture, religions, traditions and living expressions will be conducted.\n"
     ]
    },
    {
     "name": "stdout",
     "output_type": "stream",
     "text": [
      "Eleventh Five Year Plan - Main Document Volume I\n\n•\tCultural heritage sites will be conserved and restored, incorporating disaster resilient measures.\n"
     ]
    },
    {
     "name": "stdout",
     "output_type": "stream",
     "text": [
      "•\tCapacity development for research and documentation on conservation and restoration measures will be carried out through trainings/workshops.\n"
     ]
    },
    {
     "name": "stdout",
     "output_type": "stream",
     "text": [
      "•\tTo promote cultural industries, access to finance, product development, raw material banks, craft clusters/craft bazaars and business incubators will be facilitated.\n"
     ]
    },
    {
     "name": "stdout",
     "output_type": "stream",
     "text": [
      "5.16.5 Key Programmes:\n\ni)\tPreservation and promotion of culture, DoC, MoHCA -\n\n•\tPreparation of a plan for promotion and preservation of culture and traditions\n\n•\tConstruction of Pemagatshel Dzong\n\n•\tConstruction of Sarpang Dzong\n\n•\tRe-construction of Wangduephodrang Dzong\n\n•\tConservation of Trashigang Dzong Conservation of Gasa Dzong\n\n•\tRenovation of Paro Ta Dzong\n\n•\tRenovation of Phajoding Goenpa\n\nii)\tExpansion of Tango Buddhist College (Spillover)\n\niii)\tDevelopment of Dzongkha Language, Dzongkha Development Commission\n\niv)\tPromotion and development of craft industry, DCSI, MoEA\n\nv)\tContemporary performing arts, art and music promoted to complement and enhance Bhutanese identity and culture, DoIM, MoIC\n\n*****\n\n5.17  Conservation of Environment\n\nThe conservation of environment (one of the four pillars of GNH) is an integral part of our development strategy to ensure that socio-economic development efforts do not come at the cost of our natural environment.\n"
     ]
    },
    {
     "name": "stdout",
     "output_type": "stream",
     "text": [
      "Bhutan issued a declaration during the Fifteenth Conference of Parties to the United Nations Framework Convention on Climate Change (UNFCCC) in 2009 in Copenhagen, Denmark.\n"
     ]
    },
    {
     "name": "stdout",
     "output_type": "stream",
     "text": [
      "Through the declaration entitled \"Declaration of the Kingdom of Bhutan - The Land of Gross National Happiness to Save our Planet\" the government has committed to maintain Bhutan's status as a net sink for Green House Gasses by ensuring that greenhouse gas emission levels do not exceed the sequestration capacity of its forest.\n"
     ]
    },
    {
     "name": "stdout",
     "output_type": "stream",
     "text": [
      "In this context, a National Strategy and Action Plan for Low Carbon Development has been formulated in 2012.\n"
     ]
    },
    {
     "name": "stdout",
     "output_type": "stream",
     "text": [
      "Bhutan has been able to maintain its natural environment, much of it pristine, due to its strong commitment towards conservation of environment and through enactment of various legislations such as National Environment Protection Act, 2007, Environmental Assessment Act 2000, Regulation for Environmental Clearance of Projects and Regulation on Strategic Environmental Assessment 2002, Waste Prevention and Management Act of Bhutan 2009, Waste Prevention and Management Regulation 2012 and Water Act of Bhutan 2011.\n"
     ]
    },
    {
     "name": "stdout",
     "output_type": "stream",
     "text": [
      "5.17.1 Current Situation\n\nCurrently, the national forest coverage is about 70.5 percent, which exceeds the Constitutional requirement of maintaining 60 percent forest coverage at all times.\n"
     ]
    },
    {
     "name": "stdout",
     "output_type": "stream",
     "text": [
      "The high level of forest coverage has allowed Bhutan to maintain negative carbon emissions.\n"
     ]
    },
    {
     "name": "stdout",
     "output_type": "stream",
     "text": [
      "Biological diversity - 51.32 percent of the country is under a protected area network which includes ten protected areas and biological corridors.\n"
     ]
    },
    {
     "name": "stdout",
     "output_type": "stream",
     "text": [
      "Bhutan also falls within the top ten global biodiversity hotspots.\n"
     ]
    },
    {
     "name": "stdout",
     "output_type": "stream",
     "text": [
      "The country has more than\n\n58Water and air pollution, land degradation and bio-diversity health.\n"
     ]
    },
    {
     "name": "stdout",
     "output_type": "stream",
     "text": [
      "Industrial area (200µg/ m3) *µg/ m3= Micro gram per meter cube\n\nStandards for PM10:\n\nAir Pollution Index - National\nEleventh Five Year Plan - Main Document Volume I\n\n5,600 species of vascular plants, 600 species of birds and 190 species of mammals.\n"
     ]
    },
    {
     "name": "stdout",
     "output_type": "stream",
     "text": [
      "26 species of mammals and 14 species of birds found in Bhutan feature in the World Conservation Union's Red List of Threatened Species59.\n"
     ]
    },
    {
     "name": "stdout",
     "output_type": "stream",
     "text": [
      "Air environment - Air environment to a large extent is still unpolluted.\n"
     ]
    },
    {
     "name": "stdout",
     "output_type": "stream",
     "text": [
      "Currently, monitoring of air quality is limited to suspended particulate matter (PM10), while SOx and NOx are monitored periodically.\n"
     ]
    },
    {
     "name": "stdout",
     "output_type": "stream",
     "text": [
      "The air quality monitoring stations have been established in Gomtu, Pasakha, Bajo, Kanglung, Kurichhu and Thimphu and data from these stations are broadcast on Bhutan Broadcasting Service Television (BBS TV) and websites of BBSC,\n\nKuensel and NEC for dissemination of information.\n"
     ]
    },
    {
     "name": "stdout",
     "output_type": "stream",
     "text": [
      "Thimphu recorded suspended particulate matter (SPM) of 45.80µg/m3 on 17/6/201360.\n"
     ]
    },
    {
     "name": "stdout",
     "output_type": "stream",
     "text": [
      "All rivers originate within the country except Amochhu, Gongri and Kurichhu all of which originate in the southern part of the Tibetan Plateau.\n"
     ]
    },
    {
     "name": "stdout",
     "output_type": "stream",
     "text": [
      "The National Environment Commission conducts water quality surveys and monitoring along major rivers and tributaries at least twice annually; pre- and post-monsoon.\n"
     ]
    },
    {
     "name": "stdout",
     "output_type": "stream",
     "text": [
      "The natural water quality can be characterized as highly oxygenated, slightly alkaline with low conductivity and no recorded salinities.\n"
     ]
    },
    {
     "name": "stdout",
     "output_type": "stream",
     "text": [
      "However, there are localized water pollution problems due to frequent unsanitary conditions along banks of streams and rivers (see box below).\n"
     ]
    },
    {
     "name": "stdout",
     "output_type": "stream",
     "text": [
      "Water Quality of Wangchhu, Thimphu.\n"
     ]
    },
    {
     "name": "stdout",
     "output_type": "stream",
     "text": [
      "The water quality assessment of Wangchhu which falls within the limits of the City periphery was conducted during the period March 5-9, 2012.\n"
     ]
    },
    {
     "name": "stdout",
     "output_type": "stream",
     "text": [
      "The river was investigated at three different stretches for water quality assessment viz.\n"
     ]
    },
    {
     "name": "stdout",
     "output_type": "stream",
     "text": [
      "Maximum permissible standard limit of faecal coliforms as recommended for Bhutan at final effluent from a sewerage treatment plant (STP) is 1,000 MPN/100 ml water.\n"
     ]
    },
    {
     "name": "stdout",
     "output_type": "stream",
     "text": [
      "At Cheri, the river was free from faecal coliforms.\n"
     ]
    },
    {
     "name": "stdout",
     "output_type": "stream",
     "text": [
      "A team also applied a bio-monitoring tool in the water quality assessment, which includes rapid field assessment of the quality of river considering bottom dwelling larvae of insects which are considered highly sensitive to the increase in pollution.\n"
     ]
    },
    {
     "name": "stdout",
     "output_type": "stream",
     "text": [
      "Results revealed no pollution (water quality class I) in Cheri, critical to heavy pollution (III/IV) in Babesa, and critical to moderate pollution (III/II) in Khasadrapchhu.\n"
     ]
    },
    {
     "name": "stdout",
     "output_type": "stream",
     "text": [
      "5.17.2 Key Challenges\n\nEnvironmental conservation is becoming increasingly challenging as we open up to meet the development needs of a growing population.\n"
     ]
    },
    {
     "name": "stdout",
     "output_type": "stream",
     "text": [
      "The key environmental challenges that the country faces relate to the nexus of environmental degradation, poverty and economic growth.\n"
     ]
    },
    {
     "name": "stdout",
     "output_type": "stream",
     "text": [
      "Population growth, increasing demand of natural resources, inappropriate technology and consumption choices, and pressures of development are the drivers of environmental degradation.\n"
     ]
    },
    {
     "name": "stdout",
     "output_type": "stream",
     "text": [
      "The ambient air and water quality, in general, still ranges from good to excellent but there are some pockets of urban and industrial areas where air and water quality is deteriorating due to vehicular and industrial pollution, construction activities, and unsanitary waste disposal.\n"
     ]
    },
    {
     "name": "stdout",
     "output_type": "stream",
     "text": [
      "It is also increasingly evident that poor environmental quality has adversely affected human health.\n"
     ]
    },
    {
     "name": "stdout",
     "output_type": "stream",
     "text": [
      "The environmental problems such as lack of access to adequate clean water, clean air and energy are closely linked to poverty.\n"
     ]
    },
    {
     "name": "stdout",
     "output_type": "stream",
     "text": [
      "Interventions such as reducing indoor air pollution, protecting sources of safe drinking water, protecting soil from contamination, improved sanitation measures, and better public health governance, offer tremendous opportunities for reducing the incidence of a number of critical health problems.\n"
     ]
    },
    {
     "name": "stdout",
     "output_type": "stream",
     "text": [
      "Although the Government has enacted Waste Prevention and Management Act in 2009 yet there are challenges in terms of proper waste management.\n"
     ]
    },
    {
     "name": "stdout",
     "output_type": "stream",
     "text": [
      "While there are some good practices being carried out on a pilot basis, lack of proper waste management, indiscriminate littering, open dumping of solid waste are some of the challenges faced which eventually pollutes natural environment posing serious hazards to public health.\n"
     ]
    },
    {
     "name": "stdout",
     "output_type": "stream",
     "text": [
      "With the ever increasing development activities and industries, a challenge to the environment and planning sector is the cumulative effect of the combined activities on the ecosystem within a given space.\n"
     ]
    },
    {
     "name": "stdout",
     "output_type": "stream",
     "text": [
      "The challenge of the task lies in the lack of capacity within the National Environment Commission to undertake such a huge activity.\n"
     ]
    },
    {
     "name": "stdout",
     "output_type": "stream",
     "text": [
      "Another major set of challenges arises from emerging global environmental concerns such as climate change, global warming, stratospheric ozone depletion, and biodiversity loss.\n"
     ]
    },
    {
     "name": "stdout",
     "output_type": "stream",
     "text": [
      "The key is to operationalize the principle of common but differentiated responsibility of countries in relation to these problems.\n"
     ]
    },
    {
     "name": "stdout",
     "output_type": "stream",
     "text": [
      "At the same time, multilateral regimes and programmes responding to these global environmental issues must not adversely impact the development opportunities of developing countries.\n"
     ]
    },
    {
     "name": "stdout",
     "output_type": "stream",
     "text": [
      "Water Security - Water is an important natural resource for basic survival of all living beings.\n"
     ]
    },
    {
     "name": "stdout",
     "output_type": "stream",
     "text": [
      "It is also a vital resource for our agriculture, hydropower projects and industries.\n"
     ]
    },
    {
     "name": "stdout",
     "output_type": "stream",
     "text": [
      "Bhutan has one of the world's highest per capita availability of water with long-term mean annual flow estimated at 73,000 million m3 per annum and the per capita water availability estimated at 100,000 m3.\n"
     ]
    },
    {
     "name": "stdout",
     "output_type": "stream",
     "text": [
      "On the demand side, the gross consumptive demand is estimated to increase from 422 million m3 in 2002 to 541 million m3 in 2022.\n"
     ]
    },
    {
     "name": "stdout",
     "output_type": "stream",
     "text": [
      "Non-consumptive demand, in the form of hydropower demand, is estimated to increase from 6,700 million m3 in 2002 to 26,900 million m3 in 202262.\n"
     ]
    },
    {
     "name": "stdout",
     "output_type": "stream",
     "text": [
      "While at macro level the per capita water availability is high, at local levels access to water is a serious concern with several places facing water shortages.\n"
     ]
    },
    {
     "name": "stdout",
     "output_type": "stream",
     "text": [
      "Only 78 percent of the population has access to safe drinking water and about 12.5 percent of arable land is irrigated63.\n"
     ]
    },
    {
     "name": "stdout",
     "output_type": "stream",
     "text": [
      "The 2002 water supply adequacy analysis carried out in 28 urban towns, as part of Water Resource Management Plan preparation, revealed that 11 towns faced water shortages and another seven more towns would face water constraints by 201364.\n"
     ]
    },
    {
     "name": "stdout",
     "output_type": "stream",
     "text": [
      "Similarly, despite abundance of water resources at macro level, arable land is largely dependent on rains.\n"
     ]
    },
    {
     "name": "stdout",
     "output_type": "stream",
     "text": [
      "In the absence of rain, farmers are forced to leave their land fallow and this has direct impact on poverty and national food and nutrition security goals.\n"
     ]
    },
    {
     "name": "stdout",
     "output_type": "stream",
     "text": [
      "Many irrigation channels constructed in the past remains unutilized due to lack of water.\n"
     ]
    },
    {
     "name": "stdout",
     "output_type": "stream",
     "text": [
      "However, the level of revenue it contributes depends on hydrological factors.\n"
     ]
    },
    {
     "name": "stdout",
     "output_type": "stream",
     "text": [
      "In 2011, electricity sector experienced negative growth mainly due to hydrological risk.\n"
     ]
    },
    {
     "name": "stdout",
     "output_type": "stream",
     "text": [
      "Recognizing the importance of water, the government enacted Water Act in 2011 and formulated of Water Vision 2025 and Water Policy.\n"
     ]
    },
    {
     "name": "stdout",
     "output_type": "stream",
     "text": [
      "To achieve food security, addressing this issue will be essential.\n"
     ]
    },
    {
     "name": "stdout",
     "output_type": "stream",
     "text": [
      "5.17.3\tSector Key Result Areas\n\n5.17.4 Strategies\n\nThe key strategies include:\n\n•\tImplementation of the National Strategy and Action Plan for Low Carbon Development 2012.\n"
     ]
    },
    {
     "name": "stdout",
     "output_type": "stream",
     "text": [
      "•\tMainstreaming of environment across all sectoral and local government programmes and projects.\n"
     ]
    },
    {
     "name": "stdout",
     "output_type": "stream",
     "text": [
      "In this context, the Eleventh Plan SKRAs are formulated based on the four pillars of GNH and this requires all sectors/ local governments to address environmental issues.\n"
     ]
    },
    {
     "name": "stdout",
     "output_type": "stream",
     "text": [
      "A mainstreaming framework has been developed to guide sectors and local governments in the integration of cross cutting issues in plans, programmes and activities.\n"
     ]
    },
    {
     "name": "stdout",
     "output_type": "stream",
     "text": [
      "Eleventh Five Year Plan - Main Document Volume I\n\n•\tWater security will be strengthened through the development of integrated water resource management plan and better coordination.\n"
     ]
    },
    {
     "name": "stdout",
     "output_type": "stream",
     "text": [
      "This will be further supported through the enforcement of Water Act and development of water regulation.\n"
     ]
    },
    {
     "name": "stdout",
     "output_type": "stream",
     "text": [
      "•\tEnvironmental assessment process will be strengthened through establishment of four regional environment offices which also aims to deliver prompt, professional and effective public services.\n"
     ]
    },
    {
     "name": "stdout",
     "output_type": "stream",
     "text": [
      "•\tConducting strategic environmental assessment for hydropower projects and transmission lines and carrying capacity of the mines and industries to ensure sustainable development and inter-generational equity.\n"
     ]
    },
    {
     "name": "stdout",
     "output_type": "stream",
     "text": [
      "•\tSustainable production and utilization of timber and non-timber forest based products will be pursued through sustainable forestry management practices.\n"
     ]
    },
    {
     "name": "stdout",
     "output_type": "stream",
     "text": [
      "•\tTo address the issue of human-wildlife conflict, the Ministry of Agriculture and Forest will construct solar-powered electric fence, provide electric fence energizer and will continue with Gewog level insurance programs for livestock and crops from endowment funds.\n"
     ]
    },
    {
     "name": "stdout",
     "output_type": "stream",
     "text": [
      "*****\n\n5.18 Good Governance\n\nThe fourth pillar of GNH is Good Governance as it provides an enabling environment that is vital for sustainable and equitable socio-economic development.\n"
     ]
    },
    {
     "name": "stdout",
     "output_type": "stream",
     "text": [
      "The Eleventh Plan will continue to place emphasis on further strengthening governance by strengthening democracy, improving public service delivery, promoting gender equality, curbing corruption and enhancing safety.\n"
     ]
    },
    {
     "name": "stdout",
     "output_type": "stream",
     "text": [
      "5.18.1 Current Situation\n\nDemocracy and Decentralization - The second Parliamentary elections was held on 13 July 2013 and the Peoples Democratic Party was elected to form the second government for a term of five years.\n"
     ]
    },
    {
     "name": "stdout",
     "output_type": "stream",
     "text": [
      "Further, the Parliament passed the Local Government Act 2009, which translated the important constitutional principle of decentralized governance into law and mandated the formation of local governments for the development, management and administration of areas under their jurisdiction.\n"
     ]
    },
    {
     "name": "stdout",
     "output_type": "stream",
     "text": [
      "Accordingly, the first local government elections were held in 2011 and the next local government elections are scheduled to be held in 2016.\n"
     ]
    },
    {
     "name": "stdout",
     "output_type": "stream",
     "text": [
      "Also, the government has initiated number of proactive measures to further strengthen the process of decentralization, including the introduction of Gewog Based Planning process in the Ninth Plan and the rationalized formula based annual grants system for all local government from the Tenth Plan.\n"
     ]
    },
    {
     "name": "stdout",
     "output_type": "stream",
     "text": [
      "The formula for local government annual grants was reviewed and revised64 and the Eleventh Plan resource envelop to the local governments are based on the revised resource allocation formula.\n"
     ]
    },
    {
     "name": "stdout",
     "output_type": "stream",
     "text": [
      "Public Service Management - To promote meritocracy, enhance efficiency, transparency, professionalism and accountability in the civil service, number of civil service reforms have been implemented such as the Position Classification System in 2006, the Civil Service Act 2010 and the revised Civil Service Rules and Regulations 2012.\n"
     ]
    },
    {
     "name": "stdout",
     "output_type": "stream",
     "text": [
      "Currently, there are 24,275 civil servants providing public services delivery.\n"
     ]
    },
    {
     "name": "stdout",
     "output_type": "stream",
     "text": [
      "64Revised resource allocation formula includes multi-dimensional poverty index, transport cost index, population and geographical area.\n"
     ]
    },
    {
     "name": "stdout",
     "output_type": "stream",
     "text": [
      "In addition, to strengthen performance of government agencies, the Government Performance Management System (GPMS) has been developed, Agencification Guidelines framed and 136 most commonly availed Government to Citizen Services - G2C services such as birth and death registration, trade licenses, timber permit etc - simplified and automated.\n"
     ]
    },
    {
     "name": "stdout",
     "output_type": "stream",
     "text": [
      "Gender equality - The Constitution guarantees equality for all its citizens including women.\n"
     ]
    },
    {
     "name": "stdout",
     "output_type": "stream",
     "text": [
      "Furthermore, it contains special provisions to eliminate all forms of discrimination and exploitation65 against women including trafficking, prostitution, abuse, violence, harassment, intimidation, degrading treatment and economic exploitation.\n"
     ]
    },
    {
     "name": "stdout",
     "output_type": "stream",
     "text": [
      "In the area of inheritance, traditional customs favour women who have greater access to land and ownership.\n"
     ]
    },
    {
     "name": "stdout",
     "output_type": "stream",
     "text": [
      "Although female literacy rate has improved from less than 40 percent in 2010 to 55 percent68 in 2012, it remains low compared to the male literacy rate of 72 percent.\n"
     ]
    },
    {
     "name": "stdout",
     "output_type": "stream",
     "text": [
      "This indicates that on the whole, the correct proportions of females in relation to males are enrolled in the education system and there is no gender inequality in the Bhutanese education system.\n"
     ]
    },
    {
     "name": "stdout",
     "output_type": "stream",
     "text": [
      "In absolute terms, the number of female civil servants increased from 2,180 in 1996 to 7,926 in 2012.\n"
     ]
    },
    {
     "name": "stdout",
     "output_type": "stream",
     "text": [
      "Curbing corruption - In an effort to curb corruption, the Anti-Corruption Act 2011\n\n- ACA 2011 (repealing ACA 2006) was enacted, various new rules and regulations such as such Gift Rules 2009, The Debarment (of Corrupt Firms) Rules 2008 and Asset Declaration Rule 2012 have been put in place and the National Anti Corruption Strategy launched.\n"
     ]
    },
    {
     "name": "stdout",
     "output_type": "stream",
     "text": [
      "Transparency International's 2012 Corruption Perception Index ranked Bhutan 33rd among the 176 nations, an improvement of five positions from 38th in 2011.\n"
     ]
    },
    {
     "name": "stdout",
     "output_type": "stream",
     "text": [
      "Similarly, the ACC's 2012-13 annual report indicates that corruption is still a major challenge although people's perception of the prevalence of corruption is declining.\n"
     ]
    },
    {
     "name": "stdout",
     "output_type": "stream",
     "text": [
      "In 2012-2013, ACC received 449 complaints compared to 458 cases in the previous year.\n"
     ]
    },
    {
     "name": "stdout",
     "output_type": "stream",
     "text": [
      "5.18.2 Key Challenges\n\nDemocracy and Decentralization - Democracy was introduced in Bhutan in 2008, and a democratic culture has yet to find firm footing.\n"
     ]
    },
    {
     "name": "stdout",
     "output_type": "stream",
     "text": [
      "The Democracy Index produced by the Economist Intelligence Unit ranks Bhutan 104 out of 167 countries in 2011.\n"
     ]
    },
    {
     "name": "stdout",
     "output_type": "stream",
     "text": [
      "One area Bhutan scores low is the political participation.\n"
     ]
    },
    {
     "name": "stdout",
     "output_type": "stream",
     "text": [
      "The concern with this is if the citizens stop participating in the political process, for example not voting, then that system loses legitimacy since it is hard for it to claim that it has a political mandate of the majority of the people.\n"
     ]
    },
    {
     "name": "stdout",
     "output_type": "stream",
     "text": [
      "Therefore, education and awareness and enhancing participation particularly of youth, women and disadvantaged groups are vital.\n"
     ]
    },
    {
     "name": "stdout",
     "output_type": "stream",
     "text": [
      "To strengthen the process of decentralization, administrative and fiscal devolution of authority alone is not sufficient but of equal importance is to build the capacity of those at the grassroots to plan, implement and monitor development activities.\n"
     ]
    },
    {
     "name": "stdout",
     "output_type": "stream",
     "text": [
      "Human resource strengthening at local levels both in terms of numbers and technical skills will be critical.\n"
     ]
    },
    {
     "name": "stdout",
     "output_type": "stream",
     "text": [
      "At the same time, efforts will be made to deepen fiscal decentralization such as selected revenue sharing so as to create incentives for local governments to promote more commercial activities.\n"
     ]
    },
    {
     "name": "stdout",
     "output_type": "stream",
     "text": [
      "Public Service Management - While a number of initiatives has been implemented in the past to improve public service management, efficiency, performance and public service delivery remains a challenge.\n"
     ]
    },
    {
     "name": "stdout",
     "output_type": "stream",
     "text": [
      "The rapid growth of civil service, which averaged 4 percent per annum during the last five years, and high costs, amounting to about 45 percent of the total recurrent expenditures, is a concern.\n"
     ]
    },
    {
     "name": "stdout",
     "output_type": "stream",
     "text": [
      "The turn-around time for many of the public services to its citizens, businesses and intra government services remain high and inefficient.\n"
     ]
    },
    {
     "name": "stdout",
     "output_type": "stream",
     "text": [
      "Enhancing government performance and reducing the turn-around time for public service delivery (G2C, G2B and G2G) will be key priorities.\n"
     ]
    },
    {
     "name": "stdout",
     "output_type": "stream",
     "text": [
      "Gender - Female participation in elected offices, ratio of female to male in tertiary education, female youth unemployment and gender sensitive policies and working environment are some of the challenges in ensuring gender equality.\n"
     ]
    },
    {
     "name": "stdout",
     "output_type": "stream",
     "text": [
      "Corruption - While the ACC's 2012-13 annual report indicates that people's perception of the prevalence of corruption is declining it is still a challenge.\n"
     ]
    },
    {
     "name": "stdout",
     "output_type": "stream",
     "text": [
      "The major areas of concerns are the misuse of authority, misuse of government property, embezzlement and nepotism.\n"
     ]
    },
    {
     "name": "stdout",
     "output_type": "stream",
     "text": [
      "5.18.4 Strategies\n\n•\tEducation, awareness and capacity building will be one of the key strategies to enhance political participation, particularly the youth and women.\n"
     ]
    },
    {
     "name": "stdout",
     "output_type": "stream",
     "text": [
      "•\tThe capacity of the local governments will be strengthened through training, deployment of adequate number of technically qualified personnel and ensuring minimum facilities are available.\n"
     ]
    },
    {
     "name": "stdout",
     "output_type": "stream",
     "text": [
      "•\tA legislation to ensure quota for women in elected offices including the parliament and local government bodies will be drafted and presented to the Parliament.\n"
     ]
    },
    {
     "name": "stdout",
     "output_type": "stream",
     "text": [
      "•\tCivil service rules and regulations will be reviewed and revised to make civil service more efficient.\n"
     ]
    },
    {
     "name": "stdout",
     "output_type": "stream",
     "text": [
      "•\tThe government will ensure full implementation of the National Anti-corruption strategy and agencies combating corruption will be strengthened and equipped with adequate resources.\n"
     ]
    }
   ],
   "source": [
    "import pandas as pd \n",
    "result2 = pd.DataFrame()\n",
    "i = 0\n",
    "\n",
    "for s in sen: \n",
    "    if mySim(target1_1, s, sigma=0.4):\n",
    "        result.loc[i, 'text'] = s\n",
    "        result.loc[i, 'score'] = concept_matching(goal1_1, s, sigma=0.4)\n",
    "        i += 1\n",
    "        print(s)\n",
    "result2.to_csv('test2.csv')"
   ]
  },
  {
   "cell_type": "code",
   "execution_count": 105,
   "metadata": {},
   "outputs": [],
   "source": [
    "result.to_csv('test2.csv')"
   ]
  },
  {
   "cell_type": "code",
   "execution_count": null,
   "metadata": {},
   "outputs": [],
   "source": [
    ""
   ]
  },
  {
   "cell_type": "code",
   "execution_count": null,
   "metadata": {},
   "outputs": [],
   "source": [
    ""
   ]
  },
  {
   "cell_type": "code",
   "execution_count": null,
   "metadata": {},
   "outputs": [],
   "source": [
    "'''\n",
    "    count = len(concept_x)\n",
    "    total = 0\n",
    "    \n",
    "    m = len(concept_p)\n",
    "    n = len(concept_r)\n",
    "\n",
    "    if count == 0:\n",
    "        sim_score_0 = 0\n",
    "\n",
    "    elif count % 2 == 0 or count == 1:\n",
    "        for position, word in enumerate(concept_x):\n",
    "            total += abs(position - concept_y.index(dic[word]))\n",
    "\n",
    "        sim_score_0 = 1 - 2 * total / count ** 2\n",
    "\n",
    "    else:\n",
    "        for position, word in enumerate(concept_x):\n",
    "            total += abs(position - concept_y.index(dic[word]))\n",
    "\n",
    "        sim_score_0 = 1 - 2 * total / (count ** 2 - 1)\n",
    "\n",
    "    S = ((m + n) / (2 * m * n)) * (count * (1 - w * (1 - sim_score_0)))\n",
    "\n",
    "    return S\n",
    "'''"
   ]
  }
 ],
 "metadata": {
  "kernelspec": {
   "display_name": "Python 2",
   "language": "python",
   "name": "python2"
  },
  "language_info": {
   "codemirror_mode": {
    "name": "ipython",
    "version": 2.0
   },
   "file_extension": ".py",
   "mimetype": "text/x-python",
   "name": "python",
   "nbconvert_exporter": "python",
   "pygments_lexer": "ipython2",
   "version": "2.7.6"
  }
 },
 "nbformat": 4,
 "nbformat_minor": 0
}